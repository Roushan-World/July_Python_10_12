{
 "cells": [
  {
   "cell_type": "markdown",
   "id": "2c73a796",
   "metadata": {},
   "source": [
    "# 7. Conditions in Python\n",
    "\n",
    "# Comparison operators\n",
    "\n",
    " * __Comparison operations compare some value or operand and based on a condition, produce a Boolean. Python has six comparison operators as below.__\n",
    " * __Less than(<)__\n",
    " * __Less than or equal to(<=)__\n",
    " * __Greater than (>)__\n",
    " * __Greater than or equal to(>=)__\n",
    " * __Equal to(==)__\n",
    " * __Not equal to(!=)__"
   ]
  },
  {
   "cell_type": "code",
   "execution_count": 6,
   "id": "8e5df0c3",
   "metadata": {},
   "outputs": [
    {
     "name": "stdout",
     "output_type": "stream",
     "text": [
      "True\n",
      "True\n",
      "False\n",
      "False\n",
      "True\n",
      "False\n"
     ]
    }
   ],
   "source": [
    "number=1.618\n",
    "\n",
    "\n",
    "print(number<2)\n",
    "print(number<=2)\n",
    "print(number>2)\n",
    "print(number>=2)\n",
    "print(number==1.618)\n",
    "print(number!=1.618)"
   ]
  },
  {
   "cell_type": "markdown",
   "id": "40067b79",
   "metadata": {},
   "source": [
    "# Branching(if,elif,else)\n",
    "\n",
    " * __Decision making is required when we want ot execute a code only if a certain condition is satisfied.__\n",
    " * __The if/elif/else statement is used in Python for decision making.__\n",
    " * __An else statement can be combined with an if statement.__\n",
    " * __An else statement contains the blcok of code that executes if the conditional expression in the if statement resolves to 0 or a False value.__\n",
    " * __The else statement is an optional statement and there could be at most only one else statement following if.__\n",
    " * __The elif statement allows you to check multiple expressions for True and execute a block of code as soon as one of the conditions evaluates to True.__\n",
    " * __Similar to the else, the elif statement is optional.__\n",
    " * __However, unlike else, for which there can be at most one statement, there can be an arbitratry number of elif statements following an if.__"
   ]
  },
  {
   "cell_type": "code",
   "execution_count": 11,
   "id": "cf25b67d",
   "metadata": {},
   "outputs": [
    {
     "name": "stdout",
     "output_type": "stream",
     "text": [
      "The number pi 3.147 is greater than the ratio 1.618.\n"
     ]
    }
   ],
   "source": [
    "pi=3.147\n",
    "ratio=1.618\n",
    "\n",
    "if pi>ratio:\n",
    "    print(f'The number pi {pi} is greater than the ratio {ratio}.')   # f-string\n",
    "else:\n",
    "    print('Done')"
   ]
  },
  {
   "cell_type": "code",
   "execution_count": 13,
   "id": "728250cd",
   "metadata": {},
   "outputs": [
    {
     "name": "stdout",
     "output_type": "stream",
     "text": [
      "You should go to kindergarten.\n"
     ]
    }
   ],
   "source": [
    "age=5\n",
    "\n",
    "if age>6:\n",
    "    print('You can go to primary school.')\n",
    "    \n",
    "elif age==5:\n",
    "    print('You should go to kindergarten.')\n",
    "    \n",
    "else:\n",
    "    print('you are a baby')"
   ]
  },
  {
   "cell_type": "code",
   "execution_count": 17,
   "id": "491d33de",
   "metadata": {},
   "outputs": [
    {
     "name": "stdout",
     "output_type": "stream",
     "text": [
      "Enter your Child age:\n",
      "5\n",
      "You should go to kindergarten.\n"
     ]
    }
   ],
   "source": [
    "age=int(input('Enter your Child age:\\n'))\n",
    "\n",
    "\n",
    "if age>6:\n",
    "    print('You can go to primary school.')\n",
    "elif age==5:\n",
    "    print('You should go to kindergarten.')\n",
    "else:\n",
    "    print('You are a baby')"
   ]
  },
  {
   "cell_type": "code",
   "execution_count": 18,
   "id": "1a2f086d",
   "metadata": {},
   "outputs": [
    {
     "name": "stdout",
     "output_type": "stream",
     "text": [
      "What is your age :45\n",
      "you are eligible for voting\n"
     ]
    }
   ],
   "source": [
    "# Write a program to verify your are elegible for voting or not.\n",
    "age=int(input('What is your age :'))\n",
    "\n",
    "if age>=18:\n",
    "    print('you are eligible for voting')\n",
    "\n",
    "else:\n",
    "    print('you are not eligible for voting')"
   ]
  },
  {
   "cell_type": "code",
   "execution_count": 22,
   "id": "56403d8c",
   "metadata": {},
   "outputs": [
    {
     "name": "stdout",
     "output_type": "stream",
     "text": [
      "Enter any number:\n",
      "13\n",
      "Odd number\n"
     ]
    }
   ],
   "source": [
    "# Write a program to check whether a number is entered by a user is even or odd.\n",
    "\n",
    "num=int(input('Enter any number:\\n'))\n",
    "\n",
    "if num%2==0:\n",
    "    print('Even number')\n",
    "else:\n",
    "    print('Odd number')"
   ]
  },
  {
   "cell_type": "code",
   "execution_count": null,
   "id": "e1c49fdd",
   "metadata": {},
   "outputs": [],
   "source": [
    "# Write a program to accept the age of 2 people and display the youngest one."
   ]
  },
  {
   "cell_type": "code",
   "execution_count": 23,
   "id": "a41e95cb",
   "metadata": {},
   "outputs": [
    {
     "name": "stdout",
     "output_type": "stream",
     "text": [
      "enter the age of 1st person : 12\n",
      "enter the age of 2nd person : 13\n",
      "enter the age of 2nd person : 14\n",
      "A = 12\n",
      "B = 13\n",
      "C = 14\n",
      "c is greater than A and B\n"
     ]
    }
   ],
   "source": [
    "a=int(input('enter the age of 1st person : '))\n",
    "b=int(input('enter the age of 2nd person : '))\n",
    "c=int(input('enter the age of 2nd person : '))\n",
    "\n",
    "print(\"A =\",a)\n",
    "print(\"B =\",b)\n",
    "print(\"C =\",c)\n",
    "\n",
    "if a>b and a>c:\n",
    "    print('A is greater than B and C')\n",
    "    \n",
    "elif b>a and b>c:\n",
    "    print('B is greater than A and C')\n",
    "\n",
    "else:\n",
    "    print('c is greater than A and B')"
   ]
  },
  {
   "cell_type": "code",
   "execution_count": 29,
   "id": "4548e969",
   "metadata": {},
   "outputs": [
    {
     "name": "stdout",
     "output_type": "stream",
     "text": [
      "Enter a number :6\n",
      "SATURDAY\n"
     ]
    }
   ],
   "source": [
    "# write a program to display the weekdays if your press 1 it display Monday,2=Tuesday etc.\n",
    "\n",
    "a=int(input('Enter a number :'))\n",
    "   \n",
    "if a==1:     \n",
    "      print(\"MONDAY\")\n",
    "    \n",
    "elif a==2:\n",
    "    print(\"TUESDAY\")\n",
    "    \n",
    "elif a==3:\n",
    "    print(\"WEDNSDAY\")\n",
    "      \n",
    "elif a==4:\n",
    "    print(\"THURDAY\")\n",
    "      \n",
    "elif a==5:\n",
    "    print(\"FRIDAY\")\n",
    "      \n",
    "elif a==6:\n",
    "    print(\"SATURDAY\")\n",
    "      \n",
    "elif a==7:\n",
    "    print(\"SUNDAY\")\n",
    "      \n",
    "else:\n",
    "      print(\" wrong number pressed\")"
   ]
  },
  {
   "cell_type": "code",
   "execution_count": 30,
   "id": "5d9cb7d0",
   "metadata": {},
   "outputs": [
    {
     "name": "stdout",
     "output_type": "stream",
     "text": [
      "Enter a number :2\n",
      " 2 number month is FEBRUARY\n"
     ]
    }
   ],
   "source": [
    "# Write a program to display the month name if you press 1='January' 2='February'  etc.\n",
    "\n",
    "a=int(input('Enter a number :'))\n",
    "   \n",
    "if a==1:     \n",
    "      print(f\" {a} number month is JANUARY\")\n",
    "    \n",
    "elif a==2:\n",
    "    print(f\" {a} number month is FEBRUARY\")\n",
    "    \n",
    "elif a==3:\n",
    "    print(f\" {a} number month is MARCH\")\n",
    "      \n",
    "elif a==4:\n",
    "    print(f\" {a} number month is APRIL\")\n",
    "      \n",
    "elif a==5:\n",
    "    print(f\" {a} number month is MAY\")\n",
    "      \n",
    "elif a==6:\n",
    "    print(f\" {a} number month is JUNE\")\n",
    "      \n",
    "elif a==7:\n",
    "    print(f\" {a} number month is JULY\")\n",
    "        \n",
    "elif a==8:\n",
    "    print(f\" {a} number month is AUGUST\")\n",
    "    \n",
    "elif a==9:\n",
    "    print(f\" {a} number month is SEPTEMBER\")\n",
    "    \n",
    "elif a==10:\n",
    "    print(f\" {a} number month is OCTOBER\")\n",
    "    \n",
    "elif a==11:\n",
    "    print(f\" {a} number month is NOVEMBER\")\n",
    "    \n",
    "elif a==12:\n",
    "    print(f\" {a} number month is DECEMBER\")\n",
    "      \n",
    "else:\n",
    "      print(\" wrong number pressed\")"
   ]
  },
  {
   "cell_type": "code",
   "execution_count": 43,
   "id": "66dfc26f",
   "metadata": {},
   "outputs": [
    {
     "name": "stdout",
     "output_type": "stream",
     "text": [
      "Enter a number :\n",
      "54\n",
      "54 is not divisible by both 7 and 8\n"
     ]
    }
   ],
   "source": [
    "# Write a program to check whether a number is divisible by 7,or 8\n",
    "\n",
    "\n",
    "a=int(input(\"Enter a number :\\n\"))\n",
    "\n",
    "if a%7==0  and a%8==0:\n",
    "    print(f\" {a} is divisible by 7 and  8 both\")\n",
    "elif a%7==0:\n",
    "    print(f\"{a} is divible by 7 Not 8\")\n",
    "elif a%8==0:\n",
    "    print(f\"{a} is divible by 8 Not 7\")\n",
    "else:\n",
    "    print(f'{a} is not divisible by both 7 and 8')"
   ]
  },
  {
   "cell_type": "code",
   "execution_count": 58,
   "id": "489fc826",
   "metadata": {},
   "outputs": [
    {
     "name": "stdout",
     "output_type": "stream",
     "text": [
      "Enter a number :\n",
      "49\n",
      "49 is divisible by 7 only not 3 and 5\n"
     ]
    }
   ],
   "source": [
    "# Write a program to check the number is divisible by 3,5,7?\n",
    "a=int(input(\"Enter a number :\\n\"))\n",
    "\n",
    "if a%3==0  and a%5==0 and a%7==0:\n",
    "    print(f\" {a} is divisible by 3,5 and 7\")\n",
    "  \n",
    "\n",
    "elif a%3==0 and a%5==0 and a%7!=0:   \n",
    "    print(f\"{a} is divible by 3 and 5, not 7\")\n",
    "elif a%3==0 and a%5!=0 and a%7!=0:\n",
    "    print(f'{a} is divisible by 3 only not 5 and 7')\n",
    "elif a%3!=0 and a%5==0 and a%7!=0:\n",
    "    print(f'{a} is divisible by 5 only not 3 and 7')\n",
    "elif a%3!=0 and a%5!=0 and a%7==0:\n",
    "    print(f'{a} is divisible by 7 only not 3 and 5')\n",
    "elif a%7==0 and a%5==0 :   \n",
    "    print(f\"{a} is divible by 5 and 7, not 3\")\n",
    "    \n",
    "elif a%3==0 and a%7==0:   \n",
    "    print(f\"{a} is divible by 3 and 7, not 5\")\n",
    "    \n",
    "else :\n",
    "    print(f\"{a} is not divisible by 3,5 and 7 \")"
   ]
  },
  {
   "cell_type": "code",
   "execution_count": 6,
   "id": "b359100f",
   "metadata": {},
   "outputs": [
    {
     "name": "stdout",
     "output_type": "stream",
     "text": [
      "Enter your percentage :40\n",
      "Your grade is 'D'\n"
     ]
    }
   ],
   "source": [
    "# Write a program to accept the percentage from the user and displys the grade according to the percentage.\n",
    "\n",
    "# Percentage ------------> Grade\n",
    "# >90 -------------------> \"A\"\n",
    "# >80 and <=90-----------> \"B\"\n",
    "# >60 and <=80-----------> \"C\"\n",
    "# Below 60---------------> \"D\"\n",
    "\n",
    "a=int(input(\"Enter your percentage :\"))\n",
    "\n",
    "if a>90:\n",
    "    print(\"Your grade is 'A'\")\n",
    "    \n",
    "elif a<=90 and a>80:\n",
    "    print(\"Your grade is 'B'\")\n",
    "    \n",
    "elif a<=80 and a>60:\n",
    "    print(\"Your grade is 'C'\")\n",
    "    \n",
    "elif a<60:\n",
    "    print(\"Your grade is 'D'\")\n",
    "    \n",
    "  \n",
    "else:\n",
    "    print(\"Invalid percentage\")"
   ]
  },
  {
   "cell_type": "code",
   "execution_count": 16,
   "id": "34481a8f",
   "metadata": {},
   "outputs": [
    {
     "name": "stdout",
     "output_type": "stream",
     "text": [
      "Please enter your City name: \n",
      "agra\n",
      " Monument of agra is : Tajmahal\n"
     ]
    }
   ],
   "source": [
    "# Accept any city from the user and displays monumnet of the city.\n",
    "\n",
    "'''' \n",
    "City--------------------------> Monument\n",
    "Delhi-------------------------> \"RedFort\"\n",
    "Agra--------------------------> \"TajMahal\"\n",
    "Jaipur------------------------> \"JalMahal, HawaMahal\"\n",
    "Amritsar----------------------> \"Golden Temple\"\n",
    "Madurai-----------------------> \"Meenakshi Temple\"\n",
    "Mysore------------------------> \"Mysore Palace\"\n",
    "Mumbai------------------------> \"Gateway of India\"\n",
    "Sanchi------------------------> \"Sanchi Stupa\"\n",
    "Hydrabad----------------------> \"Charminar\"\n",
    "'''\n",
    "\n",
    "a=input(\"Please enter your City name: \\n\")\n",
    "\n",
    "if a.lower()=='delhi':\n",
    "    print(f\" Monument of {a} is : Redfort\")\n",
    "    \n",
    "elif a.lower()=='agra':\n",
    "    print(f\" Monument of {a} is : Tajmahal\")\n",
    "    \n",
    "elif a.lower()=='jaipur':\n",
    "    print(f\" Monument of {a} is : Jalmahal and Hawamahal\")\n",
    "    \n",
    "elif a.lower()=='amritsar':\n",
    "    print(f\" Monument of {a} is : Golden temple\")\n",
    "    \n",
    "elif a.lower()=='madurai':\n",
    "    print(f\" Monument of {a} is : Meenakshi temple\")\n",
    "    \n",
    "elif a.lower()=='mysore':\n",
    "    print(f\" Monument of {a} is : Mysore palace\")\n",
    "    \n",
    "elif a.lower()=='mumbai':\n",
    "    print(f\" Monument of {a} is : Gateway of India\")\n",
    "else:\n",
    "    print('PLEASE! ENTER CORRECT CITY NAME.')"
   ]
  },
  {
   "cell_type": "code",
   "execution_count": 23,
   "id": "5bcc863e",
   "metadata": {},
   "outputs": [
    {
     "name": "stdout",
     "output_type": "stream",
     "text": [
      "Please enter the age of 1st person :7\n",
      "Please enter the age of 2nd person :9\n",
      "Please enter the age of 3rd person :45\n",
      " 45 years older person than all\n"
     ]
    }
   ],
   "source": [
    "# Accept the age of 3 people and display the elder one.\n",
    "\n",
    "a=int(input(\"Please enter the age of 1st person :\"))\n",
    "b=int(input(\"Please enter the age of 2nd person :\"))\n",
    "c=int(input(\"Please enter the age of 3rd person :\"))\n",
    "\n",
    "\n",
    "if a>b  and a>c:\n",
    "    print(f\" {a} years older person than all\" )\n",
    "    \n",
    "    \n",
    "elif b>a and b>c:   \n",
    "    print(f\" {b} years older person than all\" )\n",
    "          \n",
    "          \n",
    "elif c>a and c>b:   \n",
    "    print(f\" {c} years older person than all\" )\n",
    "    \n",
    "       \n",
    "else :\n",
    "    print(\"Invalid entry \")"
   ]
  },
  {
   "cell_type": "code",
   "execution_count": 30,
   "id": "92d3a3f5",
   "metadata": {},
   "outputs": [
    {
     "name": "stdout",
     "output_type": "stream",
     "text": [
      "Enter the Length of a Rectangle : @34\n",
      "Please Enter Correct Value\n"
     ]
    }
   ],
   "source": [
    "# Take values of length and breadth of a rectangle from the user and check if it is rectange or square.\n",
    "try:\n",
    "    a=float(input(\"Enter the Length of a Rectangle : \"))\n",
    "    b=float(input(\"Enter the Breadth of a Rectangle : \"))\n",
    "    if a==b:\n",
    "        print(f\"It is a Square of a side {a} cm\")\n",
    "    elif a!=b:\n",
    "        print(f\"It is a Rectangle of a length {a} cm and breadth {b}\")\n",
    "except ValueError:\n",
    "    print('Please Enter Correct Value')\n"
   ]
  },
  {
   "cell_type": "code",
   "execution_count": 32,
   "id": "991ea3e7",
   "metadata": {},
   "outputs": [
    {
     "name": "stdout",
     "output_type": "stream",
     "text": [
      "Please enter your salary : 1000\n",
      "Please enter your years of service : 11\n",
      "Your have 10% increment and your total salary will be :  1100.0\n"
     ]
    }
   ],
   "source": [
    "'''\n",
    "A company decided to give bonus to the employee according to the following criteria:\n",
    "Time Period of Servie-------------------> Bonus\n",
    "More than 10 years----------------------> 10%\n",
    ">=6 years and <=10 years----------------> 8%\n",
    "<6 years--------------------------------> 5%\n",
    "\n",
    "Note: Ask the user for their salary and year os services and print the total salary and Bonus increment.\n",
    "'''\n",
    "\n",
    "a=int(input(\"Please enter your salary : \"))\n",
    "b=int(input(\"Please enter your years of service : \"))\n",
    "t=float(((110)/100)*a)\n",
    "t1=float(((108)/100)*a)\n",
    "t2=float(((105)/100)*a)\n",
    "try:\n",
    "        if b>10:\n",
    "            print(\"Your have 10% increment and your total salary will be : \",t)\n",
    "    \n",
    "        elif b>=6 and b<=10:\n",
    "            print(\"Your have 8% increment and your total salary will be : \",t1)\n",
    "    \n",
    "        elif b<6:\n",
    "            print(\"Your have 5% increment and your total salary will be : \",t2)\n",
    "    \n",
    "except ValueError:\n",
    "    print(\"Invalid data ...please enter correct values \")"
   ]
  },
  {
   "cell_type": "code",
   "execution_count": 37,
   "id": "30afebbe",
   "metadata": {},
   "outputs": [
    {
     "name": "stdout",
     "output_type": "stream",
     "text": [
      "Enter your salary:\n",
      "1000\n",
      "Enter your years of servies:\n",
      "4\n",
      "Salary: 1000 \n",
      "Bonus: 5% \n",
      "Total Salary: 1050.0\n"
     ]
    }
   ],
   "source": [
    "sal=int(input('Enter your salary:\\n'))\n",
    "years=int(input('Enter your years of servies:\\n'))\n",
    "\n",
    "if years>10:\n",
    "    print('Salary:',sal,\"\\nBonus: 10% \\nTotal Salary:\",sal+sal*10/100)\n",
    "elif years>=6 and years<=10:\n",
    "    print('Salary:',sal,\"\\nBonus: 8% \\nTotal Salary:\",sal+sal*8/100)\n",
    "else:\n",
    "    print('Salary:',sal,\"\\nBonus: 5% \\nTotal Salary:\",sal+sal*5/100)"
   ]
  },
  {
   "cell_type": "code",
   "execution_count": 39,
   "id": "93a8098c",
   "metadata": {},
   "outputs": [
    {
     "name": "stdout",
     "output_type": "stream",
     "text": [
      "Please enter water temperature : 200\n",
      "200 degree temperature is boiling\n"
     ]
    }
   ],
   "source": [
    "# Write a program to take input from user to water temperature and display output it is boiling or not.\n",
    "\n",
    "a=int(input(\"Please enter water temperature : \"))\n",
    "\n",
    "if a>=100:\n",
    "    print(f\"{a} degree temperature is boiling\")\n",
    "    \n",
    "else:\n",
    "    print(\"It is not boiling temperature\")"
   ]
  },
  {
   "cell_type": "code",
   "execution_count": 41,
   "id": "ffbbf452",
   "metadata": {},
   "outputs": [
    {
     "name": "stdout",
     "output_type": "stream",
     "text": [
      "Please enter the number : -85\n",
      "-85 is negative integer\n"
     ]
    }
   ],
   "source": [
    "# Check if number is +ve or -ve \n",
    "a=int(input(\"Please enter the number : \"))\n",
    "\n",
    "if a>0:\n",
    "    print(f\"{a} is posive integer\")\n",
    "else:\n",
    "    print(f\"{a} is negative integer\")"
   ]
  },
  {
   "cell_type": "code",
   "execution_count": null,
   "id": "a1ae48bf",
   "metadata": {},
   "outputs": [],
   "source": []
  }
 ],
 "metadata": {
  "kernelspec": {
   "display_name": "Python 3 (ipykernel)",
   "language": "python",
   "name": "python3"
  },
  "language_info": {
   "codemirror_mode": {
    "name": "ipython",
    "version": 3
   },
   "file_extension": ".py",
   "mimetype": "text/x-python",
   "name": "python",
   "nbconvert_exporter": "python",
   "pygments_lexer": "ipython3",
   "version": "3.9.13"
  }
 },
 "nbformat": 4,
 "nbformat_minor": 5
}
