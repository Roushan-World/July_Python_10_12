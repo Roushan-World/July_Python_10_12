{
 "cells": [
  {
   "cell_type": "markdown",
   "id": "2c73a796",
   "metadata": {},
   "source": [
    "# 7. Conditions in Python\n",
    "\n",
    "# Comparison operators\n",
    "\n",
    " * __Comparison operations compare some value or operand and based on a condition, produce a Boolean. Python has six comparison operators as below.__\n",
    " * __Less than(<)__\n",
    " * __Less than or equal to(<=)__\n",
    " * __Greater than (>)__\n",
    " * __Greater than or equal to(>=)__\n",
    " * __Equal to(==)__\n",
    " * __Not equal to(!=)__"
   ]
  },
  {
   "cell_type": "code",
   "execution_count": 6,
   "id": "8e5df0c3",
   "metadata": {},
   "outputs": [
    {
     "name": "stdout",
     "output_type": "stream",
     "text": [
      "True\n",
      "True\n",
      "False\n",
      "False\n",
      "True\n",
      "False\n"
     ]
    }
   ],
   "source": [
    "number=1.618\n",
    "\n",
    "\n",
    "print(number<2)\n",
    "print(number<=2)\n",
    "print(number>2)\n",
    "print(number>=2)\n",
    "print(number==1.618)\n",
    "print(number!=1.618)"
   ]
  },
  {
   "cell_type": "markdown",
   "id": "40067b79",
   "metadata": {},
   "source": [
    "# Branching(if,elif,else)\n",
    "\n",
    " * __Decision making is required when we want ot execute a code only if a certain condition is satisfied.__\n",
    " * __The if/elif/else statement is used in Python for decision making.__\n",
    " * __An else statement can be combined with an if statement.__\n",
    " * __An else statement contains the blcok of code that executes if the conditional expression in the if statement resolves to 0 or a False value.__\n",
    " * __The else statement is an optional statement and there could be at most only one else statement following if.__\n",
    " * __The elif statement allows you to check multiple expressions for True and execute a block of code as soon as one of the conditions evaluates to True.__\n",
    " * __Similar to the else, the elif statement is optional.__\n",
    " * __However, unlike else, for which there can be at most one statement, there can be an arbitratry number of elif statements following an if.__"
   ]
  },
  {
   "cell_type": "code",
   "execution_count": 11,
   "id": "cf25b67d",
   "metadata": {},
   "outputs": [
    {
     "name": "stdout",
     "output_type": "stream",
     "text": [
      "The number pi 3.147 is greater than the ratio 1.618.\n"
     ]
    }
   ],
   "source": [
    "pi=3.147\n",
    "ratio=1.618\n",
    "\n",
    "if pi>ratio:\n",
    "    print(f'The number pi {pi} is greater than the ratio {ratio}.')   # f-string\n",
    "else:\n",
    "    print('Done')"
   ]
  },
  {
   "cell_type": "code",
   "execution_count": 13,
   "id": "728250cd",
   "metadata": {},
   "outputs": [
    {
     "name": "stdout",
     "output_type": "stream",
     "text": [
      "You should go to kindergarten.\n"
     ]
    }
   ],
   "source": [
    "age=5\n",
    "\n",
    "if age>6:\n",
    "    print('You can go to primary school.')\n",
    "    \n",
    "elif age==5:\n",
    "    print('You should go to kindergarten.')\n",
    "    \n",
    "else:\n",
    "    print('you are a baby')"
   ]
  },
  {
   "cell_type": "code",
   "execution_count": 17,
   "id": "491d33de",
   "metadata": {},
   "outputs": [
    {
     "name": "stdout",
     "output_type": "stream",
     "text": [
      "Enter your Child age:\n",
      "5\n",
      "You should go to kindergarten.\n"
     ]
    }
   ],
   "source": [
    "age=int(input('Enter your Child age:\\n'))\n",
    "\n",
    "\n",
    "if age>6:\n",
    "    print('You can go to primary school.')\n",
    "elif age==5:\n",
    "    print('You should go to kindergarten.')\n",
    "else:\n",
    "    print('You are a baby')"
   ]
  },
  {
   "cell_type": "code",
   "execution_count": 18,
   "id": "1a2f086d",
   "metadata": {},
   "outputs": [
    {
     "name": "stdout",
     "output_type": "stream",
     "text": [
      "What is your age :45\n",
      "you are eligible for voting\n"
     ]
    }
   ],
   "source": [
    "# Write a program to verify your are elegible for voting or not.\n",
    "age=int(input('What is your age :'))\n",
    "\n",
    "if age>=18:\n",
    "    print('you are eligible for voting')\n",
    "\n",
    "else:\n",
    "    print('you are not eligible for voting')"
   ]
  },
  {
   "cell_type": "code",
   "execution_count": 22,
   "id": "56403d8c",
   "metadata": {},
   "outputs": [
    {
     "name": "stdout",
     "output_type": "stream",
     "text": [
      "Enter any number:\n",
      "13\n",
      "Odd number\n"
     ]
    }
   ],
   "source": [
    "# Write a program to check whether a number is entered by a user is even or odd.\n",
    "\n",
    "num=int(input('Enter any number:\\n'))\n",
    "\n",
    "if num%2==0:\n",
    "    print('Even number')\n",
    "else:\n",
    "    print('Odd number')"
   ]
  },
  {
   "cell_type": "code",
   "execution_count": null,
   "id": "e1c49fdd",
   "metadata": {},
   "outputs": [],
   "source": [
    "# Write a program to accept the age of 2 people and display the youngest one."
   ]
  },
  {
   "cell_type": "code",
   "execution_count": 23,
   "id": "a41e95cb",
   "metadata": {},
   "outputs": [
    {
     "name": "stdout",
     "output_type": "stream",
     "text": [
      "enter the age of 1st person : 12\n",
      "enter the age of 2nd person : 13\n",
      "enter the age of 2nd person : 14\n",
      "A = 12\n",
      "B = 13\n",
      "C = 14\n",
      "c is greater than A and B\n"
     ]
    }
   ],
   "source": [
    "a=int(input('enter the age of 1st person : '))\n",
    "b=int(input('enter the age of 2nd person : '))\n",
    "c=int(input('enter the age of 2nd person : '))\n",
    "\n",
    "print(\"A =\",a)\n",
    "print(\"B =\",b)\n",
    "print(\"C =\",c)\n",
    "\n",
    "if a>b and a>c:\n",
    "    print('A is greater than B and C')\n",
    "    \n",
    "elif b>a and b>c:\n",
    "    print('B is greater than A and C')\n",
    "\n",
    "else:\n",
    "    print('c is greater than A and B')"
   ]
  },
  {
   "cell_type": "code",
   "execution_count": 29,
   "id": "4548e969",
   "metadata": {},
   "outputs": [
    {
     "name": "stdout",
     "output_type": "stream",
     "text": [
      "Enter a number :6\n",
      "SATURDAY\n"
     ]
    }
   ],
   "source": [
    "# write a program to display the weekdays if your press 1 it display Monday,2=Tuesday etc.\n",
    "\n",
    "a=int(input('Enter a number :'))\n",
    "   \n",
    "if a==1:     \n",
    "      print(\"MONDAY\")\n",
    "    \n",
    "elif a==2:\n",
    "    print(\"TUESDAY\")\n",
    "    \n",
    "elif a==3:\n",
    "    print(\"WEDNSDAY\")\n",
    "      \n",
    "elif a==4:\n",
    "    print(\"THURDAY\")\n",
    "      \n",
    "elif a==5:\n",
    "    print(\"FRIDAY\")\n",
    "      \n",
    "elif a==6:\n",
    "    print(\"SATURDAY\")\n",
    "      \n",
    "elif a==7:\n",
    "    print(\"SUNDAY\")\n",
    "      \n",
    "else:\n",
    "      print(\" wrong number pressed\")"
   ]
  },
  {
   "cell_type": "code",
   "execution_count": 30,
   "id": "5d9cb7d0",
   "metadata": {},
   "outputs": [
    {
     "name": "stdout",
     "output_type": "stream",
     "text": [
      "Enter a number :2\n",
      " 2 number month is FEBRUARY\n"
     ]
    }
   ],
   "source": [
    "# Write a program to display the month name if you press 1='January' 2='February'  etc.\n",
    "\n",
    "a=int(input('Enter a number :'))\n",
    "   \n",
    "if a==1:     \n",
    "      print(f\" {a} number month is JANUARY\")\n",
    "    \n",
    "elif a==2:\n",
    "    print(f\" {a} number month is FEBRUARY\")\n",
    "    \n",
    "elif a==3:\n",
    "    print(f\" {a} number month is MARCH\")\n",
    "      \n",
    "elif a==4:\n",
    "    print(f\" {a} number month is APRIL\")\n",
    "      \n",
    "elif a==5:\n",
    "    print(f\" {a} number month is MAY\")\n",
    "      \n",
    "elif a==6:\n",
    "    print(f\" {a} number month is JUNE\")\n",
    "      \n",
    "elif a==7:\n",
    "    print(f\" {a} number month is JULY\")\n",
    "        \n",
    "elif a==8:\n",
    "    print(f\" {a} number month is AUGUST\")\n",
    "    \n",
    "elif a==9:\n",
    "    print(f\" {a} number month is SEPTEMBER\")\n",
    "    \n",
    "elif a==10:\n",
    "    print(f\" {a} number month is OCTOBER\")\n",
    "    \n",
    "elif a==11:\n",
    "    print(f\" {a} number month is NOVEMBER\")\n",
    "    \n",
    "elif a==12:\n",
    "    print(f\" {a} number month is DECEMBER\")\n",
    "      \n",
    "else:\n",
    "      print(\" wrong number pressed\")"
   ]
  },
  {
   "cell_type": "code",
   "execution_count": 43,
   "id": "66dfc26f",
   "metadata": {},
   "outputs": [
    {
     "name": "stdout",
     "output_type": "stream",
     "text": [
      "Enter a number :\n",
      "54\n",
      "54 is not divisible by both 7 and 8\n"
     ]
    }
   ],
   "source": [
    "# Write a program to check whether a number is divisible by 7,or 8\n",
    "\n",
    "\n",
    "a=int(input(\"Enter a number :\\n\"))\n",
    "\n",
    "if a%7==0  and a%8==0:\n",
    "    print(f\" {a} is divisible by 7 and  8 both\")\n",
    "elif a%7==0:\n",
    "    print(f\"{a} is divible by 7 Not 8\")\n",
    "elif a%8==0:\n",
    "    print(f\"{a} is divible by 8 Not 7\")\n",
    "else:\n",
    "    print(f'{a} is not divisible by both 7 and 8')"
   ]
  },
  {
   "cell_type": "code",
   "execution_count": 58,
   "id": "489fc826",
   "metadata": {},
   "outputs": [
    {
     "name": "stdout",
     "output_type": "stream",
     "text": [
      "Enter a number :\n",
      "49\n",
      "49 is divisible by 7 only not 3 and 5\n"
     ]
    }
   ],
   "source": [
    "# Write a program to check the number is divisible by 3,5,7?\n",
    "a=int(input(\"Enter a number :\\n\"))\n",
    "\n",
    "if a%3==0  and a%5==0 and a%7==0:\n",
    "    print(f\" {a} is divisible by 3,5 and 7\")\n",
    "  \n",
    "\n",
    "elif a%3==0 and a%5==0 and a%7!=0:   \n",
    "    print(f\"{a} is divible by 3 and 5, not 7\")\n",
    "elif a%3==0 and a%5!=0 and a%7!=0:\n",
    "    print(f'{a} is divisible by 3 only not 5 and 7')\n",
    "elif a%3!=0 and a%5==0 and a%7!=0:\n",
    "    print(f'{a} is divisible by 5 only not 3 and 7')\n",
    "elif a%3!=0 and a%5!=0 and a%7==0:\n",
    "    print(f'{a} is divisible by 7 only not 3 and 5')\n",
    "elif a%7==0 and a%5==0 :   \n",
    "    print(f\"{a} is divible by 5 and 7, not 3\")\n",
    "    \n",
    "elif a%3==0 and a%7==0:   \n",
    "    print(f\"{a} is divible by 3 and 7, not 5\")\n",
    "    \n",
    "else :\n",
    "    print(f\"{a} is not divisible by 3,5 and 7 \")"
   ]
  },
  {
   "cell_type": "code",
   "execution_count": null,
   "id": "b359100f",
   "metadata": {},
   "outputs": [],
   "source": []
  }
 ],
 "metadata": {
  "kernelspec": {
   "display_name": "Python 3 (ipykernel)",
   "language": "python",
   "name": "python3"
  },
  "language_info": {
   "codemirror_mode": {
    "name": "ipython",
    "version": 3
   },
   "file_extension": ".py",
   "mimetype": "text/x-python",
   "name": "python",
   "nbconvert_exporter": "python",
   "pygments_lexer": "ipython3",
   "version": "3.9.13"
  }
 },
 "nbformat": 4,
 "nbformat_minor": 5
}
