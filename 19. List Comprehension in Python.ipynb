{
 "cells": [
  {
   "cell_type": "markdown",
   "id": "838128c4",
   "metadata": {},
   "source": [
    "# 19. List Comprehension in Python\n",
    "\n",
    "\n",
    " * __List Comprehension in Python is an easy and compact syntax for creating a list from a string or another list.__\n",
    " * __It is a very concise way to create a new list by performing an operation on each item in the existing list.__\n",
    " * __List Comprehension is considerably faster than processing a list using the for loop.__"
   ]
  },
  {
   "cell_type": "code",
   "execution_count": 1,
   "id": "79836654",
   "metadata": {},
   "outputs": [],
   "source": [
    "import math\n",
    "from math import *"
   ]
  },
  {
   "cell_type": "code",
   "execution_count": 3,
   "id": "94ac430e",
   "metadata": {},
   "outputs": [
    {
     "name": "stdout",
     "output_type": "stream",
     "text": [
      "[0, 1, 8, 27, 64, 125]\n"
     ]
    }
   ],
   "source": [
    "# Using for loop\n",
    "\n",
    "cubic_nums=[]\n",
    "for i in range(6):\n",
    "    i**=3\n",
    "    cubic_nums.append(i)\n",
    "print(cubic_nums)"
   ]
  },
  {
   "cell_type": "code",
   "execution_count": 5,
   "id": "c4f8b22d",
   "metadata": {},
   "outputs": [
    {
     "name": "stdout",
     "output_type": "stream",
     "text": [
      "[0, 1, 8, 27, 64, 125]\n"
     ]
    }
   ],
   "source": [
    "# Using list comprehension\n",
    "\n",
    "cubic_nums=[i**3 for i in range(6)]\n",
    "print(cubic_nums)"
   ]
  },
  {
   "cell_type": "code",
   "execution_count": 6,
   "id": "d9ca6ecb",
   "metadata": {},
   "outputs": [
    {
     "name": "stdout",
     "output_type": "stream",
     "text": [
      "[0.0, 1.0, 8.0, 27.0, 64.0, 125.0]\n"
     ]
    }
   ],
   "source": [
    "# Another list comprehension\n",
    "\n",
    "list_nums=[math.pow(i,3) for i in range(6)]\n",
    "print(list_nums)"
   ]
  },
  {
   "cell_type": "code",
   "execution_count": 7,
   "id": "61902ff4",
   "metadata": {},
   "outputs": [
    {
     "name": "stdout",
     "output_type": "stream",
     "text": [
      "[0, 2, 4, 6, 8, 10, 12, 14, 16, 18, 20]\n"
     ]
    }
   ],
   "source": [
    "# Using for loop\n",
    "\n",
    "even_numbers=[]\n",
    "for i in range(21):\n",
    "    if i%2==0:\n",
    "        even_numbers.append(i)\n",
    "print(even_numbers)"
   ]
  },
  {
   "cell_type": "code",
   "execution_count": 8,
   "id": "0f1b7894",
   "metadata": {},
   "outputs": [
    {
     "name": "stdout",
     "output_type": "stream",
     "text": [
      "[0, 2, 4, 6, 8, 10, 12, 14, 16, 18, 20]\n"
     ]
    }
   ],
   "source": [
    "# Using List Comprehensions\n",
    "\n",
    "even_numbers=[i for i in range(21) if i%2==0]\n",
    "print(even_numbers)"
   ]
  },
  {
   "cell_type": "code",
   "execution_count": 13,
   "id": "86fa260b",
   "metadata": {},
   "outputs": [
    {
     "name": "stdout",
     "output_type": "stream",
     "text": [
      "[0, 3, 6, 9, 12, 15, 18, 21, 24, 27, 30]\n"
     ]
    }
   ],
   "source": [
    "# Creates a list of multiplies of three from 0 to 33.\n",
    "new_list=[]\n",
    "for i in range(33):\n",
    "    if i%3==0:\n",
    "        new_list.append(i)\n",
    "        \n",
    "print(new_list)"
   ]
  },
  {
   "cell_type": "code",
   "execution_count": 11,
   "id": "dbe35bb1",
   "metadata": {},
   "outputs": [
    {
     "name": "stdout",
     "output_type": "stream",
     "text": [
      "[0, 3, 6, 9, 12, 15, 18, 21, 24, 27, 30]\n"
     ]
    }
   ],
   "source": [
    "# create a list of multiples of 3 from 0 to 33\n",
    "\n",
    "c=[]\n",
    "i=1\n",
    "for i in range(11):\n",
    "    x=3*i\n",
    "    c.append(x)\n",
    "print(c)"
   ]
  },
  {
   "cell_type": "code",
   "execution_count": 15,
   "id": "ea5d0bb4",
   "metadata": {},
   "outputs": [
    {
     "data": {
      "text/plain": [
       "[0, 3, 6, 9, 12, 15, 18, 21, 24, 27, 30]"
      ]
     },
     "execution_count": 15,
     "metadata": {},
     "output_type": "execute_result"
    }
   ],
   "source": [
    "# Using list comprehension\n",
    "# using list comprehention\n",
    "\n",
    "n=[i for i in range(33) if i%3==0]\n",
    "n"
   ]
  },
  {
   "cell_type": "code",
   "execution_count": 18,
   "id": "d2847607",
   "metadata": {},
   "outputs": [
    {
     "data": {
      "text/plain": [
       "[0, 3, 6, 9, 12, 15, 18, 21, 24, 27, 30]"
      ]
     },
     "execution_count": 18,
     "metadata": {},
     "output_type": "execute_result"
    }
   ],
   "source": [
    "n=[i*3 for i in range(11)]\n",
    "n"
   ]
  },
  {
   "cell_type": "code",
   "execution_count": 19,
   "id": "3b51ed51",
   "metadata": {},
   "outputs": [
    {
     "name": "stdout",
     "output_type": "stream",
     "text": [
      "['P', 'y', 't', 'h', 'o', 'n', ' ', 'i', 's', ' ', 'a', ' ', 'p', 'r', 'o', 'g', 'r', 'a', 'm', 'm', 'i', 'n', 'g', ' ', 'l', 'a', 'n', 'g', 'u', 'a', 'g', 'e']\n"
     ]
    }
   ],
   "source": [
    "# Using for loop seperate the sentence and stored in list.\n",
    "\n",
    "# Python is a programming language.\n",
    "\n",
    "text=[]\n",
    "for i in'Python is a programming language':\n",
    "    text.append(i)\n",
    "    \n",
    "print(text)"
   ]
  },
  {
   "cell_type": "code",
   "execution_count": 20,
   "id": "29cb1018",
   "metadata": {},
   "outputs": [
    {
     "name": "stdout",
     "output_type": "stream",
     "text": [
      "['P', 'y', 't', 'h', 'o', 'n', ' ', 'i', 's', ' ', 'a', ' ', 'p', 'r', 'o', 'g', 'r', 'a', 'm', 'm', 'i', 'n', 'g', ' ', 'l', 'a', 'n', 'g', 'u', 'a', 'g', 'e']\n"
     ]
    }
   ],
   "source": [
    "# Using List Comprehension\n",
    "\n",
    "text=[i for i in 'Python is a programming language']\n",
    "print(text)"
   ]
  },
  {
   "cell_type": "code",
   "execution_count": 21,
   "id": "8d3589bb",
   "metadata": {},
   "outputs": [
    {
     "name": "stdout",
     "output_type": "stream",
     "text": [
      "[0.19210003299999995, 4.235801032000001, 20.079290231999998, 30.959144000000002, 216, 21952, 50653, 5168743489]\n"
     ]
    }
   ],
   "source": [
    "# numbers=[0.577,1.618,2.718,3.14,6,28,37,1729]\n",
    "n=[0.577,1.618,2.718,3.14,6,28,37,1729]   # do cube\n",
    "for i in range(len(n)):\n",
    "    n[i]=n[i]**3\n",
    "print(n)"
   ]
  },
  {
   "cell_type": "code",
   "execution_count": 23,
   "id": "6419a0ff",
   "metadata": {},
   "outputs": [
    {
     "name": "stdout",
     "output_type": "stream",
     "text": [
      "[0.19210003299999995, 4.235801032000001, 20.079290231999998, 30.959144000000002, 216, 21952, 50653, 5168743489]\n"
     ]
    }
   ],
   "source": [
    "# cube using list comprehensions\n",
    "n=[i**3 for i in [0.577,1.618,2.718,3.14,6,28,37,1729]]\n",
    "print(n)"
   ]
  },
  {
   "cell_type": "code",
   "execution_count": 24,
   "id": "423f83fc",
   "metadata": {},
   "outputs": [
    {
     "name": "stdout",
     "output_type": "stream",
     "text": [
      "[1.7309999999999999, 4.854, 8.154, 9.42, 18, 84, 111, 5187]\n"
     ]
    }
   ],
   "source": [
    "# numbers=[0.577,1.618,2.718,3.14,6,28,37,1729]\n",
    "n=[i*3 for i in [0.577,1.618,2.718,3.14,6,28,37,1729]]\n",
    "print(n)"
   ]
  },
  {
   "cell_type": "code",
   "execution_count": 25,
   "id": "17556a6e",
   "metadata": {},
   "outputs": [
    {
     "name": "stdout",
     "output_type": "stream",
     "text": [
      "['Python', 'JavaScript']\n"
     ]
    }
   ],
   "source": [
    "# Using for loop language=['Python','Java','JavaScript','C','C++','PHP']\n",
    "\n",
    "languages=['Python','Java','JavaScript','C','C++','PHP']\n",
    "\n",
    "lang_lis=[]\n",
    "\n",
    "for i in languages:\n",
    "    if 't' in i:\n",
    "        lang_lis.append(i)\n",
    "print(lang_lis)"
   ]
  },
  {
   "cell_type": "code",
   "execution_count": 26,
   "id": "2bd294b9",
   "metadata": {},
   "outputs": [
    {
     "name": "stdout",
     "output_type": "stream",
     "text": [
      "['Python', 'JavaScript']\n"
     ]
    }
   ],
   "source": [
    "# Using list comprehension\n",
    "lang_lis=[i for i in languages if 't' in i]\n",
    "print(lang_lis)"
   ]
  },
  {
   "cell_type": "code",
   "execution_count": 27,
   "id": "08172492",
   "metadata": {},
   "outputs": [
    {
     "name": "stdout",
     "output_type": "stream",
     "text": [
      "['python', 'java', 'c++', 'php']\n"
     ]
    }
   ],
   "source": [
    "# Using for loop language=['Python','Java','JavaScript','C','C++','PHP']\n",
    "\n",
    "n=['python','java','javascript','c','c++','php']\n",
    "\n",
    "\n",
    "l=[]\n",
    "for i in n:\n",
    "    if 'c' not in i or 'c+' in i:\n",
    "        l.append(i)\n",
    "print(l)"
   ]
  },
  {
   "cell_type": "code",
   "execution_count": 28,
   "id": "1c7da54a",
   "metadata": {},
   "outputs": [
    {
     "name": "stdout",
     "output_type": "stream",
     "text": [
      "['Python', 'Java', 'JavaScript', 'C++', 'PHP']\n"
     ]
    }
   ],
   "source": [
    "language=['Python','Java','JavaScript','C','C++','PHP']\n",
    "lang_lis=[]\n",
    "for i in language:\n",
    "    if i !='C':\n",
    "        lang_lis.append(i)\n",
    "print(lang_lis)"
   ]
  },
  {
   "cell_type": "code",
   "execution_count": 29,
   "id": "b3a31730",
   "metadata": {},
   "outputs": [
    {
     "name": "stdout",
     "output_type": "stream",
     "text": [
      "['Python', 'Java', 'JavaScript', 'C++', 'PHP']\n"
     ]
    }
   ],
   "source": [
    "# Using list comprehension\n",
    "\n",
    "lang_lis=[i for i in language if i !='C']\n",
    "print(lang_lis)"
   ]
  },
  {
   "cell_type": "code",
   "execution_count": 30,
   "id": "6c8fca8e",
   "metadata": {},
   "outputs": [
    {
     "name": "stdout",
     "output_type": "stream",
     "text": [
      "[0.577, 1.618, 2.718, 3.14]\n"
     ]
    }
   ],
   "source": [
    "# special_nums = [0.577,1.618,2.718,3.14,6,28,37,1729]  output=[0.577,1.618,2.718,3.14]\n",
    "special_nums = [0.577,1.618,2.718,3.14,6,28,37,1729]\n",
    "\n",
    "new_list=[]\n",
    "\n",
    "for i in special_nums:\n",
    "    if i<5:\n",
    "        new_list.append(i)\n",
    "print(new_list)"
   ]
  },
  {
   "cell_type": "code",
   "execution_count": 31,
   "id": "c7c27601",
   "metadata": {},
   "outputs": [
    {
     "name": "stdout",
     "output_type": "stream",
     "text": [
      "[0.577, 1.618, 2.718, 3.14]\n"
     ]
    }
   ],
   "source": [
    "# Using list comprehension\n",
    "\n",
    "new_list=[i for i in special_nums if i<5]\n",
    "print(new_list)"
   ]
  },
  {
   "cell_type": "code",
   "execution_count": 32,
   "id": "e60ded95",
   "metadata": {},
   "outputs": [
    {
     "name": "stdout",
     "output_type": "stream",
     "text": [
      "['Python', 'Python', 'Python', 'Python', 'Python']\n"
     ]
    }
   ],
   "source": [
    "# languages=['Java','JavaScript','C','C++','PHP']\n",
    "languages=['Java','JavaScript','C','C++','PHP']\n",
    "# Using for loop\n",
    "\n",
    "lang_list1=[]\n",
    "\n",
    "for i in languages:\n",
    "    i='Python'\n",
    "    lang_list1.append(i)\n",
    "print(lang_list1)"
   ]
  },
  {
   "cell_type": "code",
   "execution_count": 33,
   "id": "e63eecc0",
   "metadata": {},
   "outputs": [
    {
     "name": "stdout",
     "output_type": "stream",
     "text": [
      "['Python', 'Python', 'Python', 'Python', 'Python']\n"
     ]
    }
   ],
   "source": [
    "# Using list Comprehension\n",
    "\n",
    "lang_lis=['Python' for i in languages]\n",
    "print(lang_lis)"
   ]
  },
  {
   "cell_type": "code",
   "execution_count": 2,
   "id": "3c5cc7ac",
   "metadata": {},
   "outputs": [
    {
     "name": "stdout",
     "output_type": "stream",
     "text": [
      "['PYTHON', 'JAVA', 'JAVASCRIPT', 'C', 'C++', 'PHP']\n"
     ]
    }
   ],
   "source": [
    "# languages=['Python','Java','JavaScript','C','C++','Php'] convert in upper case using list comprehensions.\n",
    "\n",
    "languages=['Python','Java','JavaScript','C','C++','Php']\n",
    "lang_lis=[]\n",
    "for i in languages:\n",
    "    i=i.upper()\n",
    "    lang_lis.append(i)\n",
    "    \n",
    "print(lang_lis)\n"
   ]
  },
  {
   "cell_type": "code",
   "execution_count": 3,
   "id": "bb04259a",
   "metadata": {},
   "outputs": [
    {
     "name": "stdout",
     "output_type": "stream",
     "text": [
      "For Loop: ['Even', 'Odd', 'Even', 'Odd', 'Even', 'Odd', 'Even', 'Odd', 'Even', 'Odd', 'Even']\n"
     ]
    }
   ],
   "source": [
    "# Write Even,Odd,Even,Odd\n",
    "\n",
    "numbers=[]\n",
    "\n",
    "for i in range(11):\n",
    "    if i%2==0:\n",
    "        numbers.append('Even')\n",
    "    else:\n",
    "        numbers.append('Odd')\n",
    "print(f'For Loop: {numbers}')\n"
   ]
  },
  {
   "cell_type": "code",
   "execution_count": 4,
   "id": "094760e4",
   "metadata": {},
   "outputs": [
    {
     "name": "stdout",
     "output_type": "stream",
     "text": [
      "List Comprehension: ['Even', 'Odd', 'Even', 'Odd', 'Even', 'Odd', 'Even', 'Odd', 'Even', 'Odd', 'Even']\n"
     ]
    }
   ],
   "source": [
    "# Using list comprehension\n",
    "\n",
    "numbers=['Even' if i%2==0 else 'Odd' for i in range(11)]\n",
    "print(f'List Comprehension: {numbers}')"
   ]
  },
  {
   "cell_type": "code",
   "execution_count": 5,
   "id": "fa399312",
   "metadata": {},
   "outputs": [
    {
     "name": "stdout",
     "output_type": "stream",
     "text": [
      "lambda: ['Even', 'Odd', 'Even', 'Odd', 'Even', 'Odd', 'Even', 'Odd', 'Even', 'Odd', 'Even']\n"
     ]
    }
   ],
   "source": [
    "# Using lambda\n",
    "\n",
    "numbers=list(map(lambda i:i,['Even' if i%2==0 else 'Odd' for i in range(11)]))\n",
    "print(f'lambda: {numbers}')"
   ]
  },
  {
   "cell_type": "code",
   "execution_count": 9,
   "id": "75a4353d",
   "metadata": {},
   "outputs": [
    {
     "name": "stdout",
     "output_type": "stream",
     "text": [
      "[[0, 1, 2], [0, 1, 2], [0, 1, 2], [0, 1, 2]]\n"
     ]
    }
   ],
   "source": [
    "# Using nested for loop\n",
    "\n",
    "empty_matrix=[]\n",
    "\n",
    "for i in range(4):\n",
    "    empty_matrix.append([])\n",
    "    for j in range(3):\n",
    "        empty_matrix[i].append(j)\n",
    "print(empty_matrix)"
   ]
  },
  {
   "cell_type": "code",
   "execution_count": 14,
   "id": "fd8fdf52",
   "metadata": {},
   "outputs": [
    {
     "name": "stdout",
     "output_type": "stream",
     "text": [
      "[[0, 1, 2, 3, 4], [0, 1, 2, 3, 4], [0, 1, 2, 3, 4]]\n"
     ]
    }
   ],
   "source": [
    "# Using list compherension\n",
    "\n",
    "empty_matrix=[[j for j in range(5)] for i in range(3)]\n",
    "print(empty_matrix)"
   ]
  },
  {
   "cell_type": "code",
   "execution_count": null,
   "id": "588ee5f8",
   "metadata": {},
   "outputs": [],
   "source": []
  }
 ],
 "metadata": {
  "kernelspec": {
   "display_name": "Python 3 (ipykernel)",
   "language": "python",
   "name": "python3"
  },
  "language_info": {
   "codemirror_mode": {
    "name": "ipython",
    "version": 3
   },
   "file_extension": ".py",
   "mimetype": "text/x-python",
   "name": "python",
   "nbconvert_exporter": "python",
   "pygments_lexer": "ipython3",
   "version": "3.9.13"
  }
 },
 "nbformat": 4,
 "nbformat_minor": 5
}
