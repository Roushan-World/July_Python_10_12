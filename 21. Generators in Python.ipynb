{
 "cells": [
  {
   "cell_type": "markdown",
   "id": "f4fcd477",
   "metadata": {},
   "source": [
    "# 21. Generators in Python\n",
    "\n",
    "\n",
    " * __Python generators are the functions that return the transversal object and a simple way of creating iteratos.__\n",
    " * __It transverses the entire items at once.__\n",
    " * __The generators can also be an expression in which syntax is smaller to the list comprehension in Python.__\n",
    " * __There is a lot of complexity in creating iteration in Python, it is required to implememnt iter() and next() methods to keep track of internal states.__\n",
    " * __It is a lenghty process to create iterators.__\n",
    " * __That is why the generators plays a significant role in simplifying this process.__\n",
    " * __If there is no value found in iteration, it raises Stopiteration exception.__\n",
    " * __It is quire simple to create a generatos in Python.__\n",
    " * __It is smaller to the normal function defined by the def keyword and employs a yield keyword instead of return.__\n",
    " * __If the body of any function included a yield statement, it automatically becomes a generator gunction.__\n",
    " * __The yield keyword is responsible to control the flow of the generator function.__\n",
    " * __If pauses the function execution by saving all states and yielded to the caller.__\n",
    " * __Later it resumes execution when a successive function is called.__\n",
    " * __The return keyword retunrs a value and terminates the whole function and only return statement can be employed in the functions.__"
   ]
  },
  {
   "cell_type": "code",
   "execution_count": 1,
   "id": "1c87946f",
   "metadata": {},
   "outputs": [
    {
     "name": "stdout",
     "output_type": "stream",
     "text": [
      "[0, 2, 4, 6, 8]\n"
     ]
    }
   ],
   "source": [
    "def function():\n",
    "    for i in range(10):\n",
    "        if i%2==0:\n",
    "            yield i\n",
    "            \n",
    "            \n",
    "nlis1=[]\n",
    "\n",
    "for i in function():\n",
    "    nlis1.append(i)\n",
    "    \n",
    "print(nlis1)"
   ]
  },
  {
   "cell_type": "code",
   "execution_count": 3,
   "id": "b0644a4b",
   "metadata": {},
   "outputs": [
    {
     "name": "stdout",
     "output_type": "stream",
     "text": [
      "[0, 2, 4, 6, 8, 10, 12, 14, 16, 18, 20, 22, 24]\n"
     ]
    }
   ],
   "source": [
    "def function():\n",
    "    for i in range(25):\n",
    "        if i%2==0:\n",
    "            yield i\n",
    "            \n",
    "            \n",
    "nlis1=[]\n",
    "\n",
    "for i in function():\n",
    "    nlis1.append(i)\n",
    "    \n",
    "print(nlis1)"
   ]
  },
  {
   "cell_type": "code",
   "execution_count": 9,
   "id": "68fd3038",
   "metadata": {},
   "outputs": [
    {
     "name": "stdout",
     "output_type": "stream",
     "text": [
      "hello,world\n",
      "Bhagyashri\n",
      "Python is the most popular programming language.\n"
     ]
    },
    {
     "ename": "StopIteration",
     "evalue": "",
     "output_type": "error",
     "traceback": [
      "\u001b[1;31m---------------------------------------------------------------------------\u001b[0m",
      "\u001b[1;31mStopIteration\u001b[0m                             Traceback (most recent call last)",
      "\u001b[1;32m~\\AppData\\Local\\Temp\\ipykernel_11304\\2854049685.py\u001b[0m in \u001b[0;36m<module>\u001b[1;34m\u001b[0m\n\u001b[0;32m     14\u001b[0m \u001b[0mprint\u001b[0m\u001b[1;33m(\u001b[0m\u001b[0mnext\u001b[0m\u001b[1;33m(\u001b[0m\u001b[0mresult\u001b[0m\u001b[1;33m)\u001b[0m\u001b[1;33m)\u001b[0m\u001b[1;33m\u001b[0m\u001b[1;33m\u001b[0m\u001b[0m\n\u001b[0;32m     15\u001b[0m \u001b[0mprint\u001b[0m\u001b[1;33m(\u001b[0m\u001b[0mnext\u001b[0m\u001b[1;33m(\u001b[0m\u001b[0mresult\u001b[0m\u001b[1;33m)\u001b[0m\u001b[1;33m)\u001b[0m\u001b[1;33m\u001b[0m\u001b[1;33m\u001b[0m\u001b[0m\n\u001b[1;32m---> 16\u001b[1;33m \u001b[0mprint\u001b[0m\u001b[1;33m(\u001b[0m\u001b[0mnext\u001b[0m\u001b[1;33m(\u001b[0m\u001b[0mresult\u001b[0m\u001b[1;33m)\u001b[0m\u001b[1;33m)\u001b[0m\u001b[1;33m\u001b[0m\u001b[1;33m\u001b[0m\u001b[0m\n\u001b[0m",
      "\u001b[1;31mStopIteration\u001b[0m: "
     ]
    }
   ],
   "source": [
    "def message():\n",
    "    msg_one='hello,world'\n",
    "    yield msg_one\n",
    "    \n",
    "    msg_two='Bhagyashri'\n",
    "    yield msg_two\n",
    "    \n",
    "    msg_three='Python is the most popular programming language.'\n",
    "    yield msg_three\n",
    "    \n",
    "    \n",
    "result=message()\n",
    "print(next(result))\n",
    "print(next(result))\n",
    "print(next(result))\n",
    "print(next(result))"
   ]
  },
  {
   "cell_type": "code",
   "execution_count": 12,
   "id": "2faba387",
   "metadata": {},
   "outputs": [
    {
     "name": "stdout",
     "output_type": "stream",
     "text": [
      "hello,world\n",
      "Bhagyashri\n",
      "Python is the most popular programming language.\n",
      "No Value Found\n"
     ]
    }
   ],
   "source": [
    "try:\n",
    "    def message():\n",
    "        msg_one='hello,world'\n",
    "        yield msg_one\n",
    "    \n",
    "        msg_two='Bhagyashri'\n",
    "        yield msg_two\n",
    "    \n",
    "        msg_three='Python is the most popular programming language.'\n",
    "        yield msg_three\n",
    "    \n",
    "    \n",
    "    result=message()\n",
    "    print(next(result))\n",
    "    print(next(result))\n",
    "    print(next(result))\n",
    "    print(next(result))\n",
    "    \n",
    "except StopIteration:\n",
    "    print('No Value Found')\n",
    "\n"
   ]
  },
  {
   "cell_type": "code",
   "execution_count": null,
   "id": "b304c8b6",
   "metadata": {},
   "outputs": [],
   "source": []
  }
 ],
 "metadata": {
  "kernelspec": {
   "display_name": "Python 3 (ipykernel)",
   "language": "python",
   "name": "python3"
  },
  "language_info": {
   "codemirror_mode": {
    "name": "ipython",
    "version": 3
   },
   "file_extension": ".py",
   "mimetype": "text/x-python",
   "name": "python",
   "nbconvert_exporter": "python",
   "pygments_lexer": "ipython3",
   "version": "3.9.13"
  }
 },
 "nbformat": 4,
 "nbformat_minor": 5
}
