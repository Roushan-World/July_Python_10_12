{
 "cells": [
  {
   "cell_type": "markdown",
   "id": "19f8f1c5",
   "metadata": {},
   "source": [
    "# 15. Lambda Functions in Python\n",
    "\n",
    " * __A lambda function is a small anonymous function.__\n",
    " \n",
    " * __A lambda function can take any number of arguments, but can only have one expression.__\n",
    " \n",
    " * __The expression is evaluated and returned.__\n",
    " \n",
    " * __Lambda functions can be used wherever function objects are required.__\n",
    " \n",
    " * __Lambda expression(or lambda functions) are essentially blocks of code that can be assigned to variables, passed as an arguments, or returned from a function call, in languages taht support high-order functions.__\n",
    " \n",
    " * __They have been part of programming languages for quire some time.__\n",
    " \n",
    " * __The main role of lambda function is better described in the scenarios when we empoly them anonymously inside another functions.__\n",
    " \n",
    " * __n Python, the lambda function can be utilized as an arguments to the high order functions as arguments.__"
   ]
  },
  {
   "cell_type": "code",
   "execution_count": 1,
   "id": "3094dd33",
   "metadata": {},
   "outputs": [
    {
     "name": "stdout",
     "output_type": "stream",
     "text": [
      "16\n"
     ]
    }
   ],
   "source": [
    "# Define a function using def\n",
    "\n",
    "def f(x):\n",
    "    return x+6\n",
    "print(f(10))"
   ]
  },
  {
   "cell_type": "code",
   "execution_count": 2,
   "id": "45bc80d0",
   "metadata": {},
   "outputs": [
    {
     "data": {
      "text/plain": [
       "16"
      ]
     },
     "execution_count": 2,
     "metadata": {},
     "output_type": "execute_result"
    }
   ],
   "source": [
    "# Define the some value functions using 'lambda'\n",
    "\n",
    "(lambda x:x+6)(10)"
   ]
  },
  {
   "cell_type": "code",
   "execution_count": 3,
   "id": "d1b95136",
   "metadata": {},
   "outputs": [
    {
     "data": {
      "text/plain": [
       "100000000000000000000"
      ]
     },
     "execution_count": 3,
     "metadata": {},
     "output_type": "execute_result"
    }
   ],
   "source": [
    "10**20"
   ]
  },
  {
   "cell_type": "code",
   "execution_count": 6,
   "id": "2e8b90a5",
   "metadata": {},
   "outputs": [
    {
     "name": "stdout",
     "output_type": "stream",
     "text": [
      "The Exponent of 10 and 20 is 100000000000000000000\n"
     ]
    }
   ],
   "source": [
    "def f(x,y):\n",
    "    return x**y\n",
    "print('The Exponent of {} and {} is'.format(10,20),f(10,20))"
   ]
  },
  {
   "cell_type": "code",
   "execution_count": 10,
   "id": "2df4f017",
   "metadata": {},
   "outputs": [
    {
     "name": "stdout",
     "output_type": "stream",
     "text": [
      "The power of 10 and 20 is 100000000000000000000\n"
     ]
    }
   ],
   "source": [
    "print(f'The power of 10 and 20 is {(lambda x,y: x**y) (10,20)}')"
   ]
  },
  {
   "cell_type": "code",
   "execution_count": 11,
   "id": "d5a50964",
   "metadata": {},
   "outputs": [
    {
     "name": "stdout",
     "output_type": "stream",
     "text": [
      "The volue of cube is 8\n"
     ]
    }
   ],
   "source": [
    "# find the volume of cube with lambda function.\n",
    "\n",
    "print(f'The volume of cube is: {(lambda a:a*a*a)(2)}')"
   ]
  },
  {
   "cell_type": "code",
   "execution_count": 12,
   "id": "a63b63df",
   "metadata": {},
   "outputs": [
    {
     "name": "stdout",
     "output_type": "stream",
     "text": [
      "The volume of cube is: 8\n"
     ]
    }
   ],
   "source": [
    "print(f'The volume of cube is: {(lambda a:a**3)(2)}')"
   ]
  },
  {
   "cell_type": "code",
   "execution_count": null,
   "id": "3cccc34c",
   "metadata": {},
   "outputs": [],
   "source": []
  }
 ],
 "metadata": {
  "kernelspec": {
   "display_name": "Python 3 (ipykernel)",
   "language": "python",
   "name": "python3"
  },
  "language_info": {
   "codemirror_mode": {
    "name": "ipython",
    "version": 3
   },
   "file_extension": ".py",
   "mimetype": "text/x-python",
   "name": "python",
   "nbconvert_exporter": "python",
   "pygments_lexer": "ipython3",
   "version": "3.9.13"
  }
 },
 "nbformat": 4,
 "nbformat_minor": 5
}
