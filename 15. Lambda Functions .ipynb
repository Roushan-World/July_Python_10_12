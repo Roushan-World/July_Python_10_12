{
 "cells": [
  {
   "cell_type": "markdown",
   "id": "19f8f1c5",
   "metadata": {},
   "source": [
    "# 15. Lambda Functions in Python\n",
    "\n",
    " * __A lambda function is a small anonymous function.__\n",
    " \n",
    " * __A lambda function can take any number of arguments, but can only have one expression.__\n",
    " \n",
    " * __The expression is evaluated and returned.__\n",
    " \n",
    " * __Lambda functions can be used wherever function objects are required.__\n",
    " \n",
    " * __Lambda expression(or lambda functions) are essentially blocks of code that can be assigned to variables, passed as an arguments, or returned from a function call, in languages taht support high-order functions.__\n",
    " \n",
    " * __They have been part of programming languages for quire some time.__\n",
    " \n",
    " * __The main role of lambda function is better described in the scenarios when we empoly them anonymously inside another functions.__\n",
    " \n",
    " * __n Python, the lambda function can be utilized as an arguments to the high order functions as arguments.__"
   ]
  },
  {
   "cell_type": "code",
   "execution_count": 1,
   "id": "3094dd33",
   "metadata": {},
   "outputs": [
    {
     "name": "stdout",
     "output_type": "stream",
     "text": [
      "16\n"
     ]
    }
   ],
   "source": [
    "# Define a function using def\n",
    "\n",
    "def f(x):\n",
    "    return x+6\n",
    "print(f(10))"
   ]
  },
  {
   "cell_type": "code",
   "execution_count": 2,
   "id": "45bc80d0",
   "metadata": {},
   "outputs": [
    {
     "data": {
      "text/plain": [
       "16"
      ]
     },
     "execution_count": 2,
     "metadata": {},
     "output_type": "execute_result"
    }
   ],
   "source": [
    "# Define the some value functions using 'lambda'\n",
    "\n",
    "(lambda x:x+6)(10)"
   ]
  },
  {
   "cell_type": "code",
   "execution_count": 3,
   "id": "d1b95136",
   "metadata": {},
   "outputs": [
    {
     "data": {
      "text/plain": [
       "100000000000000000000"
      ]
     },
     "execution_count": 3,
     "metadata": {},
     "output_type": "execute_result"
    }
   ],
   "source": [
    "10**20"
   ]
  },
  {
   "cell_type": "code",
   "execution_count": 6,
   "id": "2e8b90a5",
   "metadata": {},
   "outputs": [
    {
     "name": "stdout",
     "output_type": "stream",
     "text": [
      "The Exponent of 10 and 20 is 100000000000000000000\n"
     ]
    }
   ],
   "source": [
    "def f(x,y):\n",
    "    return x**y\n",
    "print('The Exponent of {} and {} is'.format(10,20),f(10,20))"
   ]
  },
  {
   "cell_type": "code",
   "execution_count": 10,
   "id": "2df4f017",
   "metadata": {},
   "outputs": [
    {
     "name": "stdout",
     "output_type": "stream",
     "text": [
      "The power of 10 and 20 is 100000000000000000000\n"
     ]
    }
   ],
   "source": [
    "print(f'The power of 10 and 20 is {(lambda x,y: x**y) (10,20)}')"
   ]
  },
  {
   "cell_type": "code",
   "execution_count": 11,
   "id": "d5a50964",
   "metadata": {},
   "outputs": [
    {
     "name": "stdout",
     "output_type": "stream",
     "text": [
      "The volue of cube is 8\n"
     ]
    }
   ],
   "source": [
    "# find the volume of cube with lambda function.\n",
    "\n",
    "print(f'The volume of cube is: {(lambda a:a*a*a)(2)}')"
   ]
  },
  {
   "cell_type": "code",
   "execution_count": 12,
   "id": "a63b63df",
   "metadata": {},
   "outputs": [
    {
     "name": "stdout",
     "output_type": "stream",
     "text": [
      "The volume of cube is: 8\n"
     ]
    }
   ],
   "source": [
    "print(f'The volume of cube is: {(lambda a:a**3)(2)}')"
   ]
  },
  {
   "cell_type": "code",
   "execution_count": 4,
   "id": "3cccc34c",
   "metadata": {},
   "outputs": [
    {
     "name": "stdout",
     "output_type": "stream",
     "text": [
      "Enter your age:17\n",
      "You can not vote\n"
     ]
    }
   ],
   "source": [
    "# Write a program to a person is voting or not using lambda function.\n",
    "\n",
    "age=int(input('Enter your age:'))\n",
    "(lambda age:print('Therefore, You can vote') if age>=18 else print('You can not vote'))(age)"
   ]
  },
  {
   "cell_type": "code",
   "execution_count": 5,
   "id": "50737d40",
   "metadata": {},
   "outputs": [
    {
     "name": "stdout",
     "output_type": "stream",
     "text": [
      "Python is a programming language\n"
     ]
    }
   ],
   "source": [
    "text='Python is a programming language'\n",
    "\n",
    "(lambda text:print(text))(text)"
   ]
  },
  {
   "cell_type": "code",
   "execution_count": 10,
   "id": "da6ffade",
   "metadata": {},
   "outputs": [
    {
     "name": "stdout",
     "output_type": "stream",
     "text": [
      "Enter first number:45\n",
      "Enter Second number (to be operated on):15\n",
      "[60, 30, 675, 3.0, 6283298708943145751953125]\n"
     ]
    }
   ],
   "source": [
    "# Write a program to append in the list with some calculation perform using lambda.\n",
    "# (Addition, Substraction, Multiplication, Division and Exponent.) using lambda function.\n",
    "\n",
    "l=[]\n",
    "x=int(input('Enter first number:'))\n",
    "y=int(input('Enter Second number (to be operated on):'))\n",
    "\n",
    "(lambda x,y:l.append(x+y))(x,y)\n",
    "(lambda x,y:l.append(x-y))(x,y)\n",
    "(lambda x,y:l.append(x*y))(x,y)\n",
    "(lambda x,y:l.append(x/y))(x,y)\n",
    "(lambda x,y:l.append(x**y))(x,y)\n",
    "print(l)"
   ]
  },
  {
   "cell_type": "code",
   "execution_count": 11,
   "id": "2d16c8bd",
   "metadata": {},
   "outputs": [
    {
     "name": "stdout",
     "output_type": "stream",
     "text": [
      "enter 0 number : Cat\n",
      "enter 1 number : Mat\n",
      "enter 2 number : Rat\n",
      "enter 3 number : Dog\n",
      "enter 4 number : Elephat\n",
      "enter 5 number : Fish\n",
      "enter 6 number : Gun\n",
      "enter 7 number : Hen\n",
      "enter 8 number : Ice\n",
      "enter 9 number : Cream\n",
      "['Cat', 'Mat', 'Rat', 'Dog', 'Elephat', 'Fish', 'Gun', 'Hen', 'Ice', 'Cream']\n"
     ]
    }
   ],
   "source": [
    "# Write a program to append in the list with 10 string value.\n",
    "l=[]\n",
    "x=10\n",
    "for i in range(x):\n",
    "    x=input(f'enter {i} number : ')\n",
    "    (lambda x:l.append(x))(x)\n",
    "    \n",
    "print(l)"
   ]
  },
  {
   "cell_type": "code",
   "execution_count": 12,
   "id": "6cd6664b",
   "metadata": {},
   "outputs": [],
   "source": [
    "# Write a lambda function with formula of area_Reactangle?\n",
    "# Find the area of circle with lambda function and radius is entered by the user.\n",
    "# Find the area of square with lambda function and side is entered by the user.\n",
    "# Find the perimeter of square with lambda function and side is entered by the user.\n",
    "# Find the perimeter of rectangel with lambda function and side is entered by the  user."
   ]
  },
  {
   "cell_type": "code",
   "execution_count": 14,
   "id": "d1e0c06b",
   "metadata": {},
   "outputs": [
    {
     "name": "stdout",
     "output_type": "stream",
     "text": [
      "Enter lenght of the Reactagle:12\n",
      "Enter the breadth of the Rectangle:13\n",
      "Area of rectangle of len 12 and breadth 13 is: 156\n"
     ]
    }
   ],
   "source": [
    "# Write a lambda function with formula of area_Reactangle?\n",
    "\n",
    "l=int(input('Enter lenght of the Reactagle:'))\n",
    "b=int(input('Enter the breadth of the Rectangle:'))\n",
    "\n",
    "print(f'Area of rectangle of len {l} and breadth {b} is: {(lambda l,b:l*b)(l,b)}')"
   ]
  },
  {
   "cell_type": "code",
   "execution_count": 16,
   "id": "e415dea6",
   "metadata": {},
   "outputs": [
    {
     "name": "stdout",
     "output_type": "stream",
     "text": [
      "enter radius :2\n",
      "area of  circle with radius 2 is: 12.566370614359172 \n"
     ]
    }
   ],
   "source": [
    "# area of circle , radius is entered by user\n",
    "import math\n",
    "r=int(input(\"enter radius :\"))\n",
    "\n",
    "\n",
    "print(f'area of  circle with radius {r} is: {(lambda r:math.pi*r*r)(r)} ')"
   ]
  },
  {
   "cell_type": "code",
   "execution_count": 17,
   "id": "f71d7014",
   "metadata": {},
   "outputs": [
    {
     "name": "stdout",
     "output_type": "stream",
     "text": [
      "enter side :5\n",
      "area of  square with side 5 is: 25 \n"
     ]
    }
   ],
   "source": [
    "# area  of square,side by user\n",
    "\n",
    "s=int(input(\"enter side :\"))\n",
    "\n",
    "\n",
    "print(f'area of  square with side {s} is: {(lambda s:s*s)(s)} ')"
   ]
  },
  {
   "cell_type": "code",
   "execution_count": 18,
   "id": "627af965",
   "metadata": {},
   "outputs": [
    {
     "name": "stdout",
     "output_type": "stream",
     "text": [
      "enter side :5\n",
      "perimeter  of  square with side 5 is: 20 \n"
     ]
    }
   ],
   "source": [
    "# perimeter of square\n",
    "\n",
    "s=int(input(\"enter side :\"))\n",
    "\n",
    "\n",
    "print(f'perimeter  of  square with side {s} is: {(lambda s:4*s)(s)} ')"
   ]
  },
  {
   "cell_type": "code",
   "execution_count": 19,
   "id": "a737fba9",
   "metadata": {},
   "outputs": [
    {
     "name": "stdout",
     "output_type": "stream",
     "text": [
      "enter length :2\n",
      "enter width :5\n",
      "perimeter of  rectangle of length 2 and width 5 is: 14\n"
     ]
    }
   ],
   "source": [
    "# perimeter of rectangle\n",
    "\n",
    "\n",
    "\n",
    "l=int(input(\"enter length :\"))\n",
    "w=int(input(\"enter width :\"))\n",
    "\n",
    "print(f'perimeter of  rectangle of length {l} and width {w} is: {(lambda l,w:2*(l+w))(l,w)}')"
   ]
  },
  {
   "cell_type": "code",
   "execution_count": null,
   "id": "30e1501a",
   "metadata": {},
   "outputs": [],
   "source": []
  }
 ],
 "metadata": {
  "kernelspec": {
   "display_name": "Python 3 (ipykernel)",
   "language": "python",
   "name": "python3"
  },
  "language_info": {
   "codemirror_mode": {
    "name": "ipython",
    "version": 3
   },
   "file_extension": ".py",
   "mimetype": "text/x-python",
   "name": "python",
   "nbconvert_exporter": "python",
   "pygments_lexer": "ipython3",
   "version": "3.9.13"
  }
 },
 "nbformat": 4,
 "nbformat_minor": 5
}
