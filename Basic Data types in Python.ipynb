{
 "cells": [
  {
   "cell_type": "markdown",
   "id": "978de354",
   "metadata": {},
   "source": [
    "# 2. Basic Data types in Python\n"
   ]
  },
  {
   "cell_type": "code",
   "execution_count": 1,
   "id": "eed9f2ef",
   "metadata": {},
   "outputs": [
    {
     "name": "stdout",
     "output_type": "stream",
     "text": [
      "Hello world\n",
      "BhagyaShri\n",
      "265\n",
      "123\n",
      "156\n",
      "200\n",
      "123.2\n",
      "50.69\n",
      "123.0\n",
      "True\n",
      "False\n"
     ]
    }
   ],
   "source": [
    "# 1. String\n",
    "print('Hello world')\n",
    "print('BhagyaShri')\n",
    "print('265')\n",
    "\n",
    "#2. Integer\n",
    "print(123)\n",
    "print(156)\n",
    "print(200)\n",
    "\n",
    "#3.Float\n",
    "print(123.20)\n",
    "print(50.69)\n",
    "print(123.00)\n",
    "\n",
    "#4. Boolean\n",
    "print(True)    \n",
    "print(False)\n",
    "\n"
   ]
  },
  {
   "cell_type": "markdown",
   "id": "905371a4",
   "metadata": {},
   "source": [
    "# type() function"
   ]
  },
  {
   "cell_type": "code",
   "execution_count": 7,
   "id": "d137c048",
   "metadata": {},
   "outputs": [
    {
     "name": "stdout",
     "output_type": "stream",
     "text": [
      "Hello World\n",
      "<class 'str'>\n",
      "BhagyaShri\n",
      "<class 'str'>\n",
      "123\n",
      "<class 'int'>\n",
      "123.2\n",
      "<class 'float'>\n",
      "True\n",
      "<class 'bool'>\n",
      "False\n",
      "<class 'bool'>\n"
     ]
    }
   ],
   "source": [
    "# 1. String    # List  # Tuple  #Set # Dictionary\n",
    "print('Hello World')\n",
    "print(type('Hello World'))\n",
    "print('BhagyaShri')\n",
    "print(type('BhagyaShri'))\n",
    "\n",
    "# 2. Integer\n",
    "\n",
    "print(123)\n",
    "print(type(123))\n",
    "\n",
    "#3. Float\n",
    "print(123.20)\n",
    "print(type(123.20))\n",
    "\n",
    "# 4. Boolean\n",
    "\n",
    "print(True)\n",
    "print(type(True))\n",
    "print(False)\n",
    "print(type(False))"
   ]
  },
  {
   "cell_type": "code",
   "execution_count": 10,
   "id": "aca9ecfd",
   "metadata": {},
   "outputs": [
    {
     "name": "stdout",
     "output_type": "stream",
     "text": [
      "<class 'int'>\n",
      "8\n",
      "<class 'str'>\n"
     ]
    }
   ],
   "source": [
    "number=8\n",
    "\n",
    "print(type(number))\n",
    "print(str(number))\n",
    "print(type(str(number)))"
   ]
  },
  {
   "cell_type": "code",
   "execution_count": 11,
   "id": "9b36b1c1",
   "metadata": {},
   "outputs": [],
   "source": [
    "bool_1=True #str,int,float\n",
    "bool_2=False\n",
    "\n"
   ]
  },
  {
   "cell_type": "markdown",
   "id": "2c66dc2f",
   "metadata": {},
   "source": [
    "# Operators"
   ]
  },
  {
   "cell_type": "code",
   "execution_count": 16,
   "id": "728e51d5",
   "metadata": {},
   "outputs": [
    {
     "name": "stdout",
     "output_type": "stream",
     "text": [
      "3.0\n",
      "3\n",
      "2.25\n",
      "2\n"
     ]
    }
   ],
   "source": [
    "# let's find the data types of 9/3 and 9//3\n",
    "\n",
    "print(9/3)   #float division\n",
    "print(9//3)  # int division\n",
    "\n",
    "print(9/4)\n",
    "print(9//4)"
   ]
  },
  {
   "cell_type": "markdown",
   "id": "8256fcbc",
   "metadata": {},
   "source": [
    "# Expression and variables"
   ]
  },
  {
   "cell_type": "code",
   "execution_count": 21,
   "id": "6dd98fc1",
   "metadata": {},
   "outputs": [
    {
     "name": "stdout",
     "output_type": "stream",
     "text": [
      "2597\n",
      "<class 'int'>\n"
     ]
    }
   ],
   "source": [
    "x=78+56+95-63-89+56*45\n",
    "\n",
    "print(x)\n",
    "print(type(x))"
   ]
  },
  {
   "cell_type": "markdown",
   "id": "7a9cfea6",
   "metadata": {},
   "source": [
    "# substraction"
   ]
  },
  {
   "cell_type": "code",
   "execution_count": 23,
   "id": "73b26090",
   "metadata": {
    "scrolled": true
   },
   "outputs": [
    {
     "name": "stdout",
     "output_type": "stream",
     "text": [
      "-18\n",
      "<class 'int'>\n"
     ]
    }
   ],
   "source": [
    "x = 78-96\n",
    "print(x)\n",
    "print(type(x))"
   ]
  },
  {
   "cell_type": "markdown",
   "id": "1391978f",
   "metadata": {},
   "source": [
    "# Multiplication"
   ]
  },
  {
   "cell_type": "code",
   "execution_count": 26,
   "id": "fbb5efa8",
   "metadata": {},
   "outputs": [
    {
     "name": "stdout",
     "output_type": "stream",
     "text": [
      "3510\n",
      "<class 'int'>\n"
     ]
    }
   ],
   "source": [
    "y = 78*45\n",
    "\n",
    "print(y)\n",
    "print(type(y))"
   ]
  },
  {
   "cell_type": "markdown",
   "id": "cbdbdec0",
   "metadata": {},
   "source": [
    "# Exponent"
   ]
  },
  {
   "cell_type": "code",
   "execution_count": 27,
   "id": "672956d9",
   "metadata": {},
   "outputs": [
    {
     "data": {
      "text/plain": [
       "256"
      ]
     },
     "execution_count": 27,
     "metadata": {},
     "output_type": "execute_result"
    }
   ],
   "source": [
    "y=2**8\n",
    "y"
   ]
  },
  {
   "cell_type": "markdown",
   "id": "1474aa5a",
   "metadata": {},
   "source": [
    "# Modulus"
   ]
  },
  {
   "cell_type": "code",
   "execution_count": 28,
   "id": "3ecf9316",
   "metadata": {},
   "outputs": [
    {
     "data": {
      "text/plain": [
       "0"
      ]
     },
     "execution_count": 28,
     "metadata": {},
     "output_type": "execute_result"
    }
   ],
   "source": [
    "x = 8%2\n",
    "x"
   ]
  },
  {
   "cell_type": "code",
   "execution_count": 29,
   "id": "1db572c4",
   "metadata": {},
   "outputs": [
    {
     "data": {
      "text/plain": [
       "5"
      ]
     },
     "execution_count": 29,
     "metadata": {},
     "output_type": "execute_result"
    }
   ],
   "source": [
    "x = 125%24\n",
    "x"
   ]
  },
  {
   "cell_type": "code",
   "execution_count": null,
   "id": "cbe47016",
   "metadata": {},
   "outputs": [],
   "source": [
    "# An Example: Let's calculate how many minutes are there in 20 hrs?"
   ]
  }
 ],
 "metadata": {
  "kernelspec": {
   "display_name": "Python 3 (ipykernel)",
   "language": "python",
   "name": "python3"
  },
  "language_info": {
   "codemirror_mode": {
    "name": "ipython",
    "version": 3
   },
   "file_extension": ".py",
   "mimetype": "text/x-python",
   "name": "python",
   "nbconvert_exporter": "python",
   "pygments_lexer": "ipython3",
   "version": "3.9.13"
  }
 },
 "nbformat": 4,
 "nbformat_minor": 5
}
