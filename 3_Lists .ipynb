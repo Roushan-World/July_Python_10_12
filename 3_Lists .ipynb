{
 "cells": [
  {
   "cell_type": "markdown",
   "id": "041d4c5c",
   "metadata": {},
   "source": [
    "# 3. Lists in Python\n",
    "\n",
    " * __Lists are ordered.__\n",
    " * __Lists can contains any arbitrary objects.__\n",
    " * __Lists elements can be accessed by index.__\n",
    " * __Lists can be nested to arbitrary depth.__\n",
    " * __Lists are mutable.__\n",
    " * __Lists are dynamic.__   "
   ]
  },
  {
   "cell_type": "code",
   "execution_count": 1,
   "id": "ed0d2f83",
   "metadata": {},
   "outputs": [
    {
     "name": "stdout",
     "output_type": "stream",
     "text": [
      "['Bhagyashri', 25, 2023]\n"
     ]
    }
   ],
   "source": [
    "# Creating a list\n",
    "\n",
    "nlis=['Bhagyashri',25,2023]\n",
    "print(nlis)"
   ]
  },
  {
   "cell_type": "code",
   "execution_count": 2,
   "id": "b28c7cfe",
   "metadata": {},
   "outputs": [
    {
     "name": "stdout",
     "output_type": "stream",
     "text": [
      "<class 'list'>\n"
     ]
    }
   ],
   "source": [
    "print(type(nlis))"
   ]
  },
  {
   "cell_type": "code",
   "execution_count": 7,
   "id": "c9c39473",
   "metadata": {},
   "outputs": [
    {
     "name": "stdout",
     "output_type": "stream",
     "text": [
      "Bhagyashri\n",
      "25\n",
      "2023\n"
     ]
    }
   ],
   "source": [
    "print(nlis[0])\n",
    "print(nlis[1])\n",
    "print(nlis[2])\n",
    "\n"
   ]
  },
  {
   "cell_type": "code",
   "execution_count": 10,
   "id": "b6dccd86",
   "metadata": {},
   "outputs": [
    {
     "name": "stdout",
     "output_type": "stream",
     "text": [
      "Positive and negative indexing of the first element:\n",
      "-Positive index. Bhagyashri \n",
      "-Negative index: Bhagyashri\n",
      "Positive and negative indexing of the first element:\n",
      "-Positive index. 25 \n",
      "-Negative index: 25\n",
      "Positive and negative indexing of the first element:\n",
      "-Positive index. 2023 \n",
      "-Negative index: 2023\n"
     ]
    }
   ],
   "source": [
    "print('Positive and negative indexing of the first element:\\n-Positive index.',nlis[0],'\\n-Negative index:',nlis[-3])\n",
    "print('Positive and negative indexing of the first element:\\n-Positive index.',nlis[1],'\\n-Negative index:',nlis[-2])\n",
    "print('Positive and negative indexing of the first element:\\n-Positive index.',nlis[2],'\\n-Negative index:',nlis[-1])"
   ]
  },
  {
   "cell_type": "markdown",
   "id": "913dbfa3",
   "metadata": {},
   "source": [
    "# What can content a list:\n",
    "\n",
    " * __Strings__\n",
    " * __Floats__\n",
    " * __Integer__\n",
    " * __Boolean__\n",
    " * __Nested List__\n",
    " * __Nested Tuple__\n",
    " * __Other data Structurs.__"
   ]
  },
  {
   "cell_type": "code",
   "execution_count": 11,
   "id": "e5408e4a",
   "metadata": {},
   "outputs": [
    {
     "data": {
      "text/plain": [
       "['Python',\n",
       " 3.14,\n",
       " 1.618,\n",
       " 2023,\n",
       " True,\n",
       " False,\n",
       " [1, 1, 2, 3, 4, 5, 6, 'Bhagyashri'],\n",
       " ('Hello World', 'Python', 2023)]"
      ]
     },
     "execution_count": 11,
     "metadata": {},
     "output_type": "execute_result"
    }
   ],
   "source": [
    "nlis1=['Python',3.14,1.618,2023,True,False,[1,1,2,3,4,5,6,'Bhagyashri'],('Hello World','Python',2023)]\n",
    "\n",
    "nlis1"
   ]
  },
  {
   "cell_type": "code",
   "execution_count": 26,
   "id": "dbe2b5d0",
   "metadata": {},
   "outputs": [
    {
     "name": "stdout",
     "output_type": "stream",
     "text": [
      "Python\n",
      "<class 'str'>\n",
      "3.14\n",
      "<class 'float'>\n",
      "1.618\n",
      "<class 'float'>\n",
      "2023\n",
      "<class 'int'>\n",
      "True\n",
      "<class 'bool'>\n",
      "False\n",
      "<class 'bool'>\n",
      "[1, 1, 2, 3, 4, 5, 6, 'Bhagyashri']\n",
      "<class 'list'>\n",
      "('Hello World', 'Python', 2023)\n",
      "<class 'tuple'>\n"
     ]
    }
   ],
   "source": [
    "print(nlis1[0])\n",
    "print(type(nlis1[0]))\n",
    "print(nlis1[1])\n",
    "print(type(nlis1[1]))\n",
    "print(nlis1[2])\n",
    "print(type(nlis1[2]))\n",
    "print(nlis1[3])\n",
    "print(type(nlis1[3]))\n",
    "print(nlis1[4])\n",
    "print(type(nlis1[4]))\n",
    "print(nlis1[5])\n",
    "print(type(nlis1[5]))\n",
    "print(nlis1[6])\n",
    "print(type(nlis1[6]))\n",
    "print(nlis1[7])\n",
    "print(type(nlis1[7]))"
   ]
  },
  {
   "cell_type": "code",
   "execution_count": 28,
   "id": "07055c4d",
   "metadata": {},
   "outputs": [
    {
     "name": "stdout",
     "output_type": "stream",
     "text": [
      "Bhagyashri\n"
     ]
    }
   ],
   "source": [
    "print(nlis1[6][7])"
   ]
  },
  {
   "cell_type": "code",
   "execution_count": 30,
   "id": "7686ec40",
   "metadata": {},
   "outputs": [
    {
     "name": "stdout",
     "output_type": "stream",
     "text": [
      "Python\n"
     ]
    }
   ],
   "source": [
    "print(nlis1[7][1])"
   ]
  },
  {
   "cell_type": "code",
   "execution_count": 31,
   "id": "a7cf1853",
   "metadata": {},
   "outputs": [
    {
     "name": "stdout",
     "output_type": "stream",
     "text": [
      "8\n"
     ]
    }
   ],
   "source": [
    "# To find the total length of the element\n",
    "print(len(nlis1))"
   ]
  },
  {
   "cell_type": "markdown",
   "id": "26ae91d8",
   "metadata": {},
   "source": [
    "# Slicing of list."
   ]
  },
  {
   "cell_type": "code",
   "execution_count": 34,
   "id": "4f95912f",
   "metadata": {},
   "outputs": [
    {
     "name": "stdout",
     "output_type": "stream",
     "text": [
      "['Python', 3.14, 1.618, 2023, True, False]\n"
     ]
    }
   ],
   "source": [
    "print(nlis1[0:6])"
   ]
  },
  {
   "cell_type": "markdown",
   "id": "faa2b231",
   "metadata": {},
   "source": [
    "# Extending the list.\n",
    "\n",
    " * __We use the extend() function to add a new element to the list.__\n",
    " * __With this function, We add more than one element to the list.__"
   ]
  },
  {
   "cell_type": "code",
   "execution_count": 35,
   "id": "78c6768d",
   "metadata": {},
   "outputs": [
    {
     "data": {
      "text/plain": [
       "['Python',\n",
       " 3.14,\n",
       " 1.618,\n",
       " 2023,\n",
       " True,\n",
       " False,\n",
       " [1, 1, 2, 3, 4, 5, 6, 'Bhagyashri'],\n",
       " ('Hello World', 'Python', 2023)]"
      ]
     },
     "execution_count": 35,
     "metadata": {},
     "output_type": "execute_result"
    }
   ],
   "source": [
    "nlis1"
   ]
  },
  {
   "cell_type": "code",
   "execution_count": 36,
   "id": "22b85e18",
   "metadata": {},
   "outputs": [
    {
     "data": {
      "text/plain": [
       "['Python',\n",
       " 3.14,\n",
       " 1.618,\n",
       " 2023,\n",
       " True,\n",
       " False,\n",
       " [1, 1, 2, 3, 4, 5, 6, 'Bhagyashri'],\n",
       " ('Hello World', 'Python', 2023),\n",
       " 'Bhagyashri Sakat',\n",
       " 'Apple',\n",
       " 'Cat']"
      ]
     },
     "execution_count": 36,
     "metadata": {},
     "output_type": "execute_result"
    }
   ],
   "source": [
    "nlis1.extend(['Bhagyashri Sakat','Apple','Cat'])\n",
    "nlis1"
   ]
  },
  {
   "cell_type": "markdown",
   "id": "90c10620",
   "metadata": {},
   "source": [
    "# append() method\n",
    "\n",
    " * __As different from the extend() method, with the append() method, we add only one element to the list.__\n",
    " * __You can see the difference by comparing the above and below codes.__"
   ]
  },
  {
   "cell_type": "code",
   "execution_count": 37,
   "id": "0d5f7f13",
   "metadata": {},
   "outputs": [
    {
     "data": {
      "text/plain": [
       "['Python',\n",
       " 3.14,\n",
       " 1.618,\n",
       " 2023,\n",
       " True,\n",
       " False,\n",
       " [1, 1, 2, 3, 4, 5, 6, 'Bhagyashri'],\n",
       " ('Hello World', 'Python', 2023),\n",
       " 'Bhagyashri Sakat',\n",
       " 'Apple',\n",
       " 'Cat']"
      ]
     },
     "execution_count": 37,
     "metadata": {},
     "output_type": "execute_result"
    }
   ],
   "source": [
    "nlis1"
   ]
  },
  {
   "cell_type": "code",
   "execution_count": 40,
   "id": "79006a35",
   "metadata": {},
   "outputs": [
    {
     "data": {
      "text/plain": [
       "['Python',\n",
       " 3.14,\n",
       " 1.618,\n",
       " 2023,\n",
       " True,\n",
       " False,\n",
       " [1, 1, 2, 3, 4, 5, 6, 'Bhagyashri'],\n",
       " ('Hello World', 'Python', 2023),\n",
       " 'Bhagyashri Sakat',\n",
       " 'Apple',\n",
       " 'Cat',\n",
       " ['Hello World', 1.618],\n",
       " 'Hello World']"
      ]
     },
     "execution_count": 40,
     "metadata": {},
     "output_type": "execute_result"
    }
   ],
   "source": [
    "nlis1.append('Hello World')\n",
    "nlis1"
   ]
  },
  {
   "cell_type": "markdown",
   "id": "c323f9b9",
   "metadata": {},
   "source": [
    "# Insert() method"
   ]
  },
  {
   "cell_type": "code",
   "execution_count": 43,
   "id": "5f2c09e0",
   "metadata": {},
   "outputs": [
    {
     "data": {
      "text/plain": [
       "['Python',\n",
       " 3.14,\n",
       " 1.618,\n",
       " 2023,\n",
       " True,\n",
       " False,\n",
       " [1, 1, 2, 3, 4, 5, 6, 'Bhagyashri'],\n",
       " ('Hello World', 'Python', 2023),\n",
       " 'Bhagyashri Sakat',\n",
       " 'Apple',\n",
       " 'Cat',\n",
       " ['Hello World', 1.618],\n",
       " 'Hello World',\n",
       " 'Rat',\n",
       " 'Apple',\n",
       " 'Cat']"
      ]
     },
     "execution_count": 43,
     "metadata": {},
     "output_type": "execute_result"
    }
   ],
   "source": [
    "nlis1"
   ]
  },
  {
   "cell_type": "code",
   "execution_count": 47,
   "id": "e4b278c8",
   "metadata": {},
   "outputs": [
    {
     "data": {
      "text/plain": [
       "['Hello World',\n",
       " 'Hello World',\n",
       " 'Python',\n",
       " 3.14,\n",
       " 1.618,\n",
       " 2023,\n",
       " True,\n",
       " False,\n",
       " [1, 1, 2, 3, 4, 5, 6, 'Bhagyashri'],\n",
       " ('Hello World', 'Python', 2023),\n",
       " 'Bhagyashri Sakat',\n",
       " 'Apple',\n",
       " 'Cat',\n",
       " ['Hello World', 1.618],\n",
       " 'Hello World',\n",
       " 'Rat',\n",
       " 'Apple',\n",
       " 'Cat']"
      ]
     },
     "execution_count": 47,
     "metadata": {},
     "output_type": "execute_result"
    }
   ],
   "source": [
    "nlis1.insert(0,'Hello World')\n",
    "nlis1"
   ]
  },
  {
   "cell_type": "markdown",
   "id": "7c2c3278",
   "metadata": {},
   "source": [
    "# list methods"
   ]
  },
  {
   "cell_type": "code",
   "execution_count": 53,
   "id": "e2918bbb",
   "metadata": {},
   "outputs": [
    {
     "name": "stdout",
     "output_type": "stream",
     "text": [
      "3\n",
      "None\n",
      "[]\n"
     ]
    }
   ],
   "source": [
    "x= [10,20,30,30,40,50,30,70,60,60]\n",
    "\n",
    "# Count function\n",
    "\n",
    "print(x.count(30))\n",
    "\n",
    "# clear\n",
    "\n",
    "print(x.clear())\n",
    "print(x)"
   ]
  },
  {
   "cell_type": "code",
   "execution_count": 62,
   "id": "7288dd13",
   "metadata": {},
   "outputs": [
    {
     "name": "stdout",
     "output_type": "stream",
     "text": [
      "0\n",
      "None\n",
      "[10, 20, 30, 30, 40, 30, 70, 60, 60]\n",
      "60\n",
      "[10, 20, 30, 30, 40, 30, 70, 60]\n"
     ]
    }
   ],
   "source": [
    "x1= [10,20,30,30,40,50,30,70,60,60]\n",
    "\n",
    "# index\n",
    "\n",
    "print(x1.index(10))\n",
    "\n",
    "#Delete an element\n",
    "print(x1.remove(50))\n",
    "print(x1)\n",
    "\n",
    "# pop function\n",
    "\n",
    "print(x1.pop())\n",
    "print(x1)"
   ]
  },
  {
   "cell_type": "code",
   "execution_count": 64,
   "id": "8b5c7e19",
   "metadata": {},
   "outputs": [
    {
     "name": "stdout",
     "output_type": "stream",
     "text": [
      "[15, 33, 40, 55, 60, 70]\n",
      "None\n"
     ]
    }
   ],
   "source": [
    "x2=[40,33,55,60,70,15]\n",
    "\n",
    "# Sorting the data in list.\n",
    "x2.sort()\n",
    "print(x2)\n",
    "\n"
   ]
  },
  {
   "cell_type": "code",
   "execution_count": 66,
   "id": "1b5c567b",
   "metadata": {},
   "outputs": [
    {
     "data": {
      "text/plain": [
       "[70, 60, 55, 40, 33, 15]"
      ]
     },
     "execution_count": 66,
     "metadata": {},
     "output_type": "execute_result"
    }
   ],
   "source": [
    "# reverse method\n",
    "x2.reverse()\n",
    "x2"
   ]
  },
  {
   "cell_type": "code",
   "execution_count": 72,
   "id": "4995e8d1",
   "metadata": {},
   "outputs": [
    {
     "name": "stdout",
     "output_type": "stream",
     "text": [
      "['BhagyaShir', 'Hello World', 3.147]\n",
      "['BhagyaShir', 'Hello World', 3.147]\n",
      "['BhagyaShir', 'Hello World', 3.147, 'Apple']\n",
      "['BhagyaShir', 'Hello World', 3.147, 'Apple']\n"
     ]
    }
   ],
   "source": [
    "# Copy function(swallow copy)  #Deep copy and swallow copy\n",
    "y1_original=['BhagyaShir','Hello World',3.147]\n",
    "y1_copy=y1_original\n",
    "print(y1_original)\n",
    "print(y1_copy)\n",
    "\n",
    "y1_original.append('Apple')\n",
    "print(y1_original)\n",
    "print(y1_copy)"
   ]
  },
  {
   "cell_type": "code",
   "execution_count": 76,
   "id": "eaf83e26",
   "metadata": {},
   "outputs": [
    {
     "name": "stdout",
     "output_type": "stream",
     "text": [
      "['Hello World', 3.147, 1.618]\n",
      "['Hello World', 3.147, 1.618]\n",
      "['Hello World', 3.147, 1.618, 'Bhagyashri']\n",
      "['Hello World', 3.147, 1.618]\n"
     ]
    }
   ],
   "source": [
    "# Deep copy\n",
    "\n",
    "x_original=['Hello World',3.147,1.618]\n",
    "\n",
    "x_copy=x_original.copy()\n",
    "print(x_original)\n",
    "print(x_copy)\n",
    "\n",
    "x_original.append('Bhagyashri')\n",
    "print(x_original)\n",
    "print(x_copy)"
   ]
  },
  {
   "cell_type": "code",
   "execution_count": null,
   "id": "2871638a",
   "metadata": {},
   "outputs": [],
   "source": []
  }
 ],
 "metadata": {
  "kernelspec": {
   "display_name": "Python 3 (ipykernel)",
   "language": "python",
   "name": "python3"
  },
  "language_info": {
   "codemirror_mode": {
    "name": "ipython",
    "version": 3
   },
   "file_extension": ".py",
   "mimetype": "text/x-python",
   "name": "python",
   "nbconvert_exporter": "python",
   "pygments_lexer": "ipython3",
   "version": "3.9.13"
  }
 },
 "nbformat": 4,
 "nbformat_minor": 5
}
