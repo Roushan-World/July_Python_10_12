{
 "cells": [
  {
   "cell_type": "markdown",
   "id": "b00fc67b",
   "metadata": {},
   "source": [
    "# 17. Arrays in Python\n",
    "\n",
    "\n",
    " * __Array is a container which can hold a fix number of items and these items hould be of the same type.__\n",
    " * __Most of the data structures make use of arrays to implemenet their algorithms.__\n",
    " * __Lists can be used to form arrays.__\n",
    " * __Following are the important terms to understand the concept of Array.__\n",
    "     \n",
    "     * __Element: Each item stored in an array is called an element.__\n",
    "     * __Index: Each location of an element in an array has a numerical index, which is used to identify the element.__\n",
    "     \n",
    " * __Array index begins with 0.__\n",
    " * __Each element in the array can be accessed with its index number.__\n",
    " * __The length of the array describes the capacity to store the elements.__\n",
    " * __Basic array operations are Transverse, Insertion, Deletion, Search, and Update.__\n",
    " \n",
    " \n",
    "# Creating an array\n",
    "\n",
    " * __You Shold import the module name 'array' as follows:__\n",
    "     \n",
    "     * __Import arrat or from array import (*)__\n",
    "     * __(*) means that it covers all features of the array.__\n",
    " "
   ]
  },
  {
   "cell_type": "code",
   "execution_count": 2,
   "id": "5a7e50e9",
   "metadata": {},
   "outputs": [],
   "source": [
    "# import the module \n",
    "\n",
    "import array as arr\n",
    "\n",
    "from array import *"
   ]
  },
  {
   "cell_type": "code",
   "execution_count": null,
   "id": "726ba8be",
   "metadata": {
    "scrolled": false
   },
   "outputs": [],
   "source": []
  },
  {
   "cell_type": "markdown",
   "id": "1b21def3",
   "metadata": {},
   "source": [
    "|      Type code   C Type             Minimum size in bytes\n",
    "\n",
    "     |      'b'         signed integer     1\n",
    "     \n",
    "     |      'B'         unsigned integer   1\n",
    "     \n",
    "     |      'u'         Unicode character  2 (see note)\n",
    "     \n",
    "     |      'h'         signed integer     2\n",
    "     \n",
    "     |      'H'         unsigned integer   2\n",
    "     \n",
    "     |      'i'         signed integer     2\n",
    "     \n",
    "     |      'I'         unsigned integer   2\n",
    "     \n",
    "     |      'l'         signed integer     4\n",
    "     \n",
    "     |      'L'         unsigned integer   4\n",
    "     \n",
    "     |      'q'         signed integer     8 (see note)\n",
    "     \n",
    "     |      'Q'         unsigned integer   8 (see note)\n",
    "     \n",
    "     |      'f'         floating point     4\n",
    "     \n",
    "     |      'd'         floating point     8"
   ]
  },
  {
   "cell_type": "code",
   "execution_count": 3,
   "id": "b5077331",
   "metadata": {},
   "outputs": [
    {
     "name": "stdout",
     "output_type": "stream",
     "text": [
      "[0.577, 1.618, 3.147, 6, 37, 1729, 100, 200, 300]\n",
      "array('d', [0.577, 1.618, 3.147, 6.0, 37.0, 1729.0, 100.0, 200.0, 300.0])\n"
     ]
    }
   ],
   "source": [
    "special_nums=[0.577,1.618,3.147,6,37,1729,100,200,300]\n",
    "print(special_nums)\n",
    "special_nums1=arr.array('d',[0.577,1.618,3.147,6,37,1729,100,200,300])\n",
    "print(special_nums1)"
   ]
  },
  {
   "cell_type": "code",
   "execution_count": 4,
   "id": "0c1404eb",
   "metadata": {},
   "outputs": [
    {
     "ename": "TypeError",
     "evalue": "float() argument must be a string or a number, not 'list'",
     "output_type": "error",
     "traceback": [
      "\u001b[1;31m---------------------------------------------------------------------------\u001b[0m",
      "\u001b[1;31mTypeError\u001b[0m                                 Traceback (most recent call last)",
      "\u001b[1;32m~\\AppData\\Local\\Temp\\ipykernel_6456\\1265005502.py\u001b[0m in \u001b[0;36m<module>\u001b[1;34m\u001b[0m\n\u001b[1;32m----> 1\u001b[1;33m \u001b[0mx\u001b[0m\u001b[1;33m=\u001b[0m\u001b[0mfloat\u001b[0m\u001b[1;33m(\u001b[0m\u001b[1;33m[\u001b[0m\u001b[1;36m0.577\u001b[0m\u001b[1;33m,\u001b[0m\u001b[1;36m1.618\u001b[0m\u001b[1;33m,\u001b[0m\u001b[1;36m3.147\u001b[0m\u001b[1;33m,\u001b[0m\u001b[1;36m6\u001b[0m\u001b[1;33m,\u001b[0m\u001b[1;36m37\u001b[0m\u001b[1;33m,\u001b[0m\u001b[1;36m1729\u001b[0m\u001b[1;33m,\u001b[0m\u001b[1;36m100\u001b[0m\u001b[1;33m,\u001b[0m\u001b[1;36m200\u001b[0m\u001b[1;33m,\u001b[0m\u001b[1;36m300\u001b[0m\u001b[1;33m]\u001b[0m\u001b[1;33m)\u001b[0m\u001b[1;33m\u001b[0m\u001b[1;33m\u001b[0m\u001b[0m\n\u001b[0m\u001b[0;32m      2\u001b[0m \u001b[0mprint\u001b[0m\u001b[1;33m(\u001b[0m\u001b[0mx\u001b[0m\u001b[1;33m)\u001b[0m\u001b[1;33m\u001b[0m\u001b[1;33m\u001b[0m\u001b[0m\n",
      "\u001b[1;31mTypeError\u001b[0m: float() argument must be a string or a number, not 'list'"
     ]
    }
   ],
   "source": [
    "x=float([0.577,1.618,3.147,6,37,1729,100,200,300])\n",
    "print(x)"
   ]
  },
  {
   "cell_type": "markdown",
   "id": "3392b9ad",
   "metadata": {},
   "source": [
    "# Accessing Values"
   ]
  },
  {
   "cell_type": "code",
   "execution_count": 6,
   "id": "ef76ebe8",
   "metadata": {},
   "outputs": [
    {
     "name": "stdout",
     "output_type": "stream",
     "text": [
      "First element of numbers is: 0.577\n",
      "Second element of numbers is: 1.618\n",
      "Third element of numbers is: 3.147\n",
      "Fourth element of numbers is: 6.0\n",
      "Fifth element of numbers is: 37.0\n"
     ]
    }
   ],
   "source": [
    "special_nums=arr.array('d',[0.577,1.618,3.147,6,37,1729,100,200,300])\n",
    "print(f'First element of numbers is: {special_nums[0]}')\n",
    "print(f'Second element of numbers is: {special_nums[1]}')\n",
    "print(f'Third element of numbers is: {special_nums[2]}')\n",
    "print(f'Fourth element of numbers is: {special_nums[3]}')\n",
    "print(f'Fifth element of numbers is: {special_nums[4]}')"
   ]
  },
  {
   "cell_type": "markdown",
   "id": "b63ccbf1",
   "metadata": {},
   "source": [
    "# Changing or Updating values"
   ]
  },
  {
   "cell_type": "code",
   "execution_count": 14,
   "id": "138f7bee",
   "metadata": {},
   "outputs": [
    {
     "name": "stdout",
     "output_type": "stream",
     "text": [
      "array('i', [0, 1, 1, 2, 3, 5, 8, 13, 21, 34])\n",
      "array('i', [55, 1, 1, 2, 3, 5, 8, 13, 21, 34])\n",
      "array('i', [55, 89, 144, 233, 377, 3, 5, 8, 13, 21, 34])\n"
     ]
    }
   ],
   "source": [
    "nums=arr.array('i',[0,1,1,2,3,5,8,13,21,34])\n",
    "print(nums)\n",
    "\n",
    "#changing the first element of the array\n",
    "nums[0]=55\n",
    "print(nums)\n",
    "\n",
    "#Changing 2nd to 4th element of the array\n",
    "nums[1:4]=arr.array('i',[89,144,233,377])\n",
    "print(nums)"
   ]
  },
  {
   "cell_type": "markdown",
   "id": "f9e71397",
   "metadata": {},
   "source": [
    "# Deleting \n"
   ]
  },
  {
   "cell_type": "code",
   "execution_count": 16,
   "id": "d83435e5",
   "metadata": {},
   "outputs": [
    {
     "name": "stdout",
     "output_type": "stream",
     "text": [
      "array('i', [1, 1, 2, 3, 5, 13, 21, 34])\n",
      "array('i', [1, 5, 13, 21, 34])\n"
     ]
    }
   ],
   "source": [
    "nums=arr.array('i',[0,1,1,2,3,5,13,21,34])\n",
    "\n",
    "# Deleting the first element of the array\n",
    "del nums[0]\n",
    "print(nums)\n",
    "\n",
    "# Deleting the 2nd to 4the elements of the array\n",
    "\n",
    "del nums[1:4]\n",
    "print(nums)"
   ]
  },
  {
   "cell_type": "markdown",
   "id": "1da13435",
   "metadata": {},
   "source": [
    "# lenght of the array"
   ]
  },
  {
   "cell_type": "code",
   "execution_count": 19,
   "id": "09aa69ff",
   "metadata": {},
   "outputs": [
    {
     "name": "stdout",
     "output_type": "stream",
     "text": [
      "array('d', [0.577, 1.618, 2.718, 3.147, 37.0, 1729.0, 300.0, 700.0])\n",
      "The length of the array is 8\n"
     ]
    }
   ],
   "source": [
    "special_nums=arr.array('d',[0.577,1.618,2.718,3.147,37,1729,300,700])\n",
    "print(special_nums)\n",
    "print(f'The length of the array is {len(special_nums)}')"
   ]
  },
  {
   "cell_type": "markdown",
   "id": "99103a75",
   "metadata": {},
   "source": [
    "# Concatenation\n",
    "\n"
   ]
  },
  {
   "cell_type": "code",
   "execution_count": 21,
   "id": "0d86dbc2",
   "metadata": {},
   "outputs": [
    {
     "name": "stdout",
     "output_type": "stream",
     "text": [
      "array('d', [0.577, 1.618, 2.718, 3.14, 6.0, 37.0, 1729.0, 1.0, 1.0, 1.0, 2.0, 2.0, 2.0, 3.0, 3.0, 3.0, 4.0, 13.0, 21.0, 34.0])\n"
     ]
    }
   ],
   "source": [
    "special_nums1=arr.array('d',[0.577,1.618,2.718,3.14,6,37,1729])\n",
    "special_nums2=arr.array('d',[1,1,1,2,2,2,3,3,3,4,13,21,34])\n",
    "\n",
    "z=arr.array('d')\n",
    "z=special_nums1+special_nums2\n",
    "print(z)"
   ]
  },
  {
   "cell_type": "code",
   "execution_count": 20,
   "id": "51b144fc",
   "metadata": {},
   "outputs": [
    {
     "data": {
      "text/plain": [
       "array('d', [0.577, 1.618, 2.718, 3.14, 6.0, 37.0, 1729.0, 1.0, 1.0, 1.0, 2.0, 2.0, 2.0, 3.0, 3.0, 3.0, 4.0, 13.0, 21.0, 34.0])"
      ]
     },
     "execution_count": 20,
     "metadata": {},
     "output_type": "execute_result"
    }
   ],
   "source": [
    "n1=arr.array('d',[0.577,1.618,2.718,3.14,6,37,1729])\n",
    "n2=arr.array('d',[1,1,1,2,2,2,3,3,3,4,13,21,34])\n",
    "n1+n2"
   ]
  },
  {
   "cell_type": "markdown",
   "id": "709360c7",
   "metadata": {},
   "source": [
    "# Creating ID arrays\n",
    "\n"
   ]
  },
  {
   "cell_type": "code",
   "execution_count": 22,
   "id": "36581389",
   "metadata": {},
   "outputs": [
    {
     "name": "stdout",
     "output_type": "stream",
     "text": [
      "[1, 1, 1, 1, 1, 1, 1, 1, 1, 1]\n"
     ]
    }
   ],
   "source": [
    "multi=10\n",
    "one_array=[1]*multi\n",
    "print(one_array)"
   ]
  },
  {
   "cell_type": "code",
   "execution_count": 23,
   "id": "f242d242",
   "metadata": {},
   "outputs": [
    {
     "name": "stdout",
     "output_type": "stream",
     "text": [
      "[0, 1, 2, 3, 4, 5, 6, 7, 8, 9]\n"
     ]
    }
   ],
   "source": [
    "multi=10\n",
    "nums_array=[i for i in range(multi)]\n",
    "print(nums_array)"
   ]
  },
  {
   "cell_type": "code",
   "execution_count": 25,
   "id": "68ac7796",
   "metadata": {},
   "outputs": [
    {
     "name": "stdout",
     "output_type": "stream",
     "text": [
      "array('d', [0.577, 1.618, 2.718, 3.14, 6.0, 37.0, 1729.0])\n",
      "array('d', [0.577, 1.618, 2.718, 3.14, 6.0, 37.0, 1729.0])\n"
     ]
    }
   ],
   "source": [
    "original_array=arr.array('d',[0.577,1.618,2.718,3.14,6,37,1729])\n",
    "z=arr.array('d')\n",
    "z=original_array\n",
    "print(original_array)\n",
    "print(z)\n",
    "\n",
    "\n"
   ]
  },
  {
   "cell_type": "code",
   "execution_count": 26,
   "id": "615f5c51",
   "metadata": {},
   "outputs": [
    {
     "name": "stdout",
     "output_type": "stream",
     "text": [
      "array('d', [0.577, 1.618, 2.718, 3.14, 6.0, 37.0, 1729.0])\n",
      "array('d', [11.0, 22.0, 33.0, 44.0, 55.0, 6.0, 37.0, 1729.0])\n",
      "array('d', [11.0, 22.0, 33.0, 44.0, 55.0, 6.0, 37.0, 1729.0])\n"
     ]
    }
   ],
   "source": [
    "org=arr.array('d',[0.577,1.618,2.718,3.14,6,37,1729])\n",
    "z=arr.array('d')\n",
    "z=org\n",
    "print(z)\n",
    "\n",
    "org[0:4]=arr.array('d',[11,22,33,44,55])\n",
    "print(org)\n",
    "print(z)"
   ]
  },
  {
   "cell_type": "code",
   "execution_count": null,
   "id": "6a42631c",
   "metadata": {},
   "outputs": [],
   "source": []
  }
 ],
 "metadata": {
  "kernelspec": {
   "display_name": "Python 3 (ipykernel)",
   "language": "python",
   "name": "python3"
  },
  "language_info": {
   "codemirror_mode": {
    "name": "ipython",
    "version": 3
   },
   "file_extension": ".py",
   "mimetype": "text/x-python",
   "name": "python",
   "nbconvert_exporter": "python",
   "pygments_lexer": "ipython3",
   "version": "3.9.13"
  }
 },
 "nbformat": 4,
 "nbformat_minor": 5
}
