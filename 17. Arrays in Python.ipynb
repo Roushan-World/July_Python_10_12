{
 "cells": [
  {
   "cell_type": "markdown",
   "id": "b00fc67b",
   "metadata": {},
   "source": [
    "# 17. Arrays in Python\n",
    "\n",
    "\n",
    " * __Array is a container which can hold a fix number of items and these items hould be of the same type.__\n",
    " * __Most of the data structures make use of arrays to implemenet their algorithms.__\n",
    " * __Lists can be used to form arrays.__\n",
    " * __Following are the important terms to understand the concept of Array.__\n",
    "     \n",
    "     * __Element: Each item stored in an array is called an element.__\n",
    "     * __Index: Each location of an element in an array has a numerical index, which is used to identify the element.__\n",
    "     \n",
    " * __Array index begins with 0.__\n",
    " * __Each element in the array can be accessed with its index number.__\n",
    " * __The length of the array describes the capacity to store the elements.__\n",
    " * __Basic array operations are Transverse, Insertion, Deletion, Search, and Update.__\n",
    " \n",
    " \n",
    "# Creating an array\n",
    "\n",
    " * __You Shold import the module name 'array' as follows:__\n",
    "     \n",
    "     * __Import arrat or from array import (*)__\n",
    "     * __(*) means that it covers all features of the array.__\n",
    " "
   ]
  },
  {
   "cell_type": "code",
   "execution_count": 1,
   "id": "5a7e50e9",
   "metadata": {},
   "outputs": [],
   "source": [
    "# import the module \n",
    "\n",
    "import array as arr\n",
    "\n",
    "from array import *"
   ]
  },
  {
   "cell_type": "code",
   "execution_count": null,
   "id": "726ba8be",
   "metadata": {
    "scrolled": false
   },
   "outputs": [],
   "source": []
  },
  {
   "cell_type": "markdown",
   "id": "1b21def3",
   "metadata": {},
   "source": [
    "|      Type code   C Type             Minimum size in bytes\n",
    "\n",
    "     |      'b'         signed integer     1\n",
    "     \n",
    "     |      'B'         unsigned integer   1\n",
    "     \n",
    "     |      'u'         Unicode character  2 (see note)\n",
    "     \n",
    "     |      'h'         signed integer     2\n",
    "     \n",
    "     |      'H'         unsigned integer   2\n",
    "     \n",
    "     |      'i'         signed integer     2\n",
    "     \n",
    "     |      'I'         unsigned integer   2\n",
    "     \n",
    "     |      'l'         signed integer     4\n",
    "     \n",
    "     |      'L'         unsigned integer   4\n",
    "     \n",
    "     |      'q'         signed integer     8 (see note)\n",
    "     \n",
    "     |      'Q'         unsigned integer   8 (see note)\n",
    "     \n",
    "     |      'f'         floating point     4\n",
    "     \n",
    "     |      'd'         floating point     8"
   ]
  },
  {
   "cell_type": "code",
   "execution_count": 5,
   "id": "b5077331",
   "metadata": {},
   "outputs": [
    {
     "name": "stdout",
     "output_type": "stream",
     "text": [
      "[0.577, 1.618, 3.147, 6, 37, 1729, 100, 200, 300]\n",
      "array('d', [0.577, 1.618, 3.147, 6.0, 37.0, 1729.0, 100.0, 200.0, 300.0])\n"
     ]
    }
   ],
   "source": [
    "special_nums=[0.577,1.618,3.147,6,37,1729,100,200,300]\n",
    "print(special_nums)\n",
    "special_nums1=arr.array('d',[0.577,1.618,3.147,6,37,1729,100,200,300])\n",
    "print(special_nums1)"
   ]
  },
  {
   "cell_type": "code",
   "execution_count": 6,
   "id": "0c1404eb",
   "metadata": {},
   "outputs": [
    {
     "ename": "TypeError",
     "evalue": "float() argument must be a string or a number, not 'list'",
     "output_type": "error",
     "traceback": [
      "\u001b[1;31m---------------------------------------------------------------------------\u001b[0m",
      "\u001b[1;31mTypeError\u001b[0m                                 Traceback (most recent call last)",
      "\u001b[1;32m~\\AppData\\Local\\Temp\\ipykernel_10656\\1265005502.py\u001b[0m in \u001b[0;36m<module>\u001b[1;34m\u001b[0m\n\u001b[1;32m----> 1\u001b[1;33m \u001b[0mx\u001b[0m\u001b[1;33m=\u001b[0m\u001b[0mfloat\u001b[0m\u001b[1;33m(\u001b[0m\u001b[1;33m[\u001b[0m\u001b[1;36m0.577\u001b[0m\u001b[1;33m,\u001b[0m\u001b[1;36m1.618\u001b[0m\u001b[1;33m,\u001b[0m\u001b[1;36m3.147\u001b[0m\u001b[1;33m,\u001b[0m\u001b[1;36m6\u001b[0m\u001b[1;33m,\u001b[0m\u001b[1;36m37\u001b[0m\u001b[1;33m,\u001b[0m\u001b[1;36m1729\u001b[0m\u001b[1;33m,\u001b[0m\u001b[1;36m100\u001b[0m\u001b[1;33m,\u001b[0m\u001b[1;36m200\u001b[0m\u001b[1;33m,\u001b[0m\u001b[1;36m300\u001b[0m\u001b[1;33m]\u001b[0m\u001b[1;33m)\u001b[0m\u001b[1;33m\u001b[0m\u001b[1;33m\u001b[0m\u001b[0m\n\u001b[0m\u001b[0;32m      2\u001b[0m \u001b[0mprint\u001b[0m\u001b[1;33m(\u001b[0m\u001b[0mx\u001b[0m\u001b[1;33m)\u001b[0m\u001b[1;33m\u001b[0m\u001b[1;33m\u001b[0m\u001b[0m\n",
      "\u001b[1;31mTypeError\u001b[0m: float() argument must be a string or a number, not 'list'"
     ]
    }
   ],
   "source": [
    "x=float([0.577,1.618,3.147,6,37,1729,100,200,300])\n",
    "print(x)"
   ]
  },
  {
   "cell_type": "code",
   "execution_count": null,
   "id": "862dc785",
   "metadata": {},
   "outputs": [],
   "source": []
  }
 ],
 "metadata": {
  "kernelspec": {
   "display_name": "Python 3 (ipykernel)",
   "language": "python",
   "name": "python3"
  },
  "language_info": {
   "codemirror_mode": {
    "name": "ipython",
    "version": 3
   },
   "file_extension": ".py",
   "mimetype": "text/x-python",
   "name": "python",
   "nbconvert_exporter": "python",
   "pygments_lexer": "ipython3",
   "version": "3.9.13"
  }
 },
 "nbformat": 4,
 "nbformat_minor": 5
}
