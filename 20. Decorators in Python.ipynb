{
 "cells": [
  {
   "cell_type": "markdown",
   "id": "bff7ab0f",
   "metadata": {},
   "source": [
    "# 20. Decorators in Python\n",
    "\n",
    " * __Decorators provides a simple syntax for calling higher-order functions.__\n",
    " * __By definition, a decorator is a function that takes another function and extends the behavior of the latter function without explicitly modifying it.__\n",
    " * __A decorator in Python is a function that takes another functon as its argument, and returns yet another functions.__\n",
    " * __Decorators can be extremely useful as they allow the extension of an existing function, without any modification to the original function source code.__\n",
    " * __In fact, there are two types of decorators in Python including class decorators and function decorators.__\n",
    " * __In application, decorators are majorly used in creating middle layer in the backed, it performs task like token authentication, validation, image compression and many more.__"
   ]
  },
  {
   "cell_type": "code",
   "execution_count": 2,
   "id": "0118f4ea",
   "metadata": {},
   "outputs": [],
   "source": [
    "# Import library\n",
    "\n",
    "import decorator\n",
    "from decorator import *\n",
    "import functools\n",
    "import math\n"
   ]
  },
  {
   "cell_type": "code",
   "execution_count": 4,
   "id": "accb6f5e",
   "metadata": {},
   "outputs": [
    {
     "name": "stdout",
     "output_type": "stream",
     "text": [
      "Help on function decorator in module decorator:\n",
      "\n",
      "decorator(caller, _func=None, kwsyntax=False)\n",
      "    decorator(caller) converts a caller function into a decorator\n",
      "\n"
     ]
    }
   ],
   "source": [
    "help(decorator)"
   ]
  },
  {
   "cell_type": "code",
   "execution_count": 7,
   "id": "94396db6",
   "metadata": {},
   "outputs": [
    {
     "name": "stdout",
     "output_type": "stream",
     "text": [
      "Python is a programming language.\n",
      "Hello,Python\n",
      "Welcome Python\n"
     ]
    }
   ],
   "source": [
    "# Define a functions\n",
    "\n",
    "'''\n",
    "In the following function, When the code was executed, it yeilds the  outputs for both functions. The functions new_text() \n",
    "allowded to the function mytext() and behave as function.\n",
    "\n",
    "'''\n",
    "def mytext(text):\n",
    "    print(text)\n",
    "    \n",
    "mytext('Python is a programming language.')\n",
    "new_text=mytext\n",
    "new_text('Hello,Python')\n",
    "x=mytext\n",
    "x('Welcome Python')"
   ]
  },
  {
   "cell_type": "code",
   "execution_count": 8,
   "id": "77aca1eb",
   "metadata": {},
   "outputs": [
    {
     "data": {
      "text/plain": [
       "10.240000000000002"
      ]
     },
     "execution_count": 8,
     "metadata": {},
     "output_type": "execute_result"
    }
   ],
   "source": [
    "def multiplication(num):\n",
    "    return num*num\n",
    "x=multiplication\n",
    "x(3.2)"
   ]
  },
  {
   "cell_type": "markdown",
   "id": "3ee4fd75",
   "metadata": {},
   "source": [
    "# Nested/Inner Functions "
   ]
  },
  {
   "cell_type": "code",
   "execution_count": 20,
   "id": "cec4c6f0",
   "metadata": {},
   "outputs": [
    {
     "name": "stdout",
     "output_type": "stream",
     "text": [
      "Python is a programming language.\n",
      "Hello,Python\n",
      "Hy,Bhagyashri\n"
     ]
    }
   ],
   "source": [
    "'''\n",
    "\n",
    "\n",
    "'''\n",
    "def mytext():\n",
    "    print('Python is a programming language.')\n",
    "    def new_text():\n",
    "        print('Hello,Python')\n",
    "    def message():\n",
    "        print('Hy,Bhagyashri')\n",
    "        \n",
    "    new_text()\n",
    "        \n",
    "    message()\n",
    "        \n",
    "mytext()"
   ]
  },
  {
   "cell_type": "code",
   "execution_count": 21,
   "id": "4624fd48",
   "metadata": {},
   "outputs": [
    {
     "name": "stdout",
     "output_type": "stream",
     "text": [
      "Python is a programming language:\n"
     ]
    }
   ],
   "source": [
    "'''\n",
    "In the following example, the function text() is nested into the function message().\n",
    "It will return each time when the function text is called.\n",
    "\n",
    "'''\n",
    "\n",
    "def message():\n",
    "    def text():\n",
    "        print('Python is a programming language:')\n",
    "    return text\n",
    "\n",
    "new_message=message()\n",
    "new_message()"
   ]
  },
  {
   "cell_type": "code",
   "execution_count": 24,
   "id": "f3d023f3",
   "metadata": {},
   "outputs": [
    {
     "name": "stdout",
     "output_type": "stream",
     "text": [
      "Python is the most popular programming language.\n"
     ]
    }
   ],
   "source": [
    "def msg(text):\n",
    "    '123'\n",
    "    def mail():\n",
    "        'Hi,Python'\n",
    "        print(text)\n",
    "        \n",
    "    mail()\n",
    "msg('Python is the most popular programming language.')"
   ]
  },
  {
   "cell_type": "code",
   "execution_count": 27,
   "id": "0aac333e",
   "metadata": {},
   "outputs": [
    {
     "name": "stdout",
     "output_type": "stream",
     "text": [
      "8\n",
      "2.0\n"
     ]
    }
   ],
   "source": [
    "# Define a function\n",
    "\n",
    "\n",
    "'''\n",
    "In this function, the multi() and divide() function as an arguments in operator() function are passed.\n",
    "'''\n",
    "\n",
    "def multi(x):\n",
    "    return x*2\n",
    "def divide(x):\n",
    "    return x/2\n",
    "def operator(function,x):\n",
    "    number=function(x)\n",
    "    return number\n",
    "\n",
    "\n",
    "print(operator(multi,4))\n",
    "print(operator(divide,4))"
   ]
  },
  {
   "cell_type": "code",
   "execution_count": 40,
   "id": "b096da92",
   "metadata": {},
   "outputs": [
    {
     "name": "stdout",
     "output_type": "stream",
     "text": [
      "8\n"
     ]
    }
   ],
   "source": [
    "def decorator_one(function):\n",
    "    def inner():\n",
    "        num=function()\n",
    "        return num*(num**num)\n",
    "    return inner\n",
    "\n",
    "\n",
    "def decorator_two(function):\n",
    "    def inner():\n",
    "        num=function()\n",
    "        return (num**num)/num\n",
    "    return inner\n",
    "    \n",
    "@decorator_one     #decorator\n",
    "@decorator_two\n",
    "\n",
    "def number():\n",
    "    return 2\n",
    "print(number())\n",
    "\n",
    "\n",
    "x=pow(4,4)/4\n",
    "print(x*(x**x))"
   ]
  },
  {
   "cell_type": "code",
   "execution_count": 44,
   "id": "c0dd90c2",
   "metadata": {},
   "outputs": [
    {
     "name": "stdout",
     "output_type": "stream",
     "text": [
      "Python is a programming language.\n"
     ]
    }
   ],
   "source": [
    "def msg_func():\n",
    "    def text():\n",
    "        return 'Python is a programming language.'\n",
    "    return text\n",
    "new_msg=msg_func()\n",
    "print(new_msg())"
   ]
  },
  {
   "cell_type": "code",
   "execution_count": 46,
   "id": "541d0b18",
   "metadata": {},
   "outputs": [
    {
     "name": "stdout",
     "output_type": "stream",
     "text": [
      "10\n"
     ]
    }
   ],
   "source": [
    "def addition(a,b):\n",
    "    print(a+b)\n",
    "def outer_addition(func):\n",
    "    def inner(a,b):\n",
    "        if a<b:\n",
    "            a,b=b,a\n",
    "        return func(a,b)\n",
    "    return inner\n",
    "\n",
    "result=outer_addition(addition)\n",
    "result(4,6)"
   ]
  },
  {
   "cell_type": "code",
   "execution_count": 49,
   "id": "faf59717",
   "metadata": {},
   "outputs": [
    {
     "name": "stdout",
     "output_type": "stream",
     "text": [
      "PYTHON IS THE MOST POPULAR PROGRAMMING LANGUAGE.\n"
     ]
    }
   ],
   "source": [
    "def decorated_text_uppercase(func):\n",
    "    def wrapper():\n",
    "        function=func()\n",
    "        text_uppercase=function.upper()\n",
    "        return text_uppercase\n",
    "    return wrapper\n",
    "\n",
    "\n",
    "def text():\n",
    "    return 'Python is the most popular programming language.'\n",
    "decorated_result=decorated_text_uppercase(text)\n",
    "print(decorated_result())"
   ]
  },
  {
   "cell_type": "code",
   "execution_count": 52,
   "id": "83dfd75e",
   "metadata": {},
   "outputs": [
    {
     "name": "stdout",
     "output_type": "stream",
     "text": [
      "MY NAME IS BHAGYASHRI\n"
     ]
    }
   ],
   "source": [
    "@decorated_text_uppercase\n",
    "def text():\n",
    "    return 'My name is bhagyashri'\n",
    "\n",
    "print(text())"
   ]
  },
  {
   "cell_type": "code",
   "execution_count": 56,
   "id": "6c789fd0",
   "metadata": {},
   "outputs": [
    {
     "name": "stdout",
     "output_type": "stream",
     "text": [
      "Python is a programming language.\n",
      "Python is a programming language.\n",
      "Python is a programming language.\n",
      "Python is a programming language.\n",
      "Python is a programming language.\n"
     ]
    }
   ],
   "source": [
    "def do_twice(function):\n",
    "    def wrapper_do_twice():\n",
    "        function()\n",
    "        function()\n",
    "        function()\n",
    "        function()\n",
    "        function()\n",
    "    return wrapper_do_twice\n",
    "\n",
    "\n",
    "@do_twice\n",
    "\n",
    "def text():\n",
    "    print('Python is a programming language.')\n",
    "text()"
   ]
  },
  {
   "cell_type": "code",
   "execution_count": null,
   "id": "213ac7cb",
   "metadata": {},
   "outputs": [],
   "source": []
  }
 ],
 "metadata": {
  "kernelspec": {
   "display_name": "Python 3 (ipykernel)",
   "language": "python",
   "name": "python3"
  },
  "language_info": {
   "codemirror_mode": {
    "name": "ipython",
    "version": 3
   },
   "file_extension": ".py",
   "mimetype": "text/x-python",
   "name": "python",
   "nbconvert_exporter": "python",
   "pygments_lexer": "ipython3",
   "version": "3.9.13"
  }
 },
 "nbformat": 4,
 "nbformat_minor": 5
}
