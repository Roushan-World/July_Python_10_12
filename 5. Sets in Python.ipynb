{
 "cells": [
  {
   "cell_type": "markdown",
   "id": "f2336b59",
   "metadata": {},
   "source": [
    "# 5. Sets in Python\n",
    "\n",
    "\n",
    " * __Sets is one of 4 built-in data types in Python used to store collections of data including List, Tuple, and Dictionary.__\n",
    " * __Sets are unordered, but your can remove items and add new items.__\n",
    " * __Sets elements are unique, Duplicate elements are not allowed.__\n",
    " * __A set itself may be modified, but the elements contained in the set must be of an immutable type.__\n",
    " * __Sets are used to store multiple items in a single variable.__\n",
    " * __You can denote a set with a pair of curly brackets {}.__"
   ]
  },
  {
   "cell_type": "code",
   "execution_count": 6,
   "id": "5ef485db",
   "metadata": {},
   "outputs": [
    {
     "name": "stdout",
     "output_type": "stream",
     "text": [
      "{}\n",
      "<class 'dict'>\n"
     ]
    }
   ],
   "source": [
    "# The empty set of curly braces denotes the empty dictionary, not empty set\n",
    "\n",
    "x = {}\n",
    "print(x)\n",
    "print(type(x))"
   ]
  },
  {
   "cell_type": "code",
   "execution_count": 7,
   "id": "a84b8e21",
   "metadata": {},
   "outputs": [
    {
     "name": "stdout",
     "output_type": "stream",
     "text": [
      "set()\n",
      "<class 'set'>\n"
     ]
    }
   ],
   "source": [
    "y = set()\n",
    "print(y)\n",
    "print(type(y))"
   ]
  },
  {
   "cell_type": "code",
   "execution_count": 8,
   "id": "5f3cef7f",
   "metadata": {},
   "outputs": [
    {
     "data": {
      "text/plain": [
       "{1.618, 2023, 3.14, False, 'Hello Python', 'Hello World', True}"
      ]
     },
     "execution_count": 8,
     "metadata": {},
     "output_type": "execute_result"
    }
   ],
   "source": [
    "# Take a set\n",
    "\n",
    "set1={'Hello Python',3.14,1.618,'Hello World',3.14,1.618,True,False,2023}\n",
    "set1"
   ]
  },
  {
   "cell_type": "code",
   "execution_count": 9,
   "id": "a51c4a43",
   "metadata": {},
   "outputs": [
    {
     "name": "stdout",
     "output_type": "stream",
     "text": [
      "<class 'set'>\n"
     ]
    }
   ],
   "source": [
    "print(type(set1))"
   ]
  },
  {
   "cell_type": "markdown",
   "id": "f4266c04",
   "metadata": {},
   "source": [
    "# Converting list to set\n",
    "\n"
   ]
  },
  {
   "cell_type": "code",
   "execution_count": 14,
   "id": "0d3b4c7b",
   "metadata": {},
   "outputs": [
    {
     "name": "stdout",
     "output_type": "stream",
     "text": [
      "['Hello Python', 3.14, 1.618, 'hello World', 3.14, 1.618, True, False, 2023]\n",
      "<class 'list'>\n",
      "{False, 1.618, True, 3.14, 2023, 'hello World', 'Hello Python'}\n",
      "<class 'set'>\n"
     ]
    }
   ],
   "source": [
    "# A list can convert to a set\n",
    "# Take a list\n",
    "\n",
    "nlis=['Hello Python',3.14,1.618,'hello World',3.14,1.618,True,False,2023]\n",
    "print(nlis)\n",
    "print(type(nlis))\n",
    "\n",
    "# convert the list to a set\n",
    "\n",
    "set2=set(nlis)\n",
    "print(set2)\n",
    "print(type(set2))"
   ]
  },
  {
   "cell_type": "markdown",
   "id": "685ede22",
   "metadata": {},
   "source": [
    "# Set operations "
   ]
  },
  {
   "cell_type": "code",
   "execution_count": 17,
   "id": "c2efb976",
   "metadata": {},
   "outputs": [
    {
     "data": {
      "text/plain": [
       "{1.618, 2023, 3.14, False, 'Hello Python', True, 'hello World'}"
      ]
     },
     "execution_count": 17,
     "metadata": {},
     "output_type": "execute_result"
    }
   ],
   "source": [
    "# Take a set\n",
    "\n",
    "set3=set(['Hello Python',3.14,1.618,'hello World',3.14,1.618,True,False,2023])\n",
    "set3"
   ]
  },
  {
   "cell_type": "markdown",
   "id": "e7dceead",
   "metadata": {},
   "source": [
    "# add() function\n",
    "\n",
    " * __To add an element into a set, we use the function add(). If the same element is added to the set, nothing will happend because the set accepts no duplicates.__"
   ]
  },
  {
   "cell_type": "code",
   "execution_count": 20,
   "id": "6cbfa75a",
   "metadata": {},
   "outputs": [
    {
     "name": "stdout",
     "output_type": "stream",
     "text": [
      "{False, 1.618, True, 3.14, 2023, 'Bhagyashri', 'hello World', 'Hello Python'}\n",
      "{False, 1.618, True, 3.14, 2023, 'Bhagyashri', 'hello World', 'Hello Python'}\n",
      "{False, 1.618, True, 3.14, 2023, 'Bhagyashri', 'hello World', 'Hello Python'}\n"
     ]
    }
   ],
   "source": [
    "# Addition of an element to a set\n",
    "\n",
    "print(set3)\n",
    "set3.add('Bhagyashri')\n",
    "print(set3)\n",
    "set3.add('Bhagyashri')\n",
    "print(set3)"
   ]
  },
  {
   "cell_type": "markdown",
   "id": "128fec1e",
   "metadata": {},
   "source": [
    "# update() function\n",
    "\n",
    " * __To add multiple elements into the set.__"
   ]
  },
  {
   "cell_type": "code",
   "execution_count": 22,
   "id": "177f0168",
   "metadata": {},
   "outputs": [
    {
     "name": "stdout",
     "output_type": "stream",
     "text": [
      "{8, 9, 6, 7}\n",
      "{3, 4, 5, 6, 7, 8, 9}\n"
     ]
    }
   ],
   "source": [
    "x_set={6,7,8,9}\n",
    "print(x_set)\n",
    "x_set.update({3,4,5,6,7,8,9})\n",
    "print(x_set)"
   ]
  },
  {
   "cell_type": "markdown",
   "id": "79ed7008",
   "metadata": {},
   "source": [
    "# remove() function\n",
    "\n",
    " * __To remove an element from the set.__\n",
    " \n",
    " "
   ]
  },
  {
   "cell_type": "code",
   "execution_count": 24,
   "id": "666a9d33",
   "metadata": {},
   "outputs": [
    {
     "name": "stdout",
     "output_type": "stream",
     "text": [
      "{False, 1.618, True, 3.14, 2023, 'Bhagyashri', 'hello World', 'Hello Python'}\n",
      "{False, 1.618, True, 3.14, 2023, 'hello World', 'Hello Python'}\n"
     ]
    }
   ],
   "source": [
    "print(set3)\n",
    "set3.remove('Bhagyashri')\n",
    "print(set3)"
   ]
  },
  {
   "cell_type": "markdown",
   "id": "c377dac7",
   "metadata": {},
   "source": [
    "# Logic oprations in Sets"
   ]
  },
  {
   "cell_type": "code",
   "execution_count": 26,
   "id": "21e23c6e",
   "metadata": {},
   "outputs": [
    {
     "name": "stdout",
     "output_type": "stream",
     "text": [
      "{1.618, 'Hello World', 3.14, 'Hello Python'}\n",
      "{False, 1.618, 3.14, True}\n"
     ]
    }
   ],
   "source": [
    "set4=set(['Hello Python',3.14,1.618,'Hello World'])\n",
    "set5=set([3.14,1.618,True,False])\n",
    "\n",
    "# print two set\n",
    "print(set4)\n",
    "print(set5)\n",
    "\n"
   ]
  },
  {
   "cell_type": "code",
   "execution_count": 27,
   "id": "9783f14b",
   "metadata": {},
   "outputs": [
    {
     "name": "stdout",
     "output_type": "stream",
     "text": [
      "{1.618, 'Hello World', 3.14, 'Hello Python'} {False, 1.618, 3.14, True}\n"
     ]
    }
   ],
   "source": [
    "# another method to printing two set at a time\n",
    "\n",
    "print(set4,set5)"
   ]
  },
  {
   "cell_type": "markdown",
   "id": "6b439a6a",
   "metadata": {},
   "source": [
    "# To find the intersect of two sets using &\n"
   ]
  },
  {
   "cell_type": "code",
   "execution_count": 29,
   "id": "b44e22a1",
   "metadata": {},
   "outputs": [
    {
     "name": "stdout",
     "output_type": "stream",
     "text": [
      "{1.618, 'Hello World', 3.14, 'Hello Python'} {False, 1.618, 3.14, True}\n",
      "{1.618, 3.14}\n"
     ]
    }
   ],
   "source": [
    "print(set4,set5)\n",
    "\n",
    "intersection=set4&set5\n",
    "print(intersection)"
   ]
  },
  {
   "cell_type": "code",
   "execution_count": 30,
   "id": "5c160923",
   "metadata": {},
   "outputs": [
    {
     "data": {
      "text/plain": [
       "{1.618, 3.14}"
      ]
     },
     "execution_count": 30,
     "metadata": {},
     "output_type": "execute_result"
    }
   ],
   "source": [
    "# another method to find intersection between (two sets)\n",
    "\n",
    "set4.intersection(set5)"
   ]
  },
  {
   "cell_type": "markdown",
   "id": "ba0eb69d",
   "metadata": {},
   "source": [
    "# differece() function\n",
    " * __To find the difference between two sets.__"
   ]
  },
  {
   "cell_type": "code",
   "execution_count": 33,
   "id": "8174e379",
   "metadata": {},
   "outputs": [
    {
     "name": "stdout",
     "output_type": "stream",
     "text": [
      "{1.618, 'Hello World', 3.14, 'Hello Python'} {False, 1.618, 3.14, True}\n",
      "{'Hello World', 'Hello Python'}\n",
      "{False, True}\n"
     ]
    }
   ],
   "source": [
    "print(set4,set5)\n",
    "\n",
    "print(set4.difference(set5))    # A-B\n",
    "print(set5.difference(set4))    # B-A"
   ]
  },
  {
   "cell_type": "code",
   "execution_count": 35,
   "id": "c5e75ed4",
   "metadata": {},
   "outputs": [
    {
     "name": "stdout",
     "output_type": "stream",
     "text": [
      "{'Hello World', 'Hello Python'}\n",
      "{False, True}\n"
     ]
    }
   ],
   "source": [
    "# The same process can make using subtraction operators as follows:\n",
    "print(set4-set5)\n",
    "print(set5-set4)"
   ]
  },
  {
   "cell_type": "markdown",
   "id": "f79af2ac",
   "metadata": {},
   "source": [
    "# union() function\n",
    "\n",
    "* __It corresponds to all the element in both sets.__"
   ]
  },
  {
   "cell_type": "code",
   "execution_count": 36,
   "id": "b51f115e",
   "metadata": {},
   "outputs": [
    {
     "data": {
      "text/plain": [
       "{1.618, 3.14, False, 'Hello Python', 'Hello World', True}"
      ]
     },
     "execution_count": 36,
     "metadata": {},
     "output_type": "execute_result"
    }
   ],
   "source": [
    "set4.union(set5)"
   ]
  },
  {
   "cell_type": "code",
   "execution_count": 1,
   "id": "6fb96769",
   "metadata": {},
   "outputs": [
    {
     "data": {
      "text/plain": [
       "{1, 2, 3, 4, 5, 6, 7, 8, 9}"
      ]
     },
     "execution_count": 1,
     "metadata": {},
     "output_type": "execute_result"
    }
   ],
   "source": [
    "x={1,2,3,4,5,6,7,8,9}\n",
    "x"
   ]
  },
  {
   "cell_type": "code",
   "execution_count": 2,
   "id": "4738817a",
   "metadata": {},
   "outputs": [
    {
     "name": "stdout",
     "output_type": "stream",
     "text": [
      "<class 'set'>\n"
     ]
    }
   ],
   "source": [
    "print(type(x))"
   ]
  },
  {
   "cell_type": "markdown",
   "id": "8661b7bb",
   "metadata": {},
   "source": [
    "# clear() function\n",
    "\n",
    " * __It removes all elements in the set and then do the set empty.__"
   ]
  },
  {
   "cell_type": "code",
   "execution_count": 3,
   "id": "4ed4f522",
   "metadata": {},
   "outputs": [
    {
     "data": {
      "text/plain": [
       "{1, 2, 3, 4, 5, 6, 7, 8, 9}"
      ]
     },
     "execution_count": 3,
     "metadata": {},
     "output_type": "execute_result"
    }
   ],
   "source": [
    "x"
   ]
  },
  {
   "cell_type": "code",
   "execution_count": 4,
   "id": "f8144e53",
   "metadata": {},
   "outputs": [
    {
     "data": {
      "text/plain": [
       "set()"
      ]
     },
     "execution_count": 4,
     "metadata": {},
     "output_type": "execute_result"
    }
   ],
   "source": [
    "y=set()\n",
    "y"
   ]
  },
  {
   "cell_type": "code",
   "execution_count": 5,
   "id": "da04d58f",
   "metadata": {},
   "outputs": [
    {
     "data": {
      "text/plain": [
       "{1, 2, 3, 4, 5, 6, 7, 8, 9}"
      ]
     },
     "execution_count": 5,
     "metadata": {},
     "output_type": "execute_result"
    }
   ],
   "source": [
    "x"
   ]
  },
  {
   "cell_type": "code",
   "execution_count": 6,
   "id": "64cfab09",
   "metadata": {},
   "outputs": [
    {
     "name": "stdout",
     "output_type": "stream",
     "text": [
      "set()\n"
     ]
    }
   ],
   "source": [
    "x.clear()\n",
    "print(x)"
   ]
  },
  {
   "cell_type": "markdown",
   "id": "8f285bca",
   "metadata": {},
   "source": [
    "# pop() function\n",
    "\n",
    " * __It removes and return an arbitrary set element.__"
   ]
  },
  {
   "cell_type": "code",
   "execution_count": 7,
   "id": "7437ae3c",
   "metadata": {},
   "outputs": [
    {
     "data": {
      "text/plain": [
       "{0, 1, 2, 3, 4, 5, 6, 7, 8, 9, 10}"
      ]
     },
     "execution_count": 7,
     "metadata": {},
     "output_type": "execute_result"
    }
   ],
   "source": [
    "x = {0,1,2,3,4,5,6,7,8,9,10}\n",
    "x"
   ]
  },
  {
   "cell_type": "code",
   "execution_count": 13,
   "id": "6ad9569b",
   "metadata": {},
   "outputs": [
    {
     "name": "stdout",
     "output_type": "stream",
     "text": [
      "{6, 7, 8, 9, 10}\n"
     ]
    }
   ],
   "source": [
    "x.pop()\n",
    "print(x)"
   ]
  },
  {
   "cell_type": "code",
   "execution_count": null,
   "id": "2fc9d48f",
   "metadata": {},
   "outputs": [],
   "source": []
  },
  {
   "cell_type": "code",
   "execution_count": null,
   "id": "4b9eb03b",
   "metadata": {},
   "outputs": [],
   "source": []
  }
 ],
 "metadata": {
  "kernelspec": {
   "display_name": "Python 3 (ipykernel)",
   "language": "python",
   "name": "python3"
  },
  "language_info": {
   "codemirror_mode": {
    "name": "ipython",
    "version": 3
   },
   "file_extension": ".py",
   "mimetype": "text/x-python",
   "name": "python",
   "nbconvert_exporter": "python",
   "pygments_lexer": "ipython3",
   "version": "3.9.13"
  }
 },
 "nbformat": 4,
 "nbformat_minor": 5
}
