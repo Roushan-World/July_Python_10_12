{
 "cells": [
  {
   "cell_type": "markdown",
   "id": "37e26f88",
   "metadata": {},
   "source": [
    "#  4. Tuples in Python\n",
    "\n",
    " * __Tuples are immutable lists and cannot be changed in any way once it is created.__\n",
    " * __They are enclosed within parenthesis and not within square braces.__\n",
    " * __Tuples are ordered, indexed collections of data.__\n",
    " * __Similar to string indices, the first value in the tuple will have the index[0], the second value[1].__\n",
    " * __Negative indices are counted from the end of the tuple, just like lists.__\n",
    " * __Tuple also has the same structure where commas separate the values.__\n",
    " * __Tuples can store duplicates value.__\n",
    " * __Tuples allow you to store several data items including string, integer, float in one variable.__"
   ]
  },
  {
   "cell_type": "code",
   "execution_count": 10,
   "id": "6a9c8548",
   "metadata": {},
   "outputs": [
    {
     "data": {
      "text/plain": [
       "('Hello',\n",
       " 'Python',\n",
       " 3.14,\n",
       " 1.618,\n",
       " True,\n",
       " False,\n",
       " 32,\n",
       " [1, 2, 3],\n",
       " {'A': 3, 'B': 8},\n",
       " (0, 1))"
      ]
     },
     "execution_count": 10,
     "metadata": {},
     "output_type": "execute_result"
    }
   ],
   "source": [
    "# take an example\n",
    "\n",
    "tuple_1=('Hello','Python',3.14,1.618,True,False,32,[1,2,3],{'A':3,'B':8},(0,1))\n",
    "tuple_1"
   ]
  },
  {
   "cell_type": "code",
   "execution_count": 11,
   "id": "0d894602",
   "metadata": {},
   "outputs": [
    {
     "name": "stdout",
     "output_type": "stream",
     "text": [
      "<class 'tuple'>\n"
     ]
    }
   ],
   "source": [
    "print(type(tuple_1))"
   ]
  },
  {
   "cell_type": "code",
   "execution_count": 12,
   "id": "f6db6702",
   "metadata": {},
   "outputs": [
    {
     "data": {
      "text/plain": [
       "10"
      ]
     },
     "execution_count": 12,
     "metadata": {},
     "output_type": "execute_result"
    }
   ],
   "source": [
    "len(tuple_1)"
   ]
  },
  {
   "cell_type": "code",
   "execution_count": 13,
   "id": "3c62a9ce",
   "metadata": {},
   "outputs": [
    {
     "name": "stdout",
     "output_type": "stream",
     "text": [
      "Hello\n",
      "Python\n"
     ]
    }
   ],
   "source": [
    "print(tuple_1[0])\n",
    "print(tuple_1[1])"
   ]
  },
  {
   "cell_type": "code",
   "execution_count": 14,
   "id": "d7feab4b",
   "metadata": {},
   "outputs": [
    {
     "name": "stdout",
     "output_type": "stream",
     "text": [
      "1\n"
     ]
    }
   ],
   "source": [
    "print(tuple_1[7][0])"
   ]
  },
  {
   "cell_type": "code",
   "execution_count": 15,
   "id": "6d16e3e0",
   "metadata": {},
   "outputs": [
    {
     "data": {
      "text/plain": [
       "0"
      ]
     },
     "execution_count": 15,
     "metadata": {},
     "output_type": "execute_result"
    }
   ],
   "source": [
    "tuple_2=(0,8,9,7,51,2,3,4,5,6)\n",
    "min(tuple_2)"
   ]
  },
  {
   "cell_type": "code",
   "execution_count": 16,
   "id": "f90bb12a",
   "metadata": {},
   "outputs": [
    {
     "data": {
      "text/plain": [
       "51"
      ]
     },
     "execution_count": 16,
     "metadata": {},
     "output_type": "execute_result"
    }
   ],
   "source": [
    "max(tuple_2)"
   ]
  },
  {
   "cell_type": "code",
   "execution_count": 17,
   "id": "594db353",
   "metadata": {},
   "outputs": [
    {
     "name": "stdout",
     "output_type": "stream",
     "text": [
      "[0, 2, 3, 4, 5, 6, 7, 8, 9, 51]\n"
     ]
    }
   ],
   "source": [
    "tuple_3=sorted(tuple_2)\n",
    "print(tuple_3)"
   ]
  },
  {
   "cell_type": "markdown",
   "id": "7084e982",
   "metadata": {},
   "source": [
    "# Nested tuple\n",
    "\n",
    " * __In Python, a tuple written inside another tuple is known as a nested tuple.__"
   ]
  },
  {
   "cell_type": "code",
   "execution_count": 18,
   "id": "735c042b",
   "metadata": {},
   "outputs": [
    {
     "data": {
      "text/plain": [
       "('name', 'python', ('age', 40), ('pi', 3.147), ('number', 1.618))"
      ]
     },
     "execution_count": 18,
     "metadata": {},
     "output_type": "execute_result"
    }
   ],
   "source": [
    "# Take a nested tuple\n",
    "\n",
    "nested_tuple=('name','python',('age',40),('pi',3.147),('number',1.618))\n",
    "nested_tuple"
   ]
  },
  {
   "cell_type": "code",
   "execution_count": 22,
   "id": "7e27d7b1",
   "metadata": {},
   "outputs": [
    {
     "name": "stdout",
     "output_type": "stream",
     "text": [
      "Item 0 of nested tuple is: name\n",
      "Item 1 of nested tuple is: python\n",
      "Item 2 of nested tuple is: ('age', 40)\n",
      "Item 3 of nested tuple is: ('pi', 3.147)\n",
      "Item 4 of nested tuple is: ('number', 1.618)\n"
     ]
    }
   ],
   "source": [
    "# Now priting the each element of the nested tuple\n",
    "\n",
    "print('Item 0 of nested tuple is:',nested_tuple[0])\n",
    "print('Item 1 of nested tuple is:',nested_tuple[1])\n",
    "print('Item 2 of nested tuple is:',nested_tuple[2])\n",
    "print('Item 3 of nested tuple is:',nested_tuple[3])\n",
    "print('Item 4 of nested tuple is:',nested_tuple[4])"
   ]
  },
  {
   "cell_type": "code",
   "execution_count": 25,
   "id": "be7e1a05",
   "metadata": {},
   "outputs": [
    {
     "name": "stdout",
     "output_type": "stream",
     "text": [
      "age\n",
      "40\n"
     ]
    }
   ],
   "source": [
    "print(nested_tuple[2][0])\n",
    "print(nested_tuple[2][1])"
   ]
  },
  {
   "cell_type": "code",
   "execution_count": 27,
   "id": "64a4131a",
   "metadata": {},
   "outputs": [
    {
     "ename": "TypeError",
     "evalue": "'tuple' object does not support item assignment",
     "output_type": "error",
     "traceback": [
      "\u001b[1;31m---------------------------------------------------------------------------\u001b[0m",
      "\u001b[1;31mTypeError\u001b[0m                                 Traceback (most recent call last)",
      "\u001b[1;32m~\\AppData\\Local\\Temp\\ipykernel_11164\\3442134382.py\u001b[0m in \u001b[0;36m<module>\u001b[1;34m\u001b[0m\n\u001b[0;32m      1\u001b[0m \u001b[1;31m# Take a tuple\u001b[0m\u001b[1;33m\u001b[0m\u001b[1;33m\u001b[0m\u001b[0m\n\u001b[0;32m      2\u001b[0m \u001b[0mtuple_4\u001b[0m\u001b[1;33m=\u001b[0m\u001b[1;33m(\u001b[0m\u001b[1;36m1\u001b[0m\u001b[1;33m,\u001b[0m\u001b[1;36m3\u001b[0m\u001b[1;33m,\u001b[0m\u001b[1;36m5\u001b[0m\u001b[1;33m,\u001b[0m\u001b[1;36m7\u001b[0m\u001b[1;33m,\u001b[0m\u001b[1;36m8\u001b[0m\u001b[1;33m)\u001b[0m\u001b[1;33m\u001b[0m\u001b[1;33m\u001b[0m\u001b[0m\n\u001b[1;32m----> 3\u001b[1;33m \u001b[0mtuple_4\u001b[0m\u001b[1;33m[\u001b[0m\u001b[1;36m0\u001b[0m\u001b[1;33m]\u001b[0m\u001b[1;33m=\u001b[0m\u001b[1;36m9\u001b[0m\u001b[1;33m\u001b[0m\u001b[1;33m\u001b[0m\u001b[0m\n\u001b[0m\u001b[0;32m      4\u001b[0m \u001b[0mprint\u001b[0m\u001b[1;33m(\u001b[0m\u001b[0mtuple_4\u001b[0m\u001b[1;33m)\u001b[0m\u001b[1;33m\u001b[0m\u001b[1;33m\u001b[0m\u001b[0m\n",
      "\u001b[1;31mTypeError\u001b[0m: 'tuple' object does not support item assignment"
     ]
    }
   ],
   "source": [
    "# Take a tuple  # Beacause it is immutable data type of python i.e:Tuple.\n",
    "tuple_4=(1,3,5,7,8)\n",
    "tuple_4[0]=9\n",
    "print(tuple_4)"
   ]
  },
  {
   "cell_type": "markdown",
   "id": "1be03292",
   "metadata": {},
   "source": [
    "#  Delete a tuple\n",
    "\n",
    " * __An element in a tuple can not be deleted since it is immutable.__\n",
    " * __But a whole tuple can be deleted.__"
   ]
  },
  {
   "cell_type": "code",
   "execution_count": 30,
   "id": "7d5b8a36",
   "metadata": {},
   "outputs": [
    {
     "name": "stdout",
     "output_type": "stream",
     "text": [
      "Before Deleting: (1, 2, 3, 4, 5, 6, 7, 8, 9)\n"
     ]
    },
    {
     "ename": "TypeError",
     "evalue": "'tuple' object doesn't support item deletion",
     "output_type": "error",
     "traceback": [
      "\u001b[1;31m---------------------------------------------------------------------------\u001b[0m",
      "\u001b[1;31mTypeError\u001b[0m                                 Traceback (most recent call last)",
      "\u001b[1;32m~\\AppData\\Local\\Temp\\ipykernel_11164\\548401321.py\u001b[0m in \u001b[0;36m<module>\u001b[1;34m\u001b[0m\n\u001b[0;32m      1\u001b[0m \u001b[0mtuple_5\u001b[0m\u001b[1;33m=\u001b[0m\u001b[1;33m(\u001b[0m\u001b[1;36m1\u001b[0m\u001b[1;33m,\u001b[0m\u001b[1;36m2\u001b[0m\u001b[1;33m,\u001b[0m\u001b[1;36m3\u001b[0m\u001b[1;33m,\u001b[0m\u001b[1;36m4\u001b[0m\u001b[1;33m,\u001b[0m\u001b[1;36m5\u001b[0m\u001b[1;33m,\u001b[0m\u001b[1;36m6\u001b[0m\u001b[1;33m,\u001b[0m\u001b[1;36m7\u001b[0m\u001b[1;33m,\u001b[0m\u001b[1;36m8\u001b[0m\u001b[1;33m,\u001b[0m\u001b[1;36m9\u001b[0m\u001b[1;33m)\u001b[0m\u001b[1;33m\u001b[0m\u001b[1;33m\u001b[0m\u001b[0m\n\u001b[0;32m      2\u001b[0m \u001b[0mprint\u001b[0m\u001b[1;33m(\u001b[0m\u001b[1;34m'Before Deleting:'\u001b[0m\u001b[1;33m,\u001b[0m\u001b[0mtuple_5\u001b[0m\u001b[1;33m)\u001b[0m\u001b[1;33m\u001b[0m\u001b[1;33m\u001b[0m\u001b[0m\n\u001b[1;32m----> 3\u001b[1;33m \u001b[1;32mdel\u001b[0m\u001b[1;33m(\u001b[0m\u001b[0mtuple_5\u001b[0m\u001b[1;33m[\u001b[0m\u001b[1;36m0\u001b[0m\u001b[1;33m]\u001b[0m\u001b[1;33m)\u001b[0m\u001b[1;33m\u001b[0m\u001b[1;33m\u001b[0m\u001b[0m\n\u001b[0m\u001b[0;32m      4\u001b[0m \u001b[0mprint\u001b[0m\u001b[1;33m(\u001b[0m\u001b[0mtuple_5\u001b[0m\u001b[1;33m)\u001b[0m\u001b[1;33m\u001b[0m\u001b[1;33m\u001b[0m\u001b[0m\n",
      "\u001b[1;31mTypeError\u001b[0m: 'tuple' object doesn't support item deletion"
     ]
    }
   ],
   "source": [
    "tuple_5=(1,2,3,4,5,6,7,8,9)\n",
    "print('Before Deleting:',tuple_5)\n",
    "del(tuple_5[0])\n",
    "print(tuple_5)"
   ]
  },
  {
   "cell_type": "code",
   "execution_count": 33,
   "id": "11a1028d",
   "metadata": {},
   "outputs": [
    {
     "name": "stdout",
     "output_type": "stream",
     "text": [
      "Before deleting: (1, 2, 3, 4, 5, 6, 7, 8, 9)\n"
     ]
    },
    {
     "ename": "NameError",
     "evalue": "name 'tuple_5' is not defined",
     "output_type": "error",
     "traceback": [
      "\u001b[1;31m---------------------------------------------------------------------------\u001b[0m",
      "\u001b[1;31mNameError\u001b[0m                                 Traceback (most recent call last)",
      "\u001b[1;32m~\\AppData\\Local\\Temp\\ipykernel_11164\\2010648211.py\u001b[0m in \u001b[0;36m<module>\u001b[1;34m\u001b[0m\n\u001b[0;32m      3\u001b[0m \u001b[0mprint\u001b[0m\u001b[1;33m(\u001b[0m\u001b[1;34m'Before deleting:'\u001b[0m\u001b[1;33m,\u001b[0m\u001b[0mtuple_5\u001b[0m\u001b[1;33m)\u001b[0m\u001b[1;33m\u001b[0m\u001b[1;33m\u001b[0m\u001b[0m\n\u001b[0;32m      4\u001b[0m \u001b[1;32mdel\u001b[0m\u001b[1;33m(\u001b[0m\u001b[0mtuple_5\u001b[0m\u001b[1;33m)\u001b[0m\u001b[1;33m\u001b[0m\u001b[1;33m\u001b[0m\u001b[0m\n\u001b[1;32m----> 5\u001b[1;33m \u001b[0mprint\u001b[0m\u001b[1;33m(\u001b[0m\u001b[1;34m'After deleting:'\u001b[0m\u001b[1;33m,\u001b[0m\u001b[0mtuple_5\u001b[0m\u001b[1;33m)\u001b[0m\u001b[1;33m\u001b[0m\u001b[1;33m\u001b[0m\u001b[0m\n\u001b[0m",
      "\u001b[1;31mNameError\u001b[0m: name 'tuple_5' is not defined"
     ]
    }
   ],
   "source": [
    "tuple_5\n",
    "\n",
    "print('Before deleting:',tuple_5)\n",
    "del(tuple_5)\n",
    "print('After deleting:',tuple_5)"
   ]
  },
  {
   "cell_type": "code",
   "execution_count": 34,
   "id": "dbe76f67",
   "metadata": {},
   "outputs": [
    {
     "ename": "NameError",
     "evalue": "name 'tuple_5' is not defined",
     "output_type": "error",
     "traceback": [
      "\u001b[1;31m---------------------------------------------------------------------------\u001b[0m",
      "\u001b[1;31mNameError\u001b[0m                                 Traceback (most recent call last)",
      "\u001b[1;32m~\\AppData\\Local\\Temp\\ipykernel_11164\\2829338578.py\u001b[0m in \u001b[0;36m<module>\u001b[1;34m\u001b[0m\n\u001b[1;32m----> 1\u001b[1;33m \u001b[0mtuple_5\u001b[0m\u001b[1;33m\u001b[0m\u001b[1;33m\u001b[0m\u001b[0m\n\u001b[0m",
      "\u001b[1;31mNameError\u001b[0m: name 'tuple_5' is not defined"
     ]
    }
   ],
   "source": [
    "tuple_5"
   ]
  },
  {
   "cell_type": "markdown",
   "id": "b53c8a8b",
   "metadata": {},
   "source": [
    "# count() method\n",
    "\n",
    " * __This method returns the number of times an item occours in a tuple.__\n",
    " \n",
    " "
   ]
  },
  {
   "cell_type": "code",
   "execution_count": 37,
   "id": "77f749db",
   "metadata": {},
   "outputs": [
    {
     "name": "stdout",
     "output_type": "stream",
     "text": [
      "2\n",
      "3\n",
      "3\n"
     ]
    }
   ],
   "source": [
    "tuple_5=(1,1,3,3,5,5,5,6,6,6,7,8,9)\n",
    "\n",
    "print(tuple_5.count(1))\n",
    "print(tuple_5.count(5))\n",
    "print(tuple_5.count(6))"
   ]
  },
  {
   "cell_type": "markdown",
   "id": "acfcc18e",
   "metadata": {},
   "source": [
    "# index() method\n",
    "\n",
    " * __It return the index of the first occurrence of the specified value in a tulple.__"
   ]
  },
  {
   "cell_type": "code",
   "execution_count": 40,
   "id": "0186fc2e",
   "metadata": {},
   "outputs": [
    {
     "name": "stdout",
     "output_type": "stream",
     "text": [
      "4\n",
      "0\n"
     ]
    }
   ],
   "source": [
    "tuple_5=(1,1,3,3,5,5,5,6,6,6,7,8,9)\n",
    "\n",
    "print(tuple_5.index(5))\n",
    "print(tuple_5.index(1))"
   ]
  },
  {
   "cell_type": "markdown",
   "id": "7ffa576b",
   "metadata": {},
   "source": [
    "# One element tuple\n",
    " * __If a tuple includes only one element, you should put a comma after the element. Otherwise, it is not considered as a tuple.__"
   ]
  },
  {
   "cell_type": "code",
   "execution_count": 44,
   "id": "8464b6a4",
   "metadata": {},
   "outputs": [
    {
     "name": "stdout",
     "output_type": "stream",
     "text": [
      "1\n",
      "<class 'int'>\n"
     ]
    }
   ],
   "source": [
    "tuple_6=(1)\n",
    "print(tuple_6)\n",
    "print(type(tuple_6))"
   ]
  },
  {
   "cell_type": "code",
   "execution_count": 45,
   "id": "01df78ab",
   "metadata": {},
   "outputs": [
    {
     "name": "stdout",
     "output_type": "stream",
     "text": [
      "(1,)\n",
      "<class 'tuple'>\n"
     ]
    }
   ],
   "source": [
    "tuple_6=(1,)\n",
    "print(tuple_6)\n",
    "print(type(tuple_6))"
   ]
  },
  {
   "cell_type": "code",
   "execution_count": null,
   "id": "e61dd17e",
   "metadata": {},
   "outputs": [],
   "source": []
  }
 ],
 "metadata": {
  "kernelspec": {
   "display_name": "Python 3 (ipykernel)",
   "language": "python",
   "name": "python3"
  },
  "language_info": {
   "codemirror_mode": {
    "name": "ipython",
    "version": 3
   },
   "file_extension": ".py",
   "mimetype": "text/x-python",
   "name": "python",
   "nbconvert_exporter": "python",
   "pygments_lexer": "ipython3",
   "version": "3.9.13"
  }
 },
 "nbformat": 4,
 "nbformat_minor": 5
}
