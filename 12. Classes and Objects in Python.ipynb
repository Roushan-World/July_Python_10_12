{
 "cells": [
  {
   "cell_type": "markdown",
   "id": "122c0fff",
   "metadata": {},
   "source": [
    "# 12. Classes and Objects in Python\n",
    "\n",
    "\n",
    " * __Python is an object-oriented programming language.__\n",
    " * __Unlinke procedure-oriented programming,where the main emphasis is on functions, object-oriented programming stresses on objects.__\n",
    " * __An object is simply a collection of data (variables) and methods (functions) that act on those data.__\n",
    " * __Similarly, a class is a blueprint for that object.__\n",
    " * __Like function definitions begin with the def keyword in Python, class definitions begin with a class keyword.__\n",
    " * __The first string inside the class is called docstring and has a brief description of the class.__\n",
    " * __Although not mandatory, this is highly recommended.__"
   ]
  },
  {
   "cell_type": "markdown",
   "id": "115aca46",
   "metadata": {},
   "source": [
    "* __Class Student:__\n",
    "           * __school_name__='__ABC School__   # Class Variable\n",
    "           \n",
    "           * def __init__(self,name,age):__ Constructor to initialize instances variable\n",
    "                       * __self.name=name__\n",
    "                       * __self.age=age__\n",
    "                       \n",
    "            * __@classmethod__\n",
    "            * __def change_school(cls,name):__     # Cls-class\n",
    "               * __print(student.school_name)__\n",
    "               * __student.school_name=name__\n",
    "* __Jessa=student('Jessa',14)__\n",
    "* __student.change_school('XYZ School)__\n",
    "                   "
   ]
  },
  {
   "cell_type": "markdown",
   "id": "1073e3c9",
   "metadata": {},
   "source": [
    "# Create a class\n"
   ]
  },
  {
   "cell_type": "code",
   "execution_count": 2,
   "id": "3ee2bacc",
   "metadata": {},
   "outputs": [
    {
     "name": "stdout",
     "output_type": "stream",
     "text": [
      "<__main__.Data object at 0x000001862B63F3D0>\n"
     ]
    }
   ],
   "source": [
    "class Data:\n",
    "    num = 3.14\n",
    "    \n",
    "print(Data())"
   ]
  },
  {
   "cell_type": "code",
   "execution_count": 4,
   "id": "c1bbd14b",
   "metadata": {},
   "outputs": [
    {
     "name": "stdout",
     "output_type": "stream",
     "text": [
      "3.14\n"
     ]
    }
   ],
   "source": [
    "var=Data()\n",
    "print(var.num)"
   ]
  },
  {
   "cell_type": "markdown",
   "id": "f965e66b",
   "metadata": {},
   "source": [
    "#  Function init()"
   ]
  },
  {
   "cell_type": "code",
   "execution_count": 8,
   "id": "1e673f12",
   "metadata": {},
   "outputs": [
    {
     "name": "stdout",
     "output_type": "stream",
     "text": [
      "BhagyaShri\n",
      "44\n",
      "bhagyashri@gmail.com\n"
     ]
    }
   ],
   "source": [
    "class Data:\n",
    "    def __init__(self,name,age,contact):\n",
    "        self.name=name\n",
    "        self.age=age\n",
    "        self.contact=contact\n",
    "        \n",
    "val=Data('BhagyaShri','44','bhagyashri@gmail.com')\n",
    "print(val.name)\n",
    "print(val.age)\n",
    "print(val.contact)"
   ]
  },
  {
   "cell_type": "code",
   "execution_count": 10,
   "id": "4d9be8f0",
   "metadata": {},
   "outputs": [
    {
     "name": "stdout",
     "output_type": "stream",
     "text": [
      "My name is BhagyaShri\n",
      "I am 44 years old.\n",
      "You can contact me on bhagyashri@gmail.com email.\n"
     ]
    }
   ],
   "source": [
    "class Data:\n",
    "    def __init__(self,name,age,contact):\n",
    "        self.name=name\n",
    "        self.age=age\n",
    "        self.contact=contact\n",
    "    \n",
    "    def details_person(self):\n",
    "        print(f'My name is {self.name}')\n",
    "        print(f'I am {self.age} years old.')\n",
    "        print(f'You can contact me on {self.contact} email.')\n",
    "        \n",
    "        \n",
    "        \n",
    "val=Data('BhagyaShri','44','bhagyashri@gmail.com')\n",
    "val.details_person()"
   ]
  },
  {
   "cell_type": "code",
   "execution_count": 13,
   "id": "7c1abbd1",
   "metadata": {},
   "outputs": [
    {
     "name": "stdout",
     "output_type": "stream",
     "text": [
      "My name is Reshmi\n",
      "I am 30 years old.\n",
      "You can contact me on reshmi25@gmail.com email.\n"
     ]
    }
   ],
   "source": [
    "x=Data('Reshmi','30','reshmi25@gmail.com')\n",
    "x.details_person()"
   ]
  },
  {
   "cell_type": "code",
   "execution_count": null,
   "id": "a7f34cd4",
   "metadata": {},
   "outputs": [],
   "source": []
  }
 ],
 "metadata": {
  "kernelspec": {
   "display_name": "Python 3 (ipykernel)",
   "language": "python",
   "name": "python3"
  },
  "language_info": {
   "codemirror_mode": {
    "name": "ipython",
    "version": 3
   },
   "file_extension": ".py",
   "mimetype": "text/x-python",
   "name": "python",
   "nbconvert_exporter": "python",
   "pygments_lexer": "ipython3",
   "version": "3.9.13"
  }
 },
 "nbformat": 4,
 "nbformat_minor": 5
}
