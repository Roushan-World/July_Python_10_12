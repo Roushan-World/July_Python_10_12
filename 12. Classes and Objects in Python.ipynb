{
 "cells": [
  {
   "cell_type": "markdown",
   "id": "122c0fff",
   "metadata": {},
   "source": [
    "# 12. Classes and Objects in Python\n",
    "\n",
    "\n",
    " * __Python is an object-oriented programming language.__\n",
    " * __Unlinke procedure-oriented programming,where the main emphasis is on functions, object-oriented programming stresses on objects.__\n",
    " * __An object is simply a collection of data (variables) and methods (functions) that act on those data.__\n",
    " * __Similarly, a class is a blueprint for that object.__\n",
    " * __Like function definitions begin with the def keyword in Python, class definitions begin with a class keyword.__\n",
    " * __The first string inside the class is called docstring and has a brief description of the class.__\n",
    " * __Although not mandatory, this is highly recommended.__"
   ]
  },
  {
   "cell_type": "markdown",
   "id": "115aca46",
   "metadata": {},
   "source": [
    "* __Class Student:__\n",
    "           * __school_name__='__ABC School__   # Class Variable\n",
    "           \n",
    "           * def __init__(self,name,age):__ Constructor to initialize instances variable\n",
    "                       * __self.name=name__\n",
    "                       * __self.age=age__\n",
    "                       \n",
    "            * __@classmethod__\n",
    "            * __def change_school(cls,name):__     # Cls-class\n",
    "               * __print(student.school_name)__\n",
    "               * __student.school_name=name__\n",
    "* __Jessa=student('Jessa',14)__\n",
    "* __student.change_school('XYZ School)__\n",
    "                   "
   ]
  },
  {
   "cell_type": "markdown",
   "id": "1073e3c9",
   "metadata": {},
   "source": [
    "# Create a class\n"
   ]
  },
  {
   "cell_type": "code",
   "execution_count": 2,
   "id": "3ee2bacc",
   "metadata": {},
   "outputs": [
    {
     "name": "stdout",
     "output_type": "stream",
     "text": [
      "<__main__.Data object at 0x000001862B63F3D0>\n"
     ]
    }
   ],
   "source": [
    "class Data:\n",
    "    num = 3.14\n",
    "    \n",
    "print(Data())"
   ]
  },
  {
   "cell_type": "code",
   "execution_count": 4,
   "id": "c1bbd14b",
   "metadata": {},
   "outputs": [
    {
     "name": "stdout",
     "output_type": "stream",
     "text": [
      "3.14\n"
     ]
    }
   ],
   "source": [
    "var=Data()\n",
    "print(var.num)"
   ]
  },
  {
   "cell_type": "markdown",
   "id": "f965e66b",
   "metadata": {},
   "source": [
    "#  Function init()"
   ]
  },
  {
   "cell_type": "code",
   "execution_count": 8,
   "id": "1e673f12",
   "metadata": {},
   "outputs": [
    {
     "name": "stdout",
     "output_type": "stream",
     "text": [
      "BhagyaShri\n",
      "44\n",
      "bhagyashri@gmail.com\n"
     ]
    }
   ],
   "source": [
    "class Data:\n",
    "    def __init__(self,name,age,contact):\n",
    "        self.name=name\n",
    "        self.age=age\n",
    "        self.contact=contact\n",
    "        \n",
    "val=Data('BhagyaShri','44','bhagyashri@gmail.com')\n",
    "print(val.name)\n",
    "print(val.age)\n",
    "print(val.contact)"
   ]
  },
  {
   "cell_type": "code",
   "execution_count": 10,
   "id": "4d9be8f0",
   "metadata": {},
   "outputs": [
    {
     "name": "stdout",
     "output_type": "stream",
     "text": [
      "My name is BhagyaShri\n",
      "I am 44 years old.\n",
      "You can contact me on bhagyashri@gmail.com email.\n"
     ]
    }
   ],
   "source": [
    "class Data:\n",
    "    def __init__(self,name,age,contact):\n",
    "        self.name=name\n",
    "        self.age=age\n",
    "        self.contact=contact\n",
    "    \n",
    "    def details_person(self):\n",
    "        print(f'My name is {self.name}')\n",
    "        print(f'I am {self.age} years old.')\n",
    "        print(f'You can contact me on {self.contact} email.')\n",
    "        \n",
    "        \n",
    "        \n",
    "val=Data('BhagyaShri','44','bhagyashri@gmail.com')\n",
    "val.details_person()"
   ]
  },
  {
   "cell_type": "code",
   "execution_count": 13,
   "id": "7c1abbd1",
   "metadata": {},
   "outputs": [
    {
     "name": "stdout",
     "output_type": "stream",
     "text": [
      "My name is Reshmi\n",
      "I am 30 years old.\n",
      "You can contact me on reshmi25@gmail.com email.\n"
     ]
    }
   ],
   "source": [
    "x=Data('Reshmi','30','reshmi25@gmail.com')\n",
    "x.details_person()"
   ]
  },
  {
   "cell_type": "code",
   "execution_count": 1,
   "id": "a7f34cd4",
   "metadata": {},
   "outputs": [
    {
     "name": "stdout",
     "output_type": "stream",
     "text": [
      "My name is : Bhagyashri\n",
      "My age is : 33\n",
      "My email is : bpatole61@gmail,com\n",
      "My ph no is : 2548796523\n",
      "My address is : vishrantwadi\n"
     ]
    }
   ],
   "source": [
    "# Write a program to given the details by the user name, age,email, phone no, and address using classes and object.\n",
    "class my:\n",
    "    def __init__(self,name,age,email,ph,add): \n",
    "        self.name=name\n",
    "        self.age=age\n",
    "        self.email=email\n",
    "        self.ph=ph\n",
    "        self.add=add\n",
    "        \n",
    "    def info(self):\n",
    "        print(f\"My name is : {self.name}\")\n",
    "        print(f\"My age is : {self.age}\")\n",
    "        print(f\"My email is : {self.email}\")\n",
    "        print(f\"My ph no is : {self.ph}\")\n",
    "        print(f\"My address is : {self.add}\")\n",
    "        \n",
    "x=my('Bhagyashri',33,'bpatole61@gmail,com',2548796523,'vishrantwadi')\n",
    "x.info()"
   ]
  },
  {
   "cell_type": "code",
   "execution_count": 3,
   "id": "926a1f8f",
   "metadata": {},
   "outputs": [
    {
     "name": "stdout",
     "output_type": "stream",
     "text": [
      "My name is : Divya\n",
      "My age is : 23\n",
      "My email is : divya23@gmail.com\n",
      "My ph no is : 456123789\n",
      "My address is : Gujarat\n"
     ]
    }
   ],
   "source": [
    "y=my('Divya',23,'divya23@gmail.com',456123789,'Gujarat')\n",
    "y.info()"
   ]
  },
  {
   "cell_type": "code",
   "execution_count": 4,
   "id": "af72f4f0",
   "metadata": {},
   "outputs": [
    {
     "name": "stdout",
     "output_type": "stream",
     "text": [
      "My favourite pet is cat his name is : jerry\n",
      "she is : 2 years old\n",
      "she like to eat : fish\n"
     ]
    }
   ],
   "source": [
    "# Write a program with class and object on any pet animals.\n",
    "\n",
    "class animal:\n",
    "    def __init__(self,name,age,food): \n",
    "        self.name=name\n",
    "        self.age=age\n",
    "        self.food=food\n",
    "               \n",
    "    def det(self):\n",
    "        print(f\"My favourite pet is cat his name is : {self.name}\")\n",
    "        print(f\"she is : {self.age} years old\")\n",
    "        print(f\"she like to eat : {self.food}\")\n",
    "              \n",
    "x=animal('jerry',2,'fish')\n",
    "x.det()"
   ]
  },
  {
   "cell_type": "code",
   "execution_count": 5,
   "id": "7af2ee07",
   "metadata": {},
   "outputs": [
    {
     "name": "stdout",
     "output_type": "stream",
     "text": [
      "10\n",
      "5\n",
      "blue\n"
     ]
    },
    {
     "data": {
      "image/png": "[encoded data removed]",
      "text/plain": [
       "<Figure size 640x480 with 1 Axes>"
      ]
     },
     "metadata": {},
     "output_type": "display_data"
    }
   ],
   "source": [
    "# import library to draw Rectangle.\n",
    "\n",
    "import matplotlib.pyplot as plt\n",
    "\n",
    "%matplotlib inline\n",
    "\n",
    "\n",
    "# Creating a class to draw Rectangle.\n",
    "\n",
    "class Rectangle(object):\n",
    "    # Constructor\n",
    "    def __init__(self,width,height,color):\n",
    "        self.width=width\n",
    "        self.height=height\n",
    "        self.color=color\n",
    "        \n",
    "    # method\n",
    "    def drawRectangle(self):\n",
    "        plt.gca().add_patch(plt.Rectangle((0,0),self.width,self.height,fc=self.color))\n",
    "        plt.axis('Scaled')\n",
    "        plt.show\n",
    "        \n",
    "# Creating an object\n",
    "\n",
    "one_Rectangle=Rectangle(10,5,'blue')\n",
    "print(one_Rectangle.width)\n",
    "print(one_Rectangle.height)\n",
    "print(one_Rectangle.color)\n",
    "one_Rectangle.drawRectangle()"
   ]
  },
  {
   "cell_type": "code",
   "execution_count": 6,
   "id": "0d5d5447",
   "metadata": {},
   "outputs": [
    {
     "data": {
      "image/png": "[encoded data removed]",
      "text/plain": [
       "<Figure size 640x480 with 1 Axes>"
      ]
     },
     "metadata": {},
     "output_type": "display_data"
    }
   ],
   "source": [
    "x=Rectangle(20,10,'yellow')\n",
    "x.drawRectangle()\n"
   ]
  },
  {
   "cell_type": "code",
   "execution_count": 7,
   "id": "8c59a527",
   "metadata": {},
   "outputs": [
    {
     "data": {
      "image/png": "[encoded data removed]",
      "text/plain": [
       "<Figure size 640x480 with 1 Axes>"
      ]
     },
     "metadata": {},
     "output_type": "display_data"
    }
   ],
   "source": [
    "y=Rectangle(10,10,'green')\n",
    "y.drawRectangle()"
   ]
  },
  {
   "cell_type": "code",
   "execution_count": null,
   "id": "8cf75478",
   "metadata": {},
   "outputs": [],
   "source": []
  }
 ],
 "metadata": {
  "kernelspec": {
   "display_name": "Python 3 (ipykernel)",
   "language": "python",
   "name": "python3"
  },
  "language_info": {
   "codemirror_mode": {
    "name": "ipython",
    "version": 3
   },
   "file_extension": ".py",
   "mimetype": "text/x-python",
   "name": "python",
   "nbconvert_exporter": "python",
   "pygments_lexer": "ipython3",
   "version": "3.9.13"
  }
 },
 "nbformat": 4,
 "nbformat_minor": 5
}
