{
 "cells": [
  {
   "cell_type": "markdown",
   "id": "152f4716",
   "metadata": {},
   "source": [
    "# 11. Built-in Functions in Python\n",
    "\n",
    "\n",
    " * __A__\n",
    " * __all()__\n",
    " * __abs()__\n",
    " * __any()__\n",
    " * __ascii()__\n",
    " \n",
    " * __B__\n",
    " * __bin()__\n",
    " * __bool()__\n",
    " * __breakpoint()__\n",
    " * __bytearray()__\n",
    " * __bytes()__\n",
    " \n",
    " * __C__\n",
    " * __callable()__\n",
    " * __chr()__\n",
    " * __classmethod()__\n",
    " * __compile()__\n",
    " * __compile()__\n",
    " * __complex()__\n",
    " \n",
    " * __D__\n",
    " * __delattr()__\n",
    " * __dict()__\n",
    " * __dir()__\n",
    " * __divmod()__\n",
    " \n",
    " * __E__\n",
    " * __enumerate()__\n",
    " * __eval()__\n",
    " * __exec()__\n",
    " \n",
    " * __F__\n",
    " * __filter()__\n",
    " * __float()__\n",
    " * __format()__\n",
    " * __frozenset()__\n",
    "\n",
    " * __G__\n",
    " * __getattr()__\n",
    " * __globals()__\n",
    " \n",
    " * __H__\n",
    " * __hasattr()__\n",
    " * __hash()__\n",
    " * __help()__\n",
    " * __hex()__\n",
    " \n",
    " * __I__\n",
    " * __id()__\n",
    " * __input()__\n",
    " * __int()__\n",
    " * __isinstances()__\n",
    " * __issubclass()__\n",
    " * __iter()__\n",
    " \n",
    " * __L__\n",
    " * __len()__\n",
    " * __list()__\n",
    " * __locals()__\n",
    " \n",
    " * __M__\n",
    " * __map()__\n",
    " * __max()__\n",
    " * __memoryview()__\n",
    " * __min()__\n",
    " \n",
    " * __N__\n",
    " * __next()__\n",
    " \n",
    " * __O__\n",
    " * __object()__\n",
    " * __oct()__\n",
    " * __open()__\n",
    " * __ord()__\n",
    " \n",
    " * __P__\n",
    " * __pow()__\n",
    " * __print()__\n",
    " * __property()__\n",
    " \n",
    " * __R__\n",
    " * __range()__\n",
    " * __repr()__\n",
    " * __round()__\n",
    " \n",
    " * __S__\n",
    " * __set()__\n",
    " * __setattr()__\n",
    " * __slice()__\n",
    " * __sorted()__\n",
    " * __staticmethod()__\n",
    " * __str()__\n",
    " * __sum()__\n",
    " * __super()__\n",
    " \n",
    " * __T__\n",
    " * __tuple()__\n",
    " * __type()__\n",
    " \n",
    " * __V__\n",
    " * __vars()__\n",
    " \n",
    " * __Z__\n",
    " * __zip()__\n",
    " \n",
    " * _____\n",
    " * __import()__"
   ]
  },
  {
   "cell_type": "code",
   "execution_count": 8,
   "id": "8b74a844",
   "metadata": {},
   "outputs": [
    {
     "name": "stdout",
     "output_type": "stream",
     "text": [
      "[0.577, 1.618, 2.718, 3.14, 6, 28, 37, 1729]\n",
      "True\n",
      "[0.577, 1.618, 2.718, 3.14, 6, 28, 37, 1729, 0]\n",
      "False\n",
      "[0.577, 1.618, 2.718, 3.14, 6, 28, 37, 1729, 0, False]\n",
      "False\n"
     ]
    }
   ],
   "source": [
    "# all()\n",
    "\n",
    "# It Returns True if all element in passes iterable are True. When the iterable object is empty, it returns True. Here, 0 are \n",
    "# False return False in this funciton.\n",
    "\n",
    "nlis1=0\n",
    "\n",
    "nlis1=[0.577,1.618,2.718,3.14,6,28,37,1729]\n",
    "print(nlis1)\n",
    "print(all(nlis1))\n",
    "\n",
    "nlis1.append(0)  # add 0 to the end of the list\n",
    "print(nlis1)\n",
    "print(all(nlis1))\n",
    "\n",
    "nlis1.append(False) \n",
    "print(nlis1)\n",
    "print(all(nlis1))"
   ]
  },
  {
   "cell_type": "code",
   "execution_count": 10,
   "id": "39d1da98",
   "metadata": {},
   "outputs": [
    {
     "name": "stdout",
     "output_type": "stream",
     "text": [
      "[123, 12, 1]\n",
      "True\n"
     ]
    }
   ],
   "source": [
    "x1=[123,12]\n",
    "x1.append(1)\n",
    "print(x1)\n",
    "print(all(x1))"
   ]
  },
  {
   "cell_type": "code",
   "execution_count": 13,
   "id": "a6e49cd2",
   "metadata": {},
   "outputs": [
    {
     "name": "stdout",
     "output_type": "stream",
     "text": [
      "Enter a number-6\n",
      "Enter second numebr37\n",
      "The absolute value of the first number is 43\n"
     ]
    }
   ],
   "source": [
    "# abs()\n",
    "\n",
    "# Returns the absolute value of any number\n",
    "\n",
    "num1=int(input('Enter a number'))\n",
    "num2=int(input('Enter second numebr'))\n",
    "print('The absolute value of the first number is',abs(num1-num2))"
   ]
  },
  {
   "cell_type": "code",
   "execution_count": 16,
   "id": "ce9e53ca",
   "metadata": {},
   "outputs": [
    {
     "name": "stdout",
     "output_type": "stream",
     "text": [
      "Enter any number:100\n",
      "The binary representation of 100 is 0b1100100\n"
     ]
    }
   ],
   "source": [
    "# bin\n",
    "\n",
    "# It Returns the binary representation of a specified integer\n",
    "\n",
    "num=int(input('Enter any number:'))\n",
    "\n",
    "print(f'The binary representation of {num} is {bin(num)}')"
   ]
  },
  {
   "cell_type": "code",
   "execution_count": 18,
   "id": "db25da86",
   "metadata": {},
   "outputs": [
    {
     "name": "stdout",
     "output_type": "stream",
     "text": [
      "False\n",
      "True\n"
     ]
    }
   ],
   "source": [
    "# callable\n",
    "\n",
    "var=1\n",
    "print(callable(var))\n",
    "\n",
    "def function():\n",
    "    print('Hello World')\n",
    "msg=function\n",
    "print(callable(msg))\n"
   ]
  },
  {
   "cell_type": "code",
   "execution_count": 22,
   "id": "33b5f059",
   "metadata": {},
   "outputs": [
    {
     "name": "stdout",
     "output_type": "stream",
     "text": [
      "B\n",
      "Y\n",
      "\u0003\n"
     ]
    }
   ],
   "source": [
    "# chr\n",
    "\n",
    "print(chr(66))\n",
    "\n",
    "print(chr(89))\n",
    "\n",
    "print(chr(3))"
   ]
  },
  {
   "cell_type": "code",
   "execution_count": 25,
   "id": "b1f961d5",
   "metadata": {},
   "outputs": [
    {
     "name": "stdout",
     "output_type": "stream",
     "text": [
      "<class 'code'>\n",
      "Result= 19.87\n"
     ]
    }
   ],
   "source": [
    "# compile\n",
    "\n",
    "code_line='x=3.14\\ny=2.718\\nprint(\"Result=\",2*x+5*y)'\n",
    "code=compile(code_line,\"Result.py\",'exec')\n",
    "print(type(code))\n",
    "exec(code)"
   ]
  },
  {
   "cell_type": "code",
   "execution_count": null,
   "id": "aa6addd7",
   "metadata": {},
   "outputs": [],
   "source": []
  }
 ],
 "metadata": {
  "kernelspec": {
   "display_name": "Python 3 (ipykernel)",
   "language": "python",
   "name": "python3"
  },
  "language_info": {
   "codemirror_mode": {
    "name": "ipython",
    "version": 3
   },
   "file_extension": ".py",
   "mimetype": "text/x-python",
   "name": "python",
   "nbconvert_exporter": "python",
   "pygments_lexer": "ipython3",
   "version": "3.9.13"
  }
 },
 "nbformat": 4,
 "nbformat_minor": 5
}
