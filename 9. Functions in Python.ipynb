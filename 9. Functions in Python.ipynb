{
 "cells": [
  {
   "cell_type": "markdown",
   "id": "822099b0",
   "metadata": {},
   "source": [
    "# 9. Functions in Python\n",
    "\n",
    "\n",
    " * __In Python, a function is a group of related statements that performs a specific task.__\n",
    " * __Function help break out program into smaller and modular chunks. * As per our program grows larger and larger, functions make it more organized and manageable.__\n",
    " * __Furthermore, it avoids repetition and makes the code reusable.__\n",
    " * __There are two types of functions.__\n",
    " * __Pre-defined functions.__\n",
    " * __User-defined functions.__\n",
    " * __In Python a function is defined using the \"def\" keyword followed by the function name and parentheses().__\n",
    " * __Kyeword def that marks the start of the function header.__\n",
    " * __A function name to uniquely identity the functions.__\n",
    " * __Parameters(arguments) through which we pass values to a function. They are optional.__\n",
    " * __A colon(:) to mark the end of the function header.__\n",
    " * __Optional documentation string (docstring) to describe what the function does.__\n",
    " * __One or more valid python statements that make up the function body.__\n",
    " * __Statement must have the same identation level (usually 4 spaces).__\n",
    " * __An optional return statement to return a value from the functions.__"
   ]
  },
  {
   "cell_type": "code",
   "execution_count": 1,
   "id": "45976da9",
   "metadata": {},
   "outputs": [
    {
     "name": "stdout",
     "output_type": "stream",
     "text": [
      "Bhagyashir\n"
     ]
    }
   ],
   "source": [
    "print('Bhagyashir')"
   ]
  },
  {
   "cell_type": "code",
   "execution_count": 5,
   "id": "73ef680e",
   "metadata": {},
   "outputs": [
    {
     "name": "stdout",
     "output_type": "stream",
     "text": [
      "It display the values of 42,58,400,6.25\n"
     ]
    },
    {
     "data": {
      "text/plain": [
       "(42, 58, 400, 6.25)"
      ]
     },
     "execution_count": 5,
     "metadata": {},
     "output_type": "execute_result"
    }
   ],
   "source": [
    "\n",
    "def process(x):\n",
    "    # argument\n",
    "    y1=x-8\n",
    "    y2=x+8\n",
    "    y3=x*8\n",
    "    y4=x/8\n",
    "    print(f'It display the values of {y1},{y2},{y3},{y4}')\n",
    "    return y1,y2,y3,y4\n",
    "process(50)   # parameter"
   ]
  },
  {
   "cell_type": "code",
   "execution_count": 6,
   "id": "111649c5",
   "metadata": {},
   "outputs": [
    {
     "name": "stdout",
     "output_type": "stream",
     "text": [
      "It display the values of 92,108,800,12.5\n"
     ]
    },
    {
     "data": {
      "text/plain": [
       "(92, 108, 800, 12.5)"
      ]
     },
     "execution_count": 6,
     "metadata": {},
     "output_type": "execute_result"
    }
   ],
   "source": [
    "process(100)"
   ]
  },
  {
   "cell_type": "code",
   "execution_count": 7,
   "id": "0bb53d86",
   "metadata": {},
   "outputs": [
    {
     "name": "stdout",
     "output_type": "stream",
     "text": [
      "It display the values of -88,-72,-640,-10.0\n"
     ]
    },
    {
     "data": {
      "text/plain": [
       "(-88, -72, -640, -10.0)"
      ]
     },
     "execution_count": 7,
     "metadata": {},
     "output_type": "execute_result"
    }
   ],
   "source": [
    "process(-80)"
   ]
  },
  {
   "cell_type": "markdown",
   "id": "843c073a",
   "metadata": {},
   "source": [
    "# Variables\n",
    "\n",
    "\n",
    " * __The input to a function is called a formal parameter.__\n",
    " * __A vadriable that is declared inside a function is called local variable.__\n",
    " * __The parameter only exists within the function (i.e. the point where the function starts and stops.__\n",
    " * __A variable that is declared outside a function definition is a global variable, and its value is accessible and modifiable thougout the program.__"
   ]
  },
  {
   "cell_type": "markdown",
   "id": "1aa6dd21",
   "metadata": {},
   "source": [
    "# Global Variable\n",
    "\n",
    " * __Variable that are created outside a function are known as global vairables.__\n",
    " * __Global variables can be used by everyone, both inside of functions and outside.__"
   ]
  },
  {
   "cell_type": "code",
   "execution_count": 8,
   "id": "88954f8e",
   "metadata": {},
   "outputs": [
    {
     "name": "stdout",
     "output_type": "stream",
     "text": [
      "If you make the obove operations with 10, the result will be 257.757\n"
     ]
    }
   ],
   "source": [
    "# define a function\n",
    "\n",
    "d=0  # global variable\n",
    "\n",
    "def function(x):\n",
    "    y = 3.14   #local variable\n",
    "    z = 3+25*x+1.617+y\n",
    "    \n",
    "    print(f'If you make the obove operations with {x}, the result will be {z}')\n",
    "    \n",
    "function(10)"
   ]
  },
  {
   "cell_type": "markdown",
   "id": "8ffbd87a",
   "metadata": {},
   "source": [
    "# Without return statement, the function returns None."
   ]
  },
  {
   "cell_type": "code",
   "execution_count": 10,
   "id": "f2830345",
   "metadata": {},
   "outputs": [
    {
     "name": "stdout",
     "output_type": "stream",
     "text": [
      "Hello World\n",
      "Bhagyashri\n"
     ]
    }
   ],
   "source": [
    "def msg1():\n",
    "    print('Hello World')\n",
    "def msg2():\n",
    "    print('Bhagyashri')\n",
    "    return None\n",
    "msg1()\n",
    "msg2()"
   ]
  },
  {
   "cell_type": "code",
   "execution_count": 11,
   "id": "198bc7af",
   "metadata": {},
   "outputs": [
    {
     "name": "stdout",
     "output_type": "stream",
     "text": [
      "Hello World\n",
      "None\n"
     ]
    }
   ],
   "source": [
    "print(msg1())"
   ]
  },
  {
   "cell_type": "code",
   "execution_count": 13,
   "id": "46ebd970",
   "metadata": {},
   "outputs": [
    {
     "name": "stdout",
     "output_type": "stream",
     "text": [
      "Bhagyashri\n",
      "None\n"
     ]
    }
   ],
   "source": [
    "print(msg2())"
   ]
  },
  {
   "cell_type": "markdown",
   "id": "7407d407",
   "metadata": {},
   "source": [
    "# Concatenation in Functions\n"
   ]
  },
  {
   "cell_type": "code",
   "execution_count": 21,
   "id": "819ba40a",
   "metadata": {},
   "outputs": [
    {
     "data": {
      "text/plain": [
       "'Bhagyashri Sakat'"
      ]
     },
     "execution_count": 21,
     "metadata": {},
     "output_type": "execute_result"
    }
   ],
   "source": [
    "# Concatenation\n",
    "\n",
    "def string(x,y):\n",
    "    return x+y\n",
    "string(\"Bhagyashri\",\" Sakat\")"
   ]
  },
  {
   "cell_type": "code",
   "execution_count": 27,
   "id": "9701f776",
   "metadata": {},
   "outputs": [
    {
     "data": {
      "text/plain": [
       "'1415'"
      ]
     },
     "execution_count": 27,
     "metadata": {},
     "output_type": "execute_result"
    }
   ],
   "source": [
    "string('14','15')"
   ]
  },
  {
   "cell_type": "code",
   "execution_count": 24,
   "id": "0b192e4a",
   "metadata": {},
   "outputs": [
    {
     "data": {
      "text/plain": [
       "'Surendra patade'"
      ]
     },
     "execution_count": 24,
     "metadata": {},
     "output_type": "execute_result"
    }
   ],
   "source": [
    "string('Surendra',' patade')"
   ]
  },
  {
   "cell_type": "code",
   "execution_count": 28,
   "id": "d3a74425",
   "metadata": {},
   "outputs": [
    {
     "data": {
      "text/plain": [
       "''"
      ]
     },
     "execution_count": 28,
     "metadata": {},
     "output_type": "execute_result"
    }
   ],
   "source": [
    "string('','')"
   ]
  },
  {
   "cell_type": "code",
   "execution_count": 33,
   "id": "70901779",
   "metadata": {},
   "outputs": [
    {
     "name": "stdout",
     "output_type": "stream",
     "text": [
      "Enter any number7\n",
      "You should not watch this movie with rating is 7.\n"
     ]
    }
   ],
   "source": [
    "# Write a program to print rating if rating is above 8.0 then display you can watch the movie, otherwise rating below 8.0 it\n",
    "# display you should not watch this movie.\n",
    "\n",
    "def rating_value(rating):\n",
    "    if rating<8.0:\n",
    "        return (f'You should not watch this movie with rating is {rating}.')\n",
    "    else:\n",
    "        return (f'You should watch this movie with ratng is {rating}.')\n",
    "print(rating_value(int(input('Enter any number'))))\n",
    "\n"
   ]
  },
  {
   "cell_type": "code",
   "execution_count": 37,
   "id": "effbc18d",
   "metadata": {},
   "outputs": [
    {
     "name": "stdout",
     "output_type": "stream",
     "text": [
      "You should watch this movie with ratng is 8.0.\n",
      "Enter any number7\n",
      "You should not watch this movie with rating is 7.\n"
     ]
    }
   ],
   "source": [
    "# Write a program to print rating if rating is above 8.0 then display you can watch the movie, otherwise rating below 8.0 it\n",
    "# display you should not watch this movie.\n",
    "\n",
    "def rating_value(rating=8.0):   # rating=5.5 it display default value\n",
    "    if rating<8.0:\n",
    "        return (f'You should not watch this movie with rating is {rating}.')\n",
    "    else:\n",
    "        return (f'You should watch this movie with ratng is {rating}.')\n",
    "print(rating_value())\n",
    "print(rating_value(int(input('Enter any number'))))"
   ]
  },
  {
   "cell_type": "markdown",
   "id": "f1099d34",
   "metadata": {},
   "source": [
    "# Docstring in Functions"
   ]
  },
  {
   "cell_type": "code",
   "execution_count": 42,
   "id": "72276482",
   "metadata": {},
   "outputs": [
    {
     "name": "stdout",
     "output_type": "stream",
     "text": [
      "The following functions return the sum of two parameters.\n",
      "30\n"
     ]
    }
   ],
   "source": [
    "# Define a function\n",
    "\n",
    "\n",
    "y=0\n",
    "z=0\n",
    "\n",
    "def addition(x,y):\n",
    "    '''The following functions return the sum of two parameters.'''   #Docstring   # multiple line comment\n",
    "    z = x+y\n",
    "    return z\n",
    "print(addition.__doc__)\n",
    "print(addition(15,15))"
   ]
  },
  {
   "cell_type": "code",
   "execution_count": 1,
   "id": "02114984",
   "metadata": {},
   "outputs": [
    {
     "name": "stdout",
     "output_type": "stream",
     "text": [
      "The sum of the number from 1 to 10 is: 55\n"
     ]
    }
   ],
   "source": [
    "# Write a program to display the sum of first ten number using function.\n",
    "\n",
    "def total_sum(number,sum1):\n",
    "    if number==11:\n",
    "        return sum1\n",
    "    else:\n",
    "        return total_sum(number+1,sum1+number)\n",
    "print('The sum of the number from 1 to 10 is:',total_sum(1,0))"
   ]
  },
  {
   "cell_type": "code",
   "execution_count": 2,
   "id": "aedad033",
   "metadata": {},
   "outputs": [
    {
     "name": "stdout",
     "output_type": "stream",
     "text": [
      "55\n"
     ]
    }
   ],
   "source": [
    "# same program using for loop with function\n",
    "\n",
    "\n",
    "def tensum(n):\n",
    "    \n",
    "    l=n\n",
    "    s=0\n",
    "    for i in range(l+1):\n",
    "        \n",
    "        s+=i\n",
    "    print(s)\n",
    "tensum(10)"
   ]
  },
  {
   "cell_type": "code",
   "execution_count": 3,
   "id": "919de85f",
   "metadata": {},
   "outputs": [
    {
     "name": "stdout",
     "output_type": "stream",
     "text": [
      "Enter your name\n",
      "Congratulations!\n"
     ]
    }
   ],
   "source": [
    "# Define a function to giving a message. Welcome with your name (congratulation! and your name).\n",
    "\n",
    "def function(name):\n",
    "    msg='Congratulations!'+name\n",
    "    return msg\n",
    "name=input('Enter your name')\n",
    "print(function(name))"
   ]
  },
  {
   "cell_type": "code",
   "execution_count": 4,
   "id": "0b5e46b1",
   "metadata": {},
   "outputs": [
    {
     "name": "stdout",
     "output_type": "stream",
     "text": [
      "Enter your namex\n",
      "Congratulations!x\n"
     ]
    }
   ],
   "source": [
    "# Define a function to giving a message. Welcome with your name (congratulation! and your name).\n",
    "\n",
    "def function(name):\n",
    "    x='Congratulations!'\n",
    "    msg=x+name\n",
    "    return msg\n",
    "name=input('Enter your name')\n",
    "print(function(name))"
   ]
  },
  {
   "cell_type": "code",
   "execution_count": 50,
   "id": "5f29f946",
   "metadata": {},
   "outputs": [
    {
     "name": "stdout",
     "output_type": "stream",
     "text": [
      "Enter your nameBhagyashri\n",
      "Welcome and Congratulations Bhagyashri\n"
     ]
    }
   ],
   "source": [
    "name=input('Enter your name')\n",
    "\n",
    "def welcome(name):\n",
    "    z=name\n",
    "    print(f'Welcome and Congratulations',z)\n",
    "welcome(name)"
   ]
  },
  {
   "cell_type": "code",
   "execution_count": 5,
   "id": "2075353f",
   "metadata": {},
   "outputs": [
    {
     "name": "stdout",
     "output_type": "stream",
     "text": [
      "Enter your nameBhagyashri\n",
      "Congratulation!,Bhagyashri\n"
     ]
    }
   ],
   "source": [
    "name=input('Enter your name')\n",
    "def x(name):\n",
    "    print(f'Congratulation!,{name}')\n",
    "    \n",
    "x(name)"
   ]
  },
  {
   "cell_type": "code",
   "execution_count": 6,
   "id": "33279b68",
   "metadata": {},
   "outputs": [
    {
     "name": "stdout",
     "output_type": "stream",
     "text": [
      "Congratulation!,Bhagyashri\n"
     ]
    }
   ],
   "source": [
    "x(name)"
   ]
  },
  {
   "cell_type": "markdown",
   "id": "d803a4d8",
   "metadata": {},
   "source": [
    "# predefined functions like print(), sum(), len(), min(),max(), input()"
   ]
  },
  {
   "cell_type": "code",
   "execution_count": 7,
   "id": "853a773c",
   "metadata": {},
   "outputs": [
    {
     "name": "stdout",
     "output_type": "stream",
     "text": [
      "[0.577, 2.718, 3.147, 1729, 6, 28, 37]\n"
     ]
    }
   ],
   "source": [
    "special_nums=[0.577,2.718,3.147,1729,6,28,37]\n",
    "\n",
    "print(special_nums)"
   ]
  },
  {
   "cell_type": "code",
   "execution_count": 8,
   "id": "f6938ab3",
   "metadata": {},
   "outputs": [
    {
     "data": {
      "text/plain": [
       "1806.442"
      ]
     },
     "execution_count": 8,
     "metadata": {},
     "output_type": "execute_result"
    }
   ],
   "source": [
    "sum(special_nums)"
   ]
  },
  {
   "cell_type": "code",
   "execution_count": 9,
   "id": "9b08b78b",
   "metadata": {},
   "outputs": [
    {
     "data": {
      "text/plain": [
       "7"
      ]
     },
     "execution_count": 9,
     "metadata": {},
     "output_type": "execute_result"
    }
   ],
   "source": [
    "len(special_nums)"
   ]
  },
  {
   "cell_type": "code",
   "execution_count": 10,
   "id": "ce7b82df",
   "metadata": {},
   "outputs": [
    {
     "data": {
      "text/plain": [
       "0.577"
      ]
     },
     "execution_count": 10,
     "metadata": {},
     "output_type": "execute_result"
    }
   ],
   "source": [
    "min(special_nums)"
   ]
  },
  {
   "cell_type": "code",
   "execution_count": 11,
   "id": "fd69d013",
   "metadata": {},
   "outputs": [
    {
     "data": {
      "text/plain": [
       "1729"
      ]
     },
     "execution_count": 11,
     "metadata": {},
     "output_type": "execute_result"
    }
   ],
   "source": [
    "max(special_nums)"
   ]
  },
  {
   "cell_type": "code",
   "execution_count": 14,
   "id": "3454c0ba",
   "metadata": {},
   "outputs": [
    {
     "name": "stdout",
     "output_type": "stream",
     "text": [
      "Maximum number is: 50\n"
     ]
    }
   ],
   "source": [
    "# Write a program to find the maximum of three numbers using function.\n",
    "def maximum(a,b,c):\n",
    "    d=[a,b,c]\n",
    "    print('Maximum number is:',max(d))\n",
    "maximum(50,20,10)\n",
    "    "
   ]
  },
  {
   "cell_type": "code",
   "execution_count": 15,
   "id": "5a3df5f8",
   "metadata": {},
   "outputs": [
    {
     "name": "stdout",
     "output_type": "stream",
     "text": [
      "300\n"
     ]
    }
   ],
   "source": [
    "def max_of_two(x,y):\n",
    "    if x>y:\n",
    "        return x\n",
    "    return y\n",
    "def max_of_three(x,y,z):\n",
    "    return max_of_two(x,max_of_two(y,z))\n",
    "print(max_of_three(100,15,300))"
   ]
  },
  {
   "cell_type": "code",
   "execution_count": 16,
   "id": "68c71793",
   "metadata": {},
   "outputs": [
    {
     "name": "stdout",
     "output_type": "stream",
     "text": [
      "15 is greater than 10,9\n"
     ]
    }
   ],
   "source": [
    "def num(n1,n2,n3):\n",
    "    if n1>n2 and n2>n3:\n",
    "        print(f'{n1} is greater than {n2},{n3}')\n",
    "    elif n2>n1 and n2>n3:\n",
    "        print(f'{n2} is greater than {n1},{n3}')\n",
    "    else:\n",
    "        print(f'{n3} is greater than {n1},{n2}')\n",
    "num(10,15,9)"
   ]
  },
  {
   "cell_type": "code",
   "execution_count": 17,
   "id": "dfbf0413",
   "metadata": {},
   "outputs": [
    {
     "name": "stdout",
     "output_type": "stream",
     "text": [
      "2003\n"
     ]
    }
   ],
   "source": [
    "print(max_of_three(1005,1006,2003))"
   ]
  },
  {
   "cell_type": "code",
   "execution_count": 21,
   "id": "62d54fec",
   "metadata": {},
   "outputs": [
    {
     "data": {
      "text/plain": [
       "320"
      ]
     },
     "execution_count": 21,
     "metadata": {},
     "output_type": "execute_result"
    }
   ],
   "source": [
    "# Write a program to sum all the numbers 8,2,3,100,7,200 using function.\n",
    "\n",
    "\n",
    "def sums(x):\n",
    "    return sum(x)\n",
    "l=[8,2,3,100,7,200]\n",
    "sums(l)"
   ]
  },
  {
   "cell_type": "code",
   "execution_count": 20,
   "id": "ca6507ed",
   "metadata": {},
   "outputs": [
    {
     "name": "stdout",
     "output_type": "stream",
     "text": [
      "320\n"
     ]
    }
   ],
   "source": [
    "def sums(numbers):\n",
    "    total=0\n",
    "    for x in numbers:\n",
    "        total+=x\n",
    "    return total\n",
    "print(sums((8,2,3,100,7,200)))"
   ]
  },
  {
   "cell_type": "code",
   "execution_count": 22,
   "id": "2c5838de",
   "metadata": {},
   "outputs": [
    {
     "name": "stdout",
     "output_type": "stream",
     "text": [
      "sum of number : 320\n"
     ]
    }
   ],
   "source": [
    "d=[8,2,3,100,7,200]\n",
    "\n",
    "def addition():\n",
    "    sum1=print('sum of number :',sum(d))\n",
    "    return sum1\n",
    "\n",
    "addition()"
   ]
  },
  {
   "cell_type": "code",
   "execution_count": 23,
   "id": "38be74f6",
   "metadata": {},
   "outputs": [
    {
     "name": "stdout",
     "output_type": "stream",
     "text": [
      "319200000000\n"
     ]
    }
   ],
   "source": [
    "# Write a program to multiply all the numbers in the list [8,10,75,-95,7,400,-200] using function\n",
    "\n",
    "\n",
    "def multiply(numbers):\n",
    "    total=1\n",
    "    for x in numbers:\n",
    "        total=total*x\n",
    "    return total\n",
    "lis=[8,10,75,-95,7,400,-200]\n",
    "print(multiply(lis))"
   ]
  },
  {
   "cell_type": "code",
   "execution_count": 26,
   "id": "d89cf5c3",
   "metadata": {},
   "outputs": [
    {
     "name": "stdout",
     "output_type": "stream",
     "text": [
      "Enter your name or sentences:Mahendra Singh Dhoni is an Indian professional cricketer. He was captain of the Indian national team in limited-overs formats from 2007 to 2017 and in Test cricket from 2008 to 2014. Dhoni is widely considered one of the greatest cricket captains, wicket-keeper-batsman and finishers in the history of cricket.\n",
      "Original String:\n",
      " Mahendra Singh Dhoni is an Indian professional cricketer. He was captain of the Indian national team in limited-overs formats from 2007 to 2017 and in Test cricket from 2008 to 2014. Dhoni is widely considered one of the greatest cricket captains, wicket-keeper-batsman and finishers in the history of cricket.\n",
      "No. of Upper Case in your Name or Sentence: 8\n",
      "No. of Lower Case in your Name or Sentence: 231\n"
     ]
    }
   ],
   "source": [
    "# Write a program to accepts a string from the user and calculate the number of Upper case letter and lower case letter.\n",
    "\n",
    "\n",
    "def string_test(s):\n",
    "    d={'Upper Case':0, 'Lower Case':0}\n",
    "    for i in s:\n",
    "        if i.isupper():\n",
    "            d['Upper Case']+=1\n",
    "        elif i.islower():\n",
    "            d['Lower Case']+=1\n",
    "        else:\n",
    "            pass\n",
    "    print('Original String:\\n',s)\n",
    "    print('No. of Upper Case in your Name or Sentence:',d['Upper Case'])\n",
    "    print('No. of Lower Case in your Name or Sentence:',d['Lower Case'])\n",
    "string_test(input('Enter your name or sentences:'))"
   ]
  },
  {
   "cell_type": "code",
   "execution_count": 27,
   "id": "7c285145",
   "metadata": {},
   "outputs": [
    {
     "name": "stdout",
     "output_type": "stream",
     "text": [
      "Enter any StringBhagyaSHRi\n",
      "Upper Case: 4 \n",
      "Lower Case: 6\n"
     ]
    }
   ],
   "source": [
    "def string(x):\n",
    "    u=0\n",
    "    l=0\n",
    "    for i in x:\n",
    "        if i.isupper()==True:\n",
    "            u+=1\n",
    "        else:\n",
    "            l+=1\n",
    "    return (print(\"Upper Case:\",u,\"\\nLower Case:\",l))\n",
    "x=input('Enter any String')\n",
    "string(x)"
   ]
  },
  {
   "cell_type": "markdown",
   "id": "41d706cc",
   "metadata": {},
   "source": [
    "# Functions Practice\n",
    "\n",
    " * __Write a function to calculate the area of circle given its radius.__\n",
    " * __Create a function to check if a number is prime.__\n",
    " * __Implement a function that reverses a given string.__\n",
    " * __Given a list of numbers, create a function to find the sum of all positive numbers.__ [10,15,-16,100,-200,300,-40]\n",
    " * __Write a python function to check if a given string is a palindrome.__\n",
    " * __Implement a function that returns the factorial of a given number using recursion.__\n",
    " * __Create a function to find the square of each element in a given list.__\n",
    " * __Write a function to check if a number is even or odd and return \"Even\" or \"Odd\" accordingly.__\n",
    " * __Calculate the area of triangle given its base and height using function.__\n",
    " * __Create a function that takes a list of strings and returns the list sorted alphabetically.__"
   ]
  }
 ],
 "metadata": {
  "kernelspec": {
   "display_name": "Python 3 (ipykernel)",
   "language": "python",
   "name": "python3"
  },
  "language_info": {
   "codemirror_mode": {
    "name": "ipython",
    "version": 3
   },
   "file_extension": ".py",
   "mimetype": "text/x-python",
   "name": "python",
   "nbconvert_exporter": "python",
   "pygments_lexer": "ipython3",
   "version": "3.9.13"
  }
 },
 "nbformat": 4,
 "nbformat_minor": 5
}
