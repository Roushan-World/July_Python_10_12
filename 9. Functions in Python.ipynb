{
 "cells": [
  {
   "cell_type": "markdown",
   "id": "822099b0",
   "metadata": {},
   "source": [
    "# 9. Functions in Python\n",
    "\n",
    "\n",
    " * __In Python, a function is a group of related statements that performs a specific task.__\n",
    " * __Function help break out program into smaller and modular chunks. * As per our program grows larger and larger, functions make it more organized and manageable.__\n",
    " * __Furthermore, it avoids repetition and makes the code reusable.__\n",
    " * __There are two types of functions.__\n",
    " * __Pre-defined functions.__\n",
    " * __User-defined functions.__\n",
    " * __In Python a function is defined using the \"def\" keyword followed by the function name and parentheses().__\n",
    " * __Kyeword def that marks the start of the function header.__\n",
    " * __A function name to uniquely identity the functions.__\n",
    " * __Parameters(arguments) through which we pass values to a function. They are optional.__\n",
    " * __A colon(:) to mark the end of the function header.__\n",
    " * __Optional documentation string (docstring) to describe what the function does.__\n",
    " * __One or more valid python statements that make up the function body.__\n",
    " * __Statement must have the same identation level (usually 4 spaces).__\n",
    " * __An optional return statement to return a value from the functions.__"
   ]
  },
  {
   "cell_type": "code",
   "execution_count": 1,
   "id": "45976da9",
   "metadata": {},
   "outputs": [
    {
     "name": "stdout",
     "output_type": "stream",
     "text": [
      "Bhagyashir\n"
     ]
    }
   ],
   "source": [
    "print('Bhagyashir')"
   ]
  },
  {
   "cell_type": "code",
   "execution_count": 5,
   "id": "73ef680e",
   "metadata": {},
   "outputs": [
    {
     "name": "stdout",
     "output_type": "stream",
     "text": [
      "It display the values of 42,58,400,6.25\n"
     ]
    },
    {
     "data": {
      "text/plain": [
       "(42, 58, 400, 6.25)"
      ]
     },
     "execution_count": 5,
     "metadata": {},
     "output_type": "execute_result"
    }
   ],
   "source": [
    "\n",
    "def process(x):\n",
    "    # argument\n",
    "    y1=x-8\n",
    "    y2=x+8\n",
    "    y3=x*8\n",
    "    y4=x/8\n",
    "    print(f'It display the values of {y1},{y2},{y3},{y4}')\n",
    "    return y1,y2,y3,y4\n",
    "process(50)   # parameter"
   ]
  },
  {
   "cell_type": "code",
   "execution_count": 6,
   "id": "111649c5",
   "metadata": {},
   "outputs": [
    {
     "name": "stdout",
     "output_type": "stream",
     "text": [
      "It display the values of 92,108,800,12.5\n"
     ]
    },
    {
     "data": {
      "text/plain": [
       "(92, 108, 800, 12.5)"
      ]
     },
     "execution_count": 6,
     "metadata": {},
     "output_type": "execute_result"
    }
   ],
   "source": [
    "process(100)"
   ]
  },
  {
   "cell_type": "code",
   "execution_count": 7,
   "id": "0bb53d86",
   "metadata": {},
   "outputs": [
    {
     "name": "stdout",
     "output_type": "stream",
     "text": [
      "It display the values of -88,-72,-640,-10.0\n"
     ]
    },
    {
     "data": {
      "text/plain": [
       "(-88, -72, -640, -10.0)"
      ]
     },
     "execution_count": 7,
     "metadata": {},
     "output_type": "execute_result"
    }
   ],
   "source": [
    "process(-80)"
   ]
  },
  {
   "cell_type": "markdown",
   "id": "843c073a",
   "metadata": {},
   "source": [
    "# Variables\n",
    "\n",
    "\n",
    " * __The input to a function is called a formal parameter.__\n",
    " * __A vadriable that is declared inside a function is called local variable.__\n",
    " * __The parameter only exists within the function (i.e. the point where the function starts and stops.__\n",
    " * __A variable that is declared outside a function definition is a global variable, and its value is accessible and modifiable thougout the program.__"
   ]
  },
  {
   "cell_type": "markdown",
   "id": "1aa6dd21",
   "metadata": {},
   "source": [
    "# Global Variable\n",
    "\n",
    " * __Variable that are created outside a function are known as global vairables.__\n",
    " * __Global variables can be used by everyone, both inside of functions and outside.__"
   ]
  },
  {
   "cell_type": "code",
   "execution_count": 8,
   "id": "88954f8e",
   "metadata": {},
   "outputs": [
    {
     "name": "stdout",
     "output_type": "stream",
     "text": [
      "If you make the obove operations with 10, the result will be 257.757\n"
     ]
    }
   ],
   "source": [
    "# define a function\n",
    "\n",
    "d=0  # global variable\n",
    "\n",
    "def function(x):\n",
    "    y = 3.14   #local variable\n",
    "    z = 3+25*x+1.617+y\n",
    "    \n",
    "    print(f'If you make the obove operations with {x}, the result will be {z}')\n",
    "    \n",
    "function(10)"
   ]
  },
  {
   "cell_type": "markdown",
   "id": "8ffbd87a",
   "metadata": {},
   "source": [
    "# Without return statement, the function returns None."
   ]
  },
  {
   "cell_type": "code",
   "execution_count": 10,
   "id": "f2830345",
   "metadata": {},
   "outputs": [
    {
     "name": "stdout",
     "output_type": "stream",
     "text": [
      "Hello World\n",
      "Bhagyashri\n"
     ]
    }
   ],
   "source": [
    "def msg1():\n",
    "    print('Hello World')\n",
    "def msg2():\n",
    "    print('Bhagyashri')\n",
    "    return None\n",
    "msg1()\n",
    "msg2()"
   ]
  },
  {
   "cell_type": "code",
   "execution_count": 11,
   "id": "198bc7af",
   "metadata": {},
   "outputs": [
    {
     "name": "stdout",
     "output_type": "stream",
     "text": [
      "Hello World\n",
      "None\n"
     ]
    }
   ],
   "source": [
    "print(msg1())"
   ]
  },
  {
   "cell_type": "code",
   "execution_count": 13,
   "id": "46ebd970",
   "metadata": {},
   "outputs": [
    {
     "name": "stdout",
     "output_type": "stream",
     "text": [
      "Bhagyashri\n",
      "None\n"
     ]
    }
   ],
   "source": [
    "print(msg2())"
   ]
  },
  {
   "cell_type": "markdown",
   "id": "7407d407",
   "metadata": {},
   "source": [
    "# Concatenation in Functions\n"
   ]
  },
  {
   "cell_type": "code",
   "execution_count": 21,
   "id": "819ba40a",
   "metadata": {},
   "outputs": [
    {
     "data": {
      "text/plain": [
       "'Bhagyashri Sakat'"
      ]
     },
     "execution_count": 21,
     "metadata": {},
     "output_type": "execute_result"
    }
   ],
   "source": [
    "# Concatenation\n",
    "\n",
    "def string(x,y):\n",
    "    return x+y\n",
    "string(\"Bhagyashri\",\" Sakat\")"
   ]
  },
  {
   "cell_type": "code",
   "execution_count": 27,
   "id": "9701f776",
   "metadata": {},
   "outputs": [
    {
     "data": {
      "text/plain": [
       "'1415'"
      ]
     },
     "execution_count": 27,
     "metadata": {},
     "output_type": "execute_result"
    }
   ],
   "source": [
    "string('14','15')"
   ]
  },
  {
   "cell_type": "code",
   "execution_count": 24,
   "id": "0b192e4a",
   "metadata": {},
   "outputs": [
    {
     "data": {
      "text/plain": [
       "'Surendra patade'"
      ]
     },
     "execution_count": 24,
     "metadata": {},
     "output_type": "execute_result"
    }
   ],
   "source": [
    "string('Surendra',' patade')"
   ]
  },
  {
   "cell_type": "code",
   "execution_count": 28,
   "id": "d3a74425",
   "metadata": {},
   "outputs": [
    {
     "data": {
      "text/plain": [
       "''"
      ]
     },
     "execution_count": 28,
     "metadata": {},
     "output_type": "execute_result"
    }
   ],
   "source": [
    "string('','')"
   ]
  },
  {
   "cell_type": "code",
   "execution_count": 33,
   "id": "70901779",
   "metadata": {},
   "outputs": [
    {
     "name": "stdout",
     "output_type": "stream",
     "text": [
      "Enter any number7\n",
      "You should not watch this movie with rating is 7.\n"
     ]
    }
   ],
   "source": [
    "# Write a program to print rating if rating is above 8.0 then display you can watch the movie, otherwise rating below 8.0 it\n",
    "# display you should not watch this movie.\n",
    "\n",
    "def rating_value(rating):\n",
    "    if rating<8.0:\n",
    "        return (f'You should not watch this movie with rating is {rating}.')\n",
    "    else:\n",
    "        return (f'You should watch this movie with ratng is {rating}.')\n",
    "print(rating_value(int(input('Enter any number'))))\n",
    "\n"
   ]
  },
  {
   "cell_type": "code",
   "execution_count": 37,
   "id": "effbc18d",
   "metadata": {},
   "outputs": [
    {
     "name": "stdout",
     "output_type": "stream",
     "text": [
      "You should watch this movie with ratng is 8.0.\n",
      "Enter any number7\n",
      "You should not watch this movie with rating is 7.\n"
     ]
    }
   ],
   "source": [
    "# Write a program to print rating if rating is above 8.0 then display you can watch the movie, otherwise rating below 8.0 it\n",
    "# display you should not watch this movie.\n",
    "\n",
    "def rating_value(rating=8.0):   # rating=5.5 it display default value\n",
    "    if rating<8.0:\n",
    "        return (f'You should not watch this movie with rating is {rating}.')\n",
    "    else:\n",
    "        return (f'You should watch this movie with ratng is {rating}.')\n",
    "print(rating_value())\n",
    "print(rating_value(int(input('Enter any number'))))"
   ]
  },
  {
   "cell_type": "markdown",
   "id": "f1099d34",
   "metadata": {},
   "source": [
    "# Docstring in Functions"
   ]
  },
  {
   "cell_type": "code",
   "execution_count": 42,
   "id": "72276482",
   "metadata": {},
   "outputs": [
    {
     "name": "stdout",
     "output_type": "stream",
     "text": [
      "The following functions return the sum of two parameters.\n",
      "30\n"
     ]
    }
   ],
   "source": [
    "# Define a function\n",
    "\n",
    "\n",
    "y=0\n",
    "z=0\n",
    "\n",
    "def addition(x,y):\n",
    "    '''The following functions return the sum of two parameters.'''   #Docstring   # multiple line comment\n",
    "    z = x+y\n",
    "    return z\n",
    "print(addition.__doc__)\n",
    "print(addition(15,15))"
   ]
  },
  {
   "cell_type": "code",
   "execution_count": 43,
   "id": "02114984",
   "metadata": {},
   "outputs": [
    {
     "name": "stdout",
     "output_type": "stream",
     "text": [
      "The sum of the number from 1 to 10 is: 55\n"
     ]
    }
   ],
   "source": [
    "# Write a program to display the sum of first ten number using function.\n",
    "\n",
    "def total_sum(number,sum1):\n",
    "    if number==11:\n",
    "        return sum1\n",
    "    else:\n",
    "        return total_sum(number+1,sum1+number)\n",
    "print('The sum of the number from 1 to 10 is:',total_sum(1,0))"
   ]
  },
  {
   "cell_type": "code",
   "execution_count": 46,
   "id": "aedad033",
   "metadata": {},
   "outputs": [
    {
     "name": "stdout",
     "output_type": "stream",
     "text": [
      "55\n"
     ]
    }
   ],
   "source": [
    "# same program using for loop with function\n",
    "\n",
    "\n",
    "def tensum(n):\n",
    "    \n",
    "    l=n\n",
    "    s=0\n",
    "    for i in range(l+1):\n",
    "        \n",
    "        s+=i\n",
    "    print(s)\n",
    "tensum(10)"
   ]
  },
  {
   "cell_type": "code",
   "execution_count": 47,
   "id": "919de85f",
   "metadata": {},
   "outputs": [
    {
     "name": "stdout",
     "output_type": "stream",
     "text": [
      "Enter your nameBhagyashri\n",
      "Congratulations!Bhagyashri\n"
     ]
    }
   ],
   "source": [
    "# Define a function to giving a message. Welcome with your name (congratulation! and your name).\n",
    "\n",
    "def function(name):\n",
    "    msg='Congratulations!'+name\n",
    "    return msg\n",
    "name=input('Enter your name')\n",
    "print(function(name))"
   ]
  },
  {
   "cell_type": "code",
   "execution_count": 49,
   "id": "0b5e46b1",
   "metadata": {},
   "outputs": [
    {
     "name": "stdout",
     "output_type": "stream",
     "text": [
      "Enter your nameBhagyashri\n",
      "Congratulations!Bhagyashri\n"
     ]
    }
   ],
   "source": [
    "# Define a function to giving a message. Welcome with your name (congratulation! and your name).\n",
    "\n",
    "def function(name):\n",
    "    x='Congratulations!'\n",
    "    msg=x+name\n",
    "    return msg\n",
    "name=input('Enter your name')\n",
    "print(function(name))"
   ]
  },
  {
   "cell_type": "code",
   "execution_count": 50,
   "id": "5f29f946",
   "metadata": {},
   "outputs": [
    {
     "name": "stdout",
     "output_type": "stream",
     "text": [
      "Enter your nameBhagyashri\n",
      "Welcome and Congratulations Bhagyashri\n"
     ]
    }
   ],
   "source": [
    "name=input('Enter your name')\n",
    "\n",
    "def welcome(name):\n",
    "    z=name\n",
    "    print(f'Welcome and Congratulations',z)\n",
    "welcome(name)"
   ]
  },
  {
   "cell_type": "code",
   "execution_count": 52,
   "id": "2075353f",
   "metadata": {},
   "outputs": [
    {
     "name": "stdout",
     "output_type": "stream",
     "text": [
      "Enter your nameBhagyashri\n",
      "Congratulation!,Bhagyashri\n"
     ]
    }
   ],
   "source": [
    "name=input('Enter your name')\n",
    "def x(name):\n",
    "    print(f'Congratulation!,{name}')\n",
    "    \n",
    "x(name)"
   ]
  },
  {
   "cell_type": "code",
   "execution_count": null,
   "id": "33279b68",
   "metadata": {},
   "outputs": [],
   "source": []
  }
 ],
 "metadata": {
  "kernelspec": {
   "display_name": "Python 3 (ipykernel)",
   "language": "python",
   "name": "python3"
  },
  "language_info": {
   "codemirror_mode": {
    "name": "ipython",
    "version": 3
   },
   "file_extension": ".py",
   "mimetype": "text/x-python",
   "name": "python",
   "nbconvert_exporter": "python",
   "pygments_lexer": "ipython3",
   "version": "3.9.13"
  }
 },
 "nbformat": 4,
 "nbformat_minor": 5
}
