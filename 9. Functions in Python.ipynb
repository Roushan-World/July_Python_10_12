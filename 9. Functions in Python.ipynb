{
 "cells": [
  {
   "cell_type": "markdown",
   "id": "822099b0",
   "metadata": {},
   "source": [
    "# 9. Functions in Python\n",
    "\n",
    "\n",
    " * __In Python, a function is a group of related statements that performs a specific task.__\n",
    " * __Function help break out program into smaller and modular chunks. * As per our program grows larger and larger, functions make it more organized and manageable.__\n",
    " * __Furthermore, it avoids repetition and makes the code reusable.__\n",
    " * __There are two types of functions.__\n",
    " * __Pre-defined functions.__\n",
    " * __User-defined functions.__\n",
    " * __In Python a function is defined using the \"def\" keyword followed by the function name and parentheses().__\n",
    " * __Kyeword def that marks the start of the function header.__\n",
    " * __A function name to uniquely identity the functions.__\n",
    " * __Parameters(arguments) through which we pass values to a function. They are optional.__\n",
    " * __A colon(:) to mark the end of the function header.__\n",
    " * __Optional documentation string (docstring) to describe what the function does.__\n",
    " * __One or more valid python statements that make up the function body.__\n",
    " * __Statement must have the same identation level (usually 4 spaces).__\n",
    " * __An optional return statement to return a value from the functions.__"
   ]
  },
  {
   "cell_type": "code",
   "execution_count": 1,
   "id": "45976da9",
   "metadata": {},
   "outputs": [
    {
     "name": "stdout",
     "output_type": "stream",
     "text": [
      "Bhagyashir\n"
     ]
    }
   ],
   "source": [
    "print('Bhagyashir')"
   ]
  },
  {
   "cell_type": "code",
   "execution_count": 5,
   "id": "73ef680e",
   "metadata": {},
   "outputs": [
    {
     "name": "stdout",
     "output_type": "stream",
     "text": [
      "It display the values of 42,58,400,6.25\n"
     ]
    },
    {
     "data": {
      "text/plain": [
       "(42, 58, 400, 6.25)"
      ]
     },
     "execution_count": 5,
     "metadata": {},
     "output_type": "execute_result"
    }
   ],
   "source": [
    "\n",
    "def process(x):\n",
    "    # argument\n",
    "    y1=x-8\n",
    "    y2=x+8\n",
    "    y3=x*8\n",
    "    y4=x/8\n",
    "    print(f'It display the values of {y1},{y2},{y3},{y4}')\n",
    "    return y1,y2,y3,y4\n",
    "process(50)   # parameter"
   ]
  },
  {
   "cell_type": "code",
   "execution_count": 6,
   "id": "111649c5",
   "metadata": {},
   "outputs": [
    {
     "name": "stdout",
     "output_type": "stream",
     "text": [
      "It display the values of 92,108,800,12.5\n"
     ]
    },
    {
     "data": {
      "text/plain": [
       "(92, 108, 800, 12.5)"
      ]
     },
     "execution_count": 6,
     "metadata": {},
     "output_type": "execute_result"
    }
   ],
   "source": [
    "process(100)"
   ]
  },
  {
   "cell_type": "code",
   "execution_count": 7,
   "id": "0bb53d86",
   "metadata": {},
   "outputs": [
    {
     "name": "stdout",
     "output_type": "stream",
     "text": [
      "It display the values of -88,-72,-640,-10.0\n"
     ]
    },
    {
     "data": {
      "text/plain": [
       "(-88, -72, -640, -10.0)"
      ]
     },
     "execution_count": 7,
     "metadata": {},
     "output_type": "execute_result"
    }
   ],
   "source": [
    "process(-80)"
   ]
  },
  {
   "cell_type": "markdown",
   "id": "843c073a",
   "metadata": {},
   "source": [
    "# Variables\n",
    "\n",
    "\n",
    " * __The input to a function is called a formal parameter.__\n",
    " * __A vadriable that is declared inside a function is called local variable.__\n",
    " * __The parameter only exists within the function (i.e. the point where the function starts and stops.__\n",
    " * __A variable that is declared outside a function definition is a global variable, and its value is accessible and modifiable thougout the program.__"
   ]
  },
  {
   "cell_type": "markdown",
   "id": "1aa6dd21",
   "metadata": {},
   "source": [
    "# Global Variable\n",
    "\n",
    " * __Variable that are created outside a function are known as global vairables.__\n",
    " * __Global variables can be used by everyone, both inside of functions and outside.__"
   ]
  },
  {
   "cell_type": "code",
   "execution_count": 8,
   "id": "88954f8e",
   "metadata": {},
   "outputs": [
    {
     "name": "stdout",
     "output_type": "stream",
     "text": [
      "If you make the obove operations with 10, the result will be 257.757\n"
     ]
    }
   ],
   "source": [
    "# define a function\n",
    "\n",
    "d=0  # global variable\n",
    "\n",
    "def function(x):\n",
    "    y = 3.14   #local variable\n",
    "    z = 3+25*x+1.617+y\n",
    "    \n",
    "    print(f'If you make the obove operations with {x}, the result will be {z}')\n",
    "    \n",
    "function(10)"
   ]
  },
  {
   "cell_type": "markdown",
   "id": "8ffbd87a",
   "metadata": {},
   "source": [
    "# Without return statement, the function returns None."
   ]
  },
  {
   "cell_type": "code",
   "execution_count": 10,
   "id": "f2830345",
   "metadata": {},
   "outputs": [
    {
     "name": "stdout",
     "output_type": "stream",
     "text": [
      "Hello World\n",
      "Bhagyashri\n"
     ]
    }
   ],
   "source": [
    "def msg1():\n",
    "    print('Hello World')\n",
    "def msg2():\n",
    "    print('Bhagyashri')\n",
    "    return None\n",
    "msg1()\n",
    "msg2()"
   ]
  },
  {
   "cell_type": "code",
   "execution_count": 11,
   "id": "198bc7af",
   "metadata": {},
   "outputs": [
    {
     "name": "stdout",
     "output_type": "stream",
     "text": [
      "Hello World\n",
      "None\n"
     ]
    }
   ],
   "source": [
    "print(msg1())"
   ]
  },
  {
   "cell_type": "code",
   "execution_count": 13,
   "id": "46ebd970",
   "metadata": {},
   "outputs": [
    {
     "name": "stdout",
     "output_type": "stream",
     "text": [
      "Bhagyashri\n",
      "None\n"
     ]
    }
   ],
   "source": [
    "print(msg2())"
   ]
  },
  {
   "cell_type": "code",
   "execution_count": null,
   "id": "bbe52121",
   "metadata": {},
   "outputs": [],
   "source": []
  }
 ],
 "metadata": {
  "kernelspec": {
   "display_name": "Python 3 (ipykernel)",
   "language": "python",
   "name": "python3"
  },
  "language_info": {
   "codemirror_mode": {
    "name": "ipython",
    "version": 3
   },
   "file_extension": ".py",
   "mimetype": "text/x-python",
   "name": "python",
   "nbconvert_exporter": "python",
   "pygments_lexer": "ipython3",
   "version": "3.9.13"
  }
 },
 "nbformat": 4,
 "nbformat_minor": 5
}
