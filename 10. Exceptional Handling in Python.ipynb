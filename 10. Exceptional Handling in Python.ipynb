{
 "cells": [
  {
   "cell_type": "markdown",
   "id": "8ec9516f",
   "metadata": {},
   "source": [
    "# 10. Exceptional Handling in Python\n",
    "\n",
    "\n",
    " * __An Exception is an event, which occurs during the execution of a program that disrupts the normal flow of the program's instructions.__\n",
    " \n",
    " * __In general, When a Python Scripts encounters a situation that it cannot cope with, it raises an exception.__\n",
    " * __When a Python script raises an exception, it must either handle it immediately otherwise it terminates and quits.__\n",
    " * __If you have some suspicious code that may raise an exception, you can defend your program by placing the suspicious code in try:block.__\n",
    " * __After the try:block, include an except: statement, followed by a block of code which handles the problem as elegantly as possible.__\n",
    " * __Common exceptions.__\n",
    " * __ZeroDivisionError.__\n",
    " * __NameError.__\n",
    " * __ValueError.__\n",
    " * __IOError.__\n",
    " * __EOFError.__\n",
    " * __IdentationError.__"
   ]
  },
  {
   "cell_type": "code",
   "execution_count": 1,
   "id": "4be355ee",
   "metadata": {},
   "outputs": [
    {
     "ename": "ZeroDivisionError",
     "evalue": "division by zero",
     "output_type": "error",
     "traceback": [
      "\u001b[1;31m---------------------------------------------------------------------------\u001b[0m",
      "\u001b[1;31mZeroDivisionError\u001b[0m                         Traceback (most recent call last)",
      "\u001b[1;32m~\\AppData\\Local\\Temp\\ipykernel_10712\\878885198.py\u001b[0m in \u001b[0;36m<module>\u001b[1;34m\u001b[0m\n\u001b[1;32m----> 1\u001b[1;33m \u001b[0mx\u001b[0m\u001b[1;33m=\u001b[0m\u001b[1;36m1\u001b[0m\u001b[1;33m/\u001b[0m\u001b[1;36m0\u001b[0m\u001b[1;33m\u001b[0m\u001b[1;33m\u001b[0m\u001b[0m\n\u001b[0m\u001b[0;32m      2\u001b[0m \u001b[0mx\u001b[0m\u001b[1;33m\u001b[0m\u001b[1;33m\u001b[0m\u001b[0m\n",
      "\u001b[1;31mZeroDivisionError\u001b[0m: division by zero"
     ]
    }
   ],
   "source": [
    "x=1/0\n",
    "x"
   ]
  },
  {
   "cell_type": "code",
   "execution_count": 2,
   "id": "31558b72",
   "metadata": {},
   "outputs": [
    {
     "name": "stdout",
     "output_type": "stream",
     "text": [
      "It gives an Error i.e: ZeroDivisionError\n"
     ]
    }
   ],
   "source": [
    "try:\n",
    "    1/0\n",
    "except ZeroDivisionError:\n",
    "    print('It gives an Error i.e: ZeroDivisionError')"
   ]
  },
  {
   "cell_type": "code",
   "execution_count": 4,
   "id": "a303ef05",
   "metadata": {},
   "outputs": [
    {
     "ename": "ZeroDivisionError",
     "evalue": "division by zero",
     "output_type": "error",
     "traceback": [
      "\u001b[1;31m---------------------------------------------------------------------------\u001b[0m",
      "\u001b[1;31mZeroDivisionError\u001b[0m                         Traceback (most recent call last)",
      "\u001b[1;32m~\\AppData\\Local\\Temp\\ipykernel_10712\\2794436645.py\u001b[0m in \u001b[0;36m<module>\u001b[1;34m\u001b[0m\n\u001b[1;32m----> 1\u001b[1;33m \u001b[1;32mTrue\u001b[0m\u001b[1;33m/\u001b[0m\u001b[1;32mFalse\u001b[0m\u001b[1;33m\u001b[0m\u001b[1;33m\u001b[0m\u001b[0m\n\u001b[0m",
      "\u001b[1;31mZeroDivisionError\u001b[0m: division by zero"
     ]
    }
   ],
   "source": [
    "True/False"
   ]
  },
  {
   "cell_type": "code",
   "execution_count": 5,
   "id": "cf31ec2b",
   "metadata": {},
   "outputs": [
    {
     "name": "stdout",
     "output_type": "stream",
     "text": [
      "It also give us ZeroDivisionError.\n"
     ]
    }
   ],
   "source": [
    "try:\n",
    "    True/False\n",
    "except ZeroDivisionError:\n",
    "    print('It also give us ZeroDivisionError.')"
   ]
  },
  {
   "cell_type": "code",
   "execution_count": 6,
   "id": "eff91bd3",
   "metadata": {},
   "outputs": [
    {
     "ename": "ZeroDivisionError",
     "evalue": "division by zero",
     "output_type": "error",
     "traceback": [
      "\u001b[1;31m---------------------------------------------------------------------------\u001b[0m",
      "\u001b[1;31mZeroDivisionError\u001b[0m                         Traceback (most recent call last)",
      "\u001b[1;32m~\\AppData\\Local\\Temp\\ipykernel_10712\\3221903657.py\u001b[0m in \u001b[0;36m<module>\u001b[1;34m\u001b[0m\n\u001b[0;32m      1\u001b[0m \u001b[0mnlis\u001b[0m\u001b[1;33m=\u001b[0m\u001b[1;33m[\u001b[0m\u001b[1;33m]\u001b[0m\u001b[1;33m\u001b[0m\u001b[1;33m\u001b[0m\u001b[0m\n\u001b[0;32m      2\u001b[0m \u001b[0mcount\u001b[0m\u001b[1;33m=\u001b[0m\u001b[1;36m1\u001b[0m\u001b[1;33m\u001b[0m\u001b[1;33m\u001b[0m\u001b[0m\n\u001b[1;32m----> 3\u001b[1;33m \u001b[0mz\u001b[0m\u001b[1;33m=\u001b[0m\u001b[0mcount\u001b[0m\u001b[1;33m/\u001b[0m\u001b[0mlen\u001b[0m\u001b[1;33m(\u001b[0m\u001b[0mnlis\u001b[0m\u001b[1;33m)\u001b[0m\u001b[1;33m\u001b[0m\u001b[1;33m\u001b[0m\u001b[0m\n\u001b[0m",
      "\u001b[1;31mZeroDivisionError\u001b[0m: division by zero"
     ]
    }
   ],
   "source": [
    "nlis=[]\n",
    "count=1\n",
    "z=count/len(nlis)"
   ]
  },
  {
   "cell_type": "code",
   "execution_count": 7,
   "id": "088bf42c",
   "metadata": {},
   "outputs": [
    {
     "name": "stdout",
     "output_type": "stream",
     "text": [
      "It gives ZeroDivisionError\n"
     ]
    }
   ],
   "source": [
    "try:\n",
    "    nlis=[]\n",
    "    count=1\n",
    "    z=count/len(nlis)\n",
    "except ZeroDivisionError:\n",
    "    print('It gives ZeroDivisionError')"
   ]
  },
  {
   "cell_type": "markdown",
   "id": "58f31a08",
   "metadata": {},
   "source": [
    "# NameError"
   ]
  },
  {
   "cell_type": "code",
   "execution_count": 10,
   "id": "88b1032c",
   "metadata": {},
   "outputs": [
    {
     "data": {
      "text/plain": [
       "5"
      ]
     },
     "execution_count": 10,
     "metadata": {},
     "output_type": "execute_result"
    }
   ],
   "source": [
    "z=0\n",
    "y=z+5\n",
    "y"
   ]
  },
  {
   "cell_type": "code",
   "execution_count": 11,
   "id": "6af9a87b",
   "metadata": {},
   "outputs": [
    {
     "ename": "NameError",
     "evalue": "name 'u' is not defined",
     "output_type": "error",
     "traceback": [
      "\u001b[1;31m---------------------------------------------------------------------------\u001b[0m",
      "\u001b[1;31mNameError\u001b[0m                                 Traceback (most recent call last)",
      "\u001b[1;32m~\\AppData\\Local\\Temp\\ipykernel_10712\\4246946491.py\u001b[0m in \u001b[0;36m<module>\u001b[1;34m\u001b[0m\n\u001b[1;32m----> 1\u001b[1;33m \u001b[0mt\u001b[0m\u001b[1;33m=\u001b[0m\u001b[0mu\u001b[0m\u001b[1;33m+\u001b[0m\u001b[1;36m5\u001b[0m\u001b[1;33m\u001b[0m\u001b[1;33m\u001b[0m\u001b[0m\n\u001b[0m\u001b[0;32m      2\u001b[0m \u001b[0mt\u001b[0m\u001b[1;33m\u001b[0m\u001b[1;33m\u001b[0m\u001b[0m\n",
      "\u001b[1;31mNameError\u001b[0m: name 'u' is not defined"
     ]
    }
   ],
   "source": [
    "t=u+5\n",
    "t"
   ]
  },
  {
   "cell_type": "code",
   "execution_count": 12,
   "id": "67412d70",
   "metadata": {},
   "outputs": [
    {
     "name": "stdout",
     "output_type": "stream",
     "text": [
      "It gives a NameError\n"
     ]
    }
   ],
   "source": [
    "try:\n",
    "    t=u+5\n",
    "except NameError:\n",
    "    print('It gives a NameError')"
   ]
  },
  {
   "cell_type": "code",
   "execution_count": 13,
   "id": "97607aeb",
   "metadata": {},
   "outputs": [
    {
     "ename": "NameError",
     "evalue": "name 'add' is not defined",
     "output_type": "error",
     "traceback": [
      "\u001b[1;31m---------------------------------------------------------------------------\u001b[0m",
      "\u001b[1;31mNameError\u001b[0m                                 Traceback (most recent call last)",
      "\u001b[1;32m~\\AppData\\Local\\Temp\\ipykernel_10712\\1077459317.py\u001b[0m in \u001b[0;36m<module>\u001b[1;34m\u001b[0m\n\u001b[0;32m      2\u001b[0m     \u001b[0mz\u001b[0m\u001b[1;33m=\u001b[0m\u001b[0mx\u001b[0m\u001b[1;33m+\u001b[0m\u001b[0my\u001b[0m\u001b[1;33m\u001b[0m\u001b[1;33m\u001b[0m\u001b[0m\n\u001b[0;32m      3\u001b[0m     \u001b[1;32mreturn\u001b[0m \u001b[0mz\u001b[0m\u001b[1;33m\u001b[0m\u001b[1;33m\u001b[0m\u001b[0m\n\u001b[1;32m----> 4\u001b[1;33m \u001b[0mprint\u001b[0m\u001b[1;33m(\u001b[0m\u001b[0madd\u001b[0m\u001b[1;33m)\u001b[0m\u001b[1;33m\u001b[0m\u001b[1;33m\u001b[0m\u001b[0m\n\u001b[0m",
      "\u001b[1;31mNameError\u001b[0m: name 'add' is not defined"
     ]
    }
   ],
   "source": [
    "def addition(x,y):\n",
    "    z=x+y\n",
    "    return z\n",
    "print(add)"
   ]
  },
  {
   "cell_type": "code",
   "execution_count": 15,
   "id": "95c83928",
   "metadata": {},
   "outputs": [
    {
     "name": "stdout",
     "output_type": "stream",
     "text": [
      "It gives a NameError\n"
     ]
    }
   ],
   "source": [
    "try:\n",
    "    def addition(x,y):\n",
    "        z=x+y\n",
    "        return z\n",
    "    print(add)\n",
    "except NameError:\n",
    "    print('It gives a NameError')\n"
   ]
  },
  {
   "cell_type": "markdown",
   "id": "aa44f1b3",
   "metadata": {},
   "source": [
    "# IndexError"
   ]
  },
  {
   "cell_type": "code",
   "execution_count": 16,
   "id": "c4779618",
   "metadata": {},
   "outputs": [
    {
     "ename": "IndexError",
     "evalue": "list index out of range",
     "output_type": "error",
     "traceback": [
      "\u001b[1;31m---------------------------------------------------------------------------\u001b[0m",
      "\u001b[1;31mIndexError\u001b[0m                                Traceback (most recent call last)",
      "\u001b[1;32m~\\AppData\\Local\\Temp\\ipykernel_10712\\2005085992.py\u001b[0m in \u001b[0;36m<module>\u001b[1;34m\u001b[0m\n\u001b[0;32m      1\u001b[0m \u001b[0mnlis\u001b[0m\u001b[1;33m=\u001b[0m\u001b[1;33m[\u001b[0m\u001b[1;36m0.577\u001b[0m\u001b[1;33m,\u001b[0m\u001b[1;36m1.618\u001b[0m\u001b[1;33m,\u001b[0m\u001b[1;36m2.718\u001b[0m\u001b[1;33m,\u001b[0m\u001b[1;36m3.147\u001b[0m\u001b[1;33m,\u001b[0m\u001b[1;36m6\u001b[0m\u001b[1;33m,\u001b[0m\u001b[1;36m28\u001b[0m\u001b[1;33m,\u001b[0m\u001b[1;36m144\u001b[0m\u001b[1;33m,\u001b[0m\u001b[1;36m1729\u001b[0m\u001b[1;33m,\u001b[0m\u001b[1;36m37\u001b[0m\u001b[1;33m]\u001b[0m\u001b[1;33m\u001b[0m\u001b[1;33m\u001b[0m\u001b[0m\n\u001b[1;32m----> 2\u001b[1;33m \u001b[0mprint\u001b[0m\u001b[1;33m(\u001b[0m\u001b[0mnlis\u001b[0m\u001b[1;33m[\u001b[0m\u001b[1;36m9\u001b[0m\u001b[1;33m]\u001b[0m\u001b[1;33m)\u001b[0m\u001b[1;33m\u001b[0m\u001b[1;33m\u001b[0m\u001b[0m\n\u001b[0m",
      "\u001b[1;31mIndexError\u001b[0m: list index out of range"
     ]
    }
   ],
   "source": [
    "nlis=[0.577,1.618,2.718,3.147,6,28,144,1729,37]\n",
    "print(nlis[9])"
   ]
  },
  {
   "cell_type": "code",
   "execution_count": 17,
   "id": "5d699aae",
   "metadata": {},
   "outputs": [
    {
     "name": "stdout",
     "output_type": "stream",
     "text": [
      "It gives an IndexError\n"
     ]
    }
   ],
   "source": [
    "try:\n",
    "    nlis=[0.577,1.618,2.718,3.147,6,28,144,1729,37]\n",
    "    print(nlis[9])\n",
    "except IndexError:\n",
    "    print('It gives an IndexError')"
   ]
  },
  {
   "cell_type": "markdown",
   "id": "e9d30282",
   "metadata": {},
   "source": [
    "# KeyError"
   ]
  },
  {
   "cell_type": "code",
   "execution_count": 18,
   "id": "98812065",
   "metadata": {},
   "outputs": [
    {
     "ename": "KeyError",
     "evalue": "'contact'",
     "output_type": "error",
     "traceback": [
      "\u001b[1;31m---------------------------------------------------------------------------\u001b[0m",
      "\u001b[1;31mKeyError\u001b[0m                                  Traceback (most recent call last)",
      "\u001b[1;32m~\\AppData\\Local\\Temp\\ipykernel_10712\\3341661438.py\u001b[0m in \u001b[0;36m<module>\u001b[1;34m\u001b[0m\n\u001b[0;32m      1\u001b[0m \u001b[0mdetails\u001b[0m\u001b[1;33m=\u001b[0m\u001b[1;33m{\u001b[0m\u001b[1;34m'name'\u001b[0m\u001b[1;33m:\u001b[0m\u001b[1;34m'Bhagyashri'\u001b[0m\u001b[1;33m,\u001b[0m\u001b[1;34m'age'\u001b[0m\u001b[1;33m:\u001b[0m\u001b[1;36m33\u001b[0m\u001b[1;33m}\u001b[0m\u001b[1;33m\u001b[0m\u001b[1;33m\u001b[0m\u001b[0m\n\u001b[1;32m----> 2\u001b[1;33m \u001b[0mdetails\u001b[0m\u001b[1;33m[\u001b[0m\u001b[1;34m'contact'\u001b[0m\u001b[1;33m]\u001b[0m\u001b[1;33m\u001b[0m\u001b[1;33m\u001b[0m\u001b[0m\n\u001b[0m",
      "\u001b[1;31mKeyError\u001b[0m: 'contact'"
     ]
    }
   ],
   "source": [
    "details={'name':'Bhagyashri','age':33}\n",
    "details['contact']"
   ]
  },
  {
   "cell_type": "code",
   "execution_count": 20,
   "id": "b6955649",
   "metadata": {},
   "outputs": [
    {
     "name": "stdout",
     "output_type": "stream",
     "text": [
      "It gives us a KeyError\n"
     ]
    }
   ],
   "source": [
    "try:\n",
    "    details={'name':'Bhagyashri','age':33}\n",
    "    print(details['Contact'])\n",
    "except KeyError:\n",
    "    print('It gives us a KeyError')"
   ]
  },
  {
   "cell_type": "markdown",
   "id": "72800232",
   "metadata": {},
   "source": [
    "# try and except"
   ]
  },
  {
   "cell_type": "code",
   "execution_count": 22,
   "id": "c2312a14",
   "metadata": {},
   "outputs": [
    {
     "name": "stdout",
     "output_type": "stream",
     "text": [
      "Enter any number:\n",
      "25\n",
      "Enter second number:\n",
      "5\n",
      "The total value of these number is: 5.0\n"
     ]
    }
   ],
   "source": [
    "# Write a program to display the output with division of two number in float with user input if user gives \n",
    "# right value it display the value otherwise it display an error.\n",
    "\n",
    "num1=float(input('Enter any number:\\n'))\n",
    "\n",
    "try:\n",
    "    num2=float(input('Enter second number:\\n'))\n",
    "    value=num1/num2\n",
    "    print('The total value of these number is:',value)\n",
    "except ZeroDivisionError:\n",
    "    print('Your value is ZeroDivisionError')"
   ]
  },
  {
   "cell_type": "markdown",
   "id": "cffc2643",
   "metadata": {},
   "source": [
    "# try/except/except"
   ]
  },
  {
   "cell_type": "code",
   "execution_count": 3,
   "id": "4f41f5db",
   "metadata": {},
   "outputs": [
    {
     "name": "stdout",
     "output_type": "stream",
     "text": [
      "Enter First number: \n",
      "25\n",
      "Enter Second number:\n",
      "2\n",
      "The total value of these number is: 12.5\n"
     ]
    }
   ],
   "source": [
    "try:\n",
    "    num1=float(input('Enter First number: \\n'))\n",
    "    num2=float(input('Enter Second number:\\n'))\n",
    "    value=num1/num2\n",
    "    print('The total value of these number is:',value)\n",
    "except ZeroDivisionError:\n",
    "    print('It gives us a ZeroDivisionError')\n",
    "except ValueError:\n",
    "    print('It gives value Error.')"
   ]
  },
  {
   "cell_type": "markdown",
   "id": "69aaba66",
   "metadata": {},
   "source": [
    "# try/except/except/else"
   ]
  },
  {
   "cell_type": "code",
   "execution_count": 7,
   "id": "76de99c8",
   "metadata": {},
   "outputs": [
    {
     "name": "stdout",
     "output_type": "stream",
     "text": [
      "Enter first number:\n",
      "25\n",
      "Enter second number:\n",
      "2\n",
      "Your Code is running seccessfully with 12.5\n"
     ]
    }
   ],
   "source": [
    "try:\n",
    "    num1=float(input('Enter first number:\\n'))\n",
    "    num2=float(input('Enter second number:\\n'))\n",
    "    value=num1/num2\n",
    "    \n",
    "except ZeroDivisionError:\n",
    "    print('It gives a ZeroDivisionError')\n",
    "except ValueError:\n",
    "    print('Enter a Correct value')\n",
    "else:\n",
    "    print('Your Code is running seccessfully with',value)\n",
    "    \n",
    "    "
   ]
  },
  {
   "cell_type": "markdown",
   "id": "45ab0d3b",
   "metadata": {},
   "source": [
    "# try/except/else/finally"
   ]
  },
  {
   "cell_type": "code",
   "execution_count": 10,
   "id": "a8304f7e",
   "metadata": {},
   "outputs": [
    {
     "name": "stdout",
     "output_type": "stream",
     "text": [
      "Enter first numebr:\n",
      "25\n",
      "Enter second number:\n",
      "6\n",
      "Your Code is running with the value is: 4.166666666666667\n",
      "Your code is completed.\n"
     ]
    }
   ],
   "source": [
    "try:\n",
    "    x1=float(input('Enter first numebr:\\n'))\n",
    "    x2=float(input('Enter second number:\\n'))\n",
    "    value=x1/x2\n",
    "    \n",
    "except ZeroDivisionError:\n",
    "    print('It gives a ZeroDivisionError')\n",
    "except ValueError:\n",
    "    print('It gives a ValueError')\n",
    "else:\n",
    "    print('Your Code is running with the value is:',value)\n",
    "finally:\n",
    "    print('Your code is completed.')"
   ]
  },
  {
   "cell_type": "code",
   "execution_count": 11,
   "id": "cd2b61e3",
   "metadata": {},
   "outputs": [
    {
     "data": {
      "text/plain": [
       "'2.Write a Python Program that prompts the user input two numbers and raised a TypeError exception if the input are not \\nnumberical.\\n\\n3. Write a Python program that executes an operation on a list and handles an IndexError exception if the index is out of range.\\n\\n4. Write a Python program that prompts the user to input a number and handles a KeyboardInterrupt exception if the user \\ncancels the input.\\n5.Write a Pyhton program that executes division and handles an ArithmeticError exception if there is an arithmetic error.\\n\\n'"
      ]
     },
     "execution_count": 11,
     "metadata": {},
     "output_type": "execute_result"
    }
   ],
   "source": [
    "# Write a program to take three user input and add two input and divive one and  display the output with try and except:\n",
    "\n",
    "# Write a python program to handle a ZeroDivisionError exception when dividing a number by 0.\n",
    "'''2.Write a Python Program that prompts the user input two numbers and raised a TypeError exception if the input are not \n",
    "numberical.\n",
    "\n",
    "3. Write a Python program that executes an operation on a list and handles an IndexError exception if the index is out of range.\n",
    "\n",
    "4. Write a Python program that prompts the user to input a number and handles a KeyboardInterrupt exception if the user \n",
    "cancels the input.\n",
    "5.Write a Pyhton program that executes division and handles an ArithmeticError exception if there is an arithmetic error.\n",
    "\n",
    "'''"
   ]
  },
  {
   "cell_type": "code",
   "execution_count": 22,
   "id": "8413bafb",
   "metadata": {},
   "outputs": [
    {
     "name": "stdout",
     "output_type": "stream",
     "text": [
      "Enter any numberd\n",
      "Enter second numebr:4\n",
      "This code gives TypeError\n"
     ]
    }
   ],
   "source": [
    "'''2.Write a Python Program that prompts the user input two numbers and raised a TypeError exception if the input are not \n",
    "numberical.'''\n",
    "\n",
    "# TypeError\n",
    "\n",
    "try:\n",
    "    num1=str(input('Enter any number'))\n",
    "    num2=int(input('Enter second numebr:'))\n",
    "    value=num1/num2\n",
    "except TypeError:\n",
    "    print('This code gives TypeError')\n",
    "else:\n",
    "    print('Your code is running with the value is:',value)"
   ]
  },
  {
   "cell_type": "code",
   "execution_count": 19,
   "id": "f88efe98",
   "metadata": {},
   "outputs": [
    {
     "name": "stdout",
     "output_type": "stream",
     "text": [
      "Enter any number5\n"
     ]
    },
    {
     "ename": "TypeError",
     "evalue": "unsupported operand type(s) for /: 'str' and 'int'",
     "output_type": "error",
     "traceback": [
      "\u001b[1;31m---------------------------------------------------------------------------\u001b[0m",
      "\u001b[1;31mTypeError\u001b[0m                                 Traceback (most recent call last)",
      "\u001b[1;32m~\\AppData\\Local\\Temp\\ipykernel_12772\\939909393.py\u001b[0m in \u001b[0;36m<module>\u001b[1;34m\u001b[0m\n\u001b[0;32m      1\u001b[0m \u001b[0mnum\u001b[0m\u001b[1;33m=\u001b[0m\u001b[1;34m'five'\u001b[0m\u001b[1;33m\u001b[0m\u001b[1;33m\u001b[0m\u001b[0m\n\u001b[0;32m      2\u001b[0m \u001b[0mnum1\u001b[0m\u001b[1;33m=\u001b[0m\u001b[0mint\u001b[0m\u001b[1;33m(\u001b[0m\u001b[0minput\u001b[0m\u001b[1;33m(\u001b[0m\u001b[1;34m'Enter any number'\u001b[0m\u001b[1;33m)\u001b[0m\u001b[1;33m)\u001b[0m\u001b[1;33m\u001b[0m\u001b[1;33m\u001b[0m\u001b[0m\n\u001b[1;32m----> 3\u001b[1;33m \u001b[0mvalue\u001b[0m\u001b[1;33m=\u001b[0m\u001b[0mnum\u001b[0m\u001b[1;33m/\u001b[0m\u001b[0mnum1\u001b[0m\u001b[1;33m\u001b[0m\u001b[1;33m\u001b[0m\u001b[0m\n\u001b[0m\u001b[0;32m      4\u001b[0m \u001b[0mprint\u001b[0m\u001b[1;33m(\u001b[0m\u001b[0mvalue\u001b[0m\u001b[1;33m)\u001b[0m\u001b[1;33m\u001b[0m\u001b[1;33m\u001b[0m\u001b[0m\n",
      "\u001b[1;31mTypeError\u001b[0m: unsupported operand type(s) for /: 'str' and 'int'"
     ]
    }
   ],
   "source": [
    "num='five'\n",
    "num1=int(input('Enter any number'))\n",
    "value=num/num1\n",
    "print(value)"
   ]
  },
  {
   "cell_type": "code",
   "execution_count": 23,
   "id": "4718a977",
   "metadata": {},
   "outputs": [
    {
     "name": "stdout",
     "output_type": "stream",
     "text": [
      "This is an IndexError\n",
      "This is finally end of program\n"
     ]
    }
   ],
   "source": [
    "# 3. Write a Python program that executes an operation on a list and handles an IndexError exception if the index is out of range.\n",
    "\n",
    "try:\n",
    "    nlis=[1,4,666,2.456,{4,22,66,4444,3.258},'hello disney world ']\n",
    "    print(nlis[6])\n",
    "    \n",
    "except IndexError:\n",
    "    print(\"This is an IndexError\")\n",
    "    \n",
    "finally:\n",
    "    print(\"This is finally end of program\")"
   ]
  },
  {
   "cell_type": "code",
   "execution_count": 29,
   "id": "f6ded735",
   "metadata": {},
   "outputs": [
    {
     "name": "stdout",
     "output_type": "stream",
     "text": [
      "Excecution interrupted by the user\n"
     ]
    }
   ],
   "source": [
    "#4. Write a Python program that prompts the user to input a number and handles a KeyboardInterrupt exception if the user \n",
    "# cancels the input.\n",
    "\n",
    "try:\n",
    "    while True:\n",
    "        pass\n",
    "except KeyboardInterrupt:\n",
    "    print('Excecution interrupted by the user')"
   ]
  },
  {
   "cell_type": "code",
   "execution_count": 30,
   "id": "c59c0339",
   "metadata": {},
   "outputs": [
    {
     "ename": "KeyboardInterrupt",
     "evalue": "",
     "output_type": "error",
     "traceback": [
      "\u001b[1;31m---------------------------------------------------------------------------\u001b[0m",
      "\u001b[1;31mKeyboardInterrupt\u001b[0m                         Traceback (most recent call last)",
      "\u001b[1;32m~\\AppData\\Local\\Temp\\ipykernel_12772\\2044646855.py\u001b[0m in \u001b[0;36m<module>\u001b[1;34m\u001b[0m\n\u001b[0;32m      1\u001b[0m \u001b[1;32mwhile\u001b[0m \u001b[1;32mTrue\u001b[0m\u001b[1;33m:\u001b[0m\u001b[1;33m\u001b[0m\u001b[1;33m\u001b[0m\u001b[0m\n\u001b[1;32m----> 2\u001b[1;33m     \u001b[1;32mpass\u001b[0m\u001b[1;33m\u001b[0m\u001b[1;33m\u001b[0m\u001b[0m\n\u001b[0m",
      "\u001b[1;31mKeyboardInterrupt\u001b[0m: "
     ]
    }
   ],
   "source": [
    "while True:\n",
    "    pass"
   ]
  },
  {
   "cell_type": "code",
   "execution_count": 60,
   "id": "0299d9ad",
   "metadata": {},
   "outputs": [
    {
     "name": "stdout",
     "output_type": "stream",
     "text": [
      "Enter a number0\n",
      "An arithmetic Error occurred.\n"
     ]
    }
   ],
   "source": [
    "# 5.Write a Pyhton program that executes division and handles an ArithmeticError exception if there is an arithmetic error.\n",
    "\n",
    "\n",
    "try:\n",
    "    num=int(input('Enter a number'))\n",
    "    result=10/num\n",
    "\n",
    "except ArithmeticError:\n",
    "    print('An arithmetic Error occurred.')\n",
    "except ValueError:\n",
    "    print('A valueError occurred')\n",
    "else:\n",
    "    print('Result',result)"
   ]
  },
  {
   "cell_type": "code",
   "execution_count": 64,
   "id": "3b50d969",
   "metadata": {},
   "outputs": [
    {
     "name": "stdout",
     "output_type": "stream",
     "text": [
      "Plz enter the radius of a circle  : 4\n",
      "None\n",
      "Total area of a circle is : 4\n"
     ]
    }
   ],
   "source": [
    "import math\n",
    "tarea=1\n",
    "def area(r):\n",
    "    x=math.pi*r*r\n",
    "\n",
    "print(area(int(input(\"Plz enter the radius of a circle  : \"))))\n",
    "print(\"Total area of a circle is :\",x)"
   ]
  },
  {
   "cell_type": "code",
   "execution_count": 62,
   "id": "8eb1484e",
   "metadata": {},
   "outputs": [
    {
     "name": "stdout",
     "output_type": "stream",
     "text": [
      "Enter radius4\n",
      "50.26548245743669\n"
     ]
    }
   ],
   "source": [
    "x=int(input('Enter radius'))\n",
    "\n",
    "z=math.pi*x*x\n",
    "print(z)"
   ]
  },
  {
   "cell_type": "code",
   "execution_count": 69,
   "id": "dd598efb",
   "metadata": {},
   "outputs": [
    {
     "name": "stdout",
     "output_type": "stream",
     "text": [
      "Enter radius10\n",
      "314.1592653589793\n"
     ]
    }
   ],
   "source": [
    "def area_circle(r):\n",
    "    area=math.pi*r**2\n",
    "    return area\n",
    "\n",
    "r=float(input('Enter radius'))\n",
    "value=area_circle(r)\n",
    "print(value)"
   ]
  },
  {
   "cell_type": "code",
   "execution_count": null,
   "id": "ec3b30a3",
   "metadata": {},
   "outputs": [],
   "source": []
  },
  {
   "cell_type": "code",
   "execution_count": null,
   "id": "d6abce5d",
   "metadata": {},
   "outputs": [],
   "source": []
  }
 ],
 "metadata": {
  "kernelspec": {
   "display_name": "Python 3 (ipykernel)",
   "language": "python",
   "name": "python3"
  },
  "language_info": {
   "codemirror_mode": {
    "name": "ipython",
    "version": 3
   },
   "file_extension": ".py",
   "mimetype": "text/x-python",
   "name": "python",
   "nbconvert_exporter": "python",
   "pygments_lexer": "ipython3",
   "version": "3.9.13"
  }
 },
 "nbformat": 4,
 "nbformat_minor": 5
}
