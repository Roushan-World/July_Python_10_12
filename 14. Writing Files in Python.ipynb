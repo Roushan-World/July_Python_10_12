{
 "cells": [
  {
   "cell_type": "markdown",
   "id": "3259b84e",
   "metadata": {},
   "source": [
    "# 14. Writing Files in Python\n",
    "\n",
    " * __To Write to a file in Python, you follows these steps:__\n",
    " \n",
    " * __First, Open the text file for writing(appending) using open() function.__\n",
    " * __Second,Write to the text file using the write() or writelines() method.__\n",
    " * __Third,close the file using close() method.__\n",
    " \n",
    " * __Characters ----------------------> Functions.__\n",
    " \n",
    " * __W--------------------------------> Open file for writing only. File pointer places at beginning of the file. Overwrites if existing file and Creates a new one it it does not exists.__\n",
    " \n",
    " * __r--------------------------------> Open the file for reading only. Starts reading from the beginning of the file. This is default mode.__\n",
    " \n",
    " * __rb-------------------------------> Open a file for reading only. Starts reading from beginning of the file.__\n",
    " \n",
    " * __r+-------------------------------> Open file for reading and writing. File pointer placed at beginning of the file.__\n",
    " \n",
    " * __Wb-------------------------------> Same as W but opens in binary mode.__\n",
    " \n",
    " * __W+-------------------------------> Same as W but allows to read from the file.__\n",
    " \n",
    " * __Wb+------------------------------> Same as Wb but also allows to read from the file.__\n",
    " \n",
    " * __a--------------------------------> Open a file for appending. Starts writing at the end of the file. Creates a new file if file does not exist.__\n",
    " \n",
    " * __ab-------------------------------> Same as a but in binary format. Creates a new file if file does not exist.__\n",
    " \n",
    " * __a+-------------------------------> Same as a but also open for reading.__\n",
    " \n",
    " * __ab+------------------------------> Same as ab but also open for reading.__"
   ]
  },
  {
   "cell_type": "code",
   "execution_count": 1,
   "id": "6a52ac60",
   "metadata": {},
   "outputs": [],
   "source": [
    "fname='Bhagyashri.txt'\n",
    "with open(fname,'w') as f:\n",
    "    f.write('My name is BhagyaShri.\\n')\n",
    "    f.write('I am 40 years old.\\n')\n",
    "    f.write('I am from Pune.')"
   ]
  },
  {
   "cell_type": "code",
   "execution_count": 2,
   "id": "c8a3ff86",
   "metadata": {},
   "outputs": [
    {
     "name": "stdout",
     "output_type": "stream",
     "text": [
      "My name is BhagyaShri.\n",
      "I am 40 years old.\n",
      "I am from Pune.\n"
     ]
    }
   ],
   "source": [
    "with open(fname,'r') as f:\n",
    "    content=f.read()\n",
    "    print(content)"
   ]
  },
  {
   "cell_type": "code",
   "execution_count": 4,
   "id": "da506ad6",
   "metadata": {},
   "outputs": [
    {
     "name": "stdout",
     "output_type": "stream",
     "text": [
      "Enter your lines:3\n",
      "Begin Writing and Press Enter to continue.\n",
      "My self is BhagyaShri.\n",
      "I am 33 yrs old.\n",
      "I am from pune.\n"
     ]
    }
   ],
   "source": [
    "# file writing using for loop\n",
    "\n",
    "filename='aboutme.txt'\n",
    "n=int(input('Enter your lines:'))\n",
    "print('Begin Writing and Press Enter to continue.')\n",
    "\n",
    "with open(filename,'w') as f:\n",
    "    for i in range(n):\n",
    "        s=input()\n",
    "        f.write(s)\n",
    "        f.write('\\n')"
   ]
  },
  {
   "cell_type": "code",
   "execution_count": 5,
   "id": "0594d920",
   "metadata": {},
   "outputs": [
    {
     "name": "stdout",
     "output_type": "stream",
     "text": [
      "My self is BhagyaShri.\n",
      "I am 33 yrs old.\n",
      "I am from pune.\n",
      "\n"
     ]
    }
   ],
   "source": [
    "with open(filename,'r') as f:\n",
    "    content=f.read()\n",
    "    print(content)"
   ]
  },
  {
   "cell_type": "code",
   "execution_count": 7,
   "id": "0df38805",
   "metadata": {},
   "outputs": [
    {
     "name": "stdout",
     "output_type": "stream",
     "text": [
      "Enter file namecow\n",
      "Enter Number of lines:2\n",
      "Cow is pet animals.\n",
      "Cow gives us milk\n",
      "\n"
     ]
    }
   ],
   "source": [
    "# Using function, Write file using loop.\n",
    "\n",
    "def write(cow,n):\n",
    "    with open(cow,'w') as f:\n",
    "        for i in range(n):\n",
    "            s=input()\n",
    "            f.write(s)\n",
    "            f.write('\\n')\n",
    "            \n",
    "        with open(cow,'r') as f:\n",
    "            content=f.read()\n",
    "            print(content)\n",
    "            \n",
    "cow=input('Enter file name')\n",
    "cow=cow+'.txt'\n",
    "n=int(input('Enter Number of lines:'))\n",
    "write(cow,n)"
   ]
  },
  {
   "cell_type": "code",
   "execution_count": 2,
   "id": "f8c71cea",
   "metadata": {},
   "outputs": [
    {
     "name": "stdout",
     "output_type": "stream",
     "text": [
      "Write the number of lines you want to write: 5\n",
      "Write: Myself Bhagyashri\n",
      "Write: I am 33 yrs old.\n",
      "Write: I am from Pune\n",
      "Write: I've done my graduation in 2018\n",
      "Write: That's all\n"
     ]
    }
   ],
   "source": [
    "# Writing files using classes and objects:\n",
    "\n",
    "class am:\n",
    "    def __init__(self,filename):\n",
    "        self.filename=filename\n",
    "       \n",
    "    def am2file(self):\n",
    "        fname=open(self.filename,'w')\n",
    "        aboutme=[]\n",
    "        \n",
    "        n=int(input('Write the number of lines you want to write: '))\n",
    "        \n",
    "        for x in range(n):\n",
    "            am=input('Write: ')\n",
    "            aboutme.append(am)\n",
    "        for i in aboutme:\n",
    "            fname.write(i)\n",
    "            fname.write('\\n')\n",
    "            \n",
    "        fname.close()\n",
    "        \n",
    "am1=am('f1.txt')\n",
    "am1.am2file()"
   ]
  },
  {
   "cell_type": "code",
   "execution_count": null,
   "id": "b6a5da60",
   "metadata": {},
   "outputs": [],
   "source": []
  }
 ],
 "metadata": {
  "kernelspec": {
   "display_name": "Python 3 (ipykernel)",
   "language": "python",
   "name": "python3"
  },
  "language_info": {
   "codemirror_mode": {
    "name": "ipython",
    "version": 3
   },
   "file_extension": ".py",
   "mimetype": "text/x-python",
   "name": "python",
   "nbconvert_exporter": "python",
   "pygments_lexer": "ipython3",
   "version": "3.9.13"
  }
 },
 "nbformat": 4,
 "nbformat_minor": 5
}
