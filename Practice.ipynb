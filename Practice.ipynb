{
 "cells": [
  {
   "cell_type": "code",
   "execution_count": 2,
   "id": "736d4107",
   "metadata": {},
   "outputs": [
    {
     "name": "stdout",
     "output_type": "stream",
     "text": [
      "enter 1st side of a triangle : 12\n",
      "enter 2nd side of a triangle : 12\n",
      "enter 3rd side of a triangle : 12\n",
      "triangle is equilateral\n"
     ]
    }
   ],
   "source": [
    "# Accept three sides of a triangle and check whether it is an equilateral, isosceles or scalen traingle. using if or else.\n",
    "\n",
    "x=int(input('enter 1st side of a triangle : '))\n",
    "y=int(input('enter 2nd side of a triangle : '))\n",
    "z=int(input('enter 3rd side of a triangle : '))\n",
    "\n",
    "if x==y and y==z:\n",
    "    print(\"triangle is equilateral\")\n",
    "    \n",
    "elif x==y and y!=z or x==z and x!=y or y==z and y!=x:\n",
    "    print(\"triangle is isosceles\")\n",
    "    \n",
    "else:\n",
    "    print(\" traingle is scalen triangle\")"
   ]
  },
  {
   "cell_type": "code",
   "execution_count": 5,
   "id": "a57f9759",
   "metadata": {},
   "outputs": [
    {
     "name": "stdout",
     "output_type": "stream",
     "text": [
      "Account Number: 123456\n",
      "Accunt Holder Name: Albert\n",
      "Account Balance: 3200 $\n"
     ]
    }
   ],
   "source": [
    "# Create a Python class called bankAccount with represents a bank account, having as an attributes: account number, \n",
    "# name and balance.\n",
    "# Create a constructor with parameters: accountNumber, name ,balance\n",
    "# Create a Deposite() method which manages deposite action.\n",
    "# Create an withdrawl() method which manages withdrawls actions.\n",
    "# Create an bankfees() method to apply the bank fees with a percentage of 5% of the balance account.\n",
    "# Create a display() method to display account details.\n",
    "\n",
    "\n",
    "class BankAccount:\n",
    "    def __init__(self,accountNumber,name,balance):\n",
    "        self.accountNumber=accountNumber\n",
    "        self.name=name\n",
    "        self.balance=balance\n",
    "        \n",
    "    def Deposite(self,d):\n",
    "        self.balance=self.balance+d\n",
    "        \n",
    "    def Withdrawal(self,w):\n",
    "        if (self.balance<w):\n",
    "            print('Impossible operations! Insufficient balance!')\n",
    "        else:\n",
    "            self.balance=self.balance-w\n",
    "            \n",
    "    def bankFees(self):\n",
    "        self.balance=(95/100)*self.balance\n",
    "        \n",
    "    def display(self):\n",
    "        print('Account Number:',self.accountNumber)\n",
    "        print('Accunt Holder Name:',self.name)\n",
    "        print('Account Balance:',self.balance,'$')\n",
    "        \n",
    "newAccount=BankAccount(123456,'Albert',2700)\n",
    "#newAccount.Withdrawal(300)\n",
    "newAccount.Deposite(500)\n",
    "newAccount.display()\n",
    "        "
   ]
  },
  {
   "cell_type": "code",
   "execution_count": 3,
   "id": "b37fc5dd",
   "metadata": {},
   "outputs": [
    {
     "name": "stdout",
     "output_type": "stream",
     "text": [
      "Sum of all positive integers: 360\n"
     ]
    }
   ],
   "source": [
    "# Given list of integers, find sum of all positive integers list1=[-1,20,-30,40,-10,-323,200,100,-400]\n",
    "\n",
    "list1=[-1,20,-30,40,-10,-323,200,100,-400]\n",
    "\n",
    "sum1=0\n",
    "\n",
    "for i in list1:\n",
    "    if i>0:\n",
    "        sum1+=i\n",
    "    else:\n",
    "        pass\n",
    "    \n",
    "print('Sum of all positive integers:',sum1)"
   ]
  },
  {
   "cell_type": "code",
   "execution_count": 4,
   "id": "fbec5612",
   "metadata": {},
   "outputs": [
    {
     "name": "stdout",
     "output_type": "stream",
     "text": [
      "enter your sentence : \n",
      "The quick brown fox jump over the lazy dog.\n",
      "Number of letters are :  35\n"
     ]
    }
   ],
   "source": [
    "# Create a program that takes a sentence as input and counts number of letters in the sentence.\n",
    "\n",
    "x=input(\"enter your sentence : \\n\")\n",
    "\n",
    "count=0\n",
    "\n",
    "for i in x:\n",
    "    if i==' ':\n",
    "        pass\n",
    "    else:\n",
    "        count=count+1\n",
    "\n",
    "print(\"Number of letters are : \",count)"
   ]
  },
  {
   "cell_type": "code",
   "execution_count": 5,
   "id": "2be14dee",
   "metadata": {},
   "outputs": [
    {
     "name": "stdout",
     "output_type": "stream",
     "text": [
      "Enter a sentenceThe Quick Brown fox jump over the lazy dog\n",
      "Number of words in the sentence: 34\n"
     ]
    }
   ],
   "source": [
    "sentence=input('Enter a sentence')\n",
    "\n",
    "words=0\n",
    "\n",
    "for i in sentence:\n",
    "    if i.isalpha()==True:\n",
    "        words+=1\n",
    "    else:\n",
    "        pass\n",
    "print('Number of words in the sentence:',words)"
   ]
  },
  {
   "cell_type": "code",
   "execution_count": 7,
   "id": "56f44586",
   "metadata": {},
   "outputs": [
    {
     "name": "stdout",
     "output_type": "stream",
     "text": [
      "Enter any number:7895522252121\n",
      "51\n"
     ]
    }
   ],
   "source": [
    "# Calculate the sum of digits of a users given number.\n",
    "\n",
    "digit=int(input('Enter any number:'))\n",
    "\n",
    "sums=0\n",
    "\n",
    "for i in str(digit):\n",
    "    sums+=int(i)\n",
    "    \n",
    "print(sums)"
   ]
  },
  {
   "cell_type": "code",
   "execution_count": 1,
   "id": "337ce744",
   "metadata": {},
   "outputs": [],
   "source": [
    "# Write a program to print sum of first 10 Even number using while loop.\n",
    "\n",
    "# Write a program to find the sum of the digits of a number accepted from the user using while loop.\n",
    "\n",
    "# Write a program to display the number names of the digit of a number entered by the user, for example: if the number \n",
    "# is 231 then output should be Two Three one."
   ]
  },
  {
   "cell_type": "code",
   "execution_count": 2,
   "id": "5c26dcdd",
   "metadata": {},
   "outputs": [
    {
     "name": "stdout",
     "output_type": "stream",
     "text": [
      "30\n"
     ]
    }
   ],
   "source": [
    "# Write a program to print sum of first 10 Even number using while loop.\n",
    "x=1\n",
    "sum=0\n",
    "while x<11:\n",
    "    if x%2==0:\n",
    "        sum=sum+x\n",
    "    x+=1\n",
    "print(sum)"
   ]
  },
  {
   "cell_type": "code",
   "execution_count": 4,
   "id": "7e287909",
   "metadata": {},
   "outputs": [
    {
     "name": "stdout",
     "output_type": "stream",
     "text": [
      "Enter any number:456998887752\n",
      "Sum of the digits are: 78\n"
     ]
    }
   ],
   "source": [
    "# Write a program to find the sum of the digits of a number accepted from the user using while loop.\n",
    "num=int(input('Enter any number:'))\n",
    "\n",
    "r=0\n",
    "s=0\n",
    "\n",
    "while (num!=0):\n",
    "    r=num%10\n",
    "    s=s+r\n",
    "    num=num//10\n",
    "    \n",
    "print('Sum of the digits are:',s)"
   ]
  },
  {
   "cell_type": "code",
   "execution_count": 7,
   "id": "f2460f73",
   "metadata": {},
   "outputs": [
    {
     "name": "stdout",
     "output_type": "stream",
     "text": [
      "Enter any number:7894561230\n",
      "Seven Eight Nine Four Five Six One Two Three Zero "
     ]
    }
   ],
   "source": [
    "# Write a program to display the number names of the digit of a number entered by the user, for example: if the number \n",
    "# is 231 then output should be Two Three one.\n",
    "\n",
    "num1=input('Enter any number:')\n",
    "\n",
    "l1=list(num1)\n",
    "l=len(l1)\n",
    "i=0\n",
    "n={0:'Zero',1:'One',2:'Two',3:'Three',4:'Four',5:'Five',6:'Six',7:'Seven',8:'Eight',9:'Nine'}\n",
    "\n",
    "while(i<l):\n",
    "    print(n[int(l1[i])],end=' ')\n",
    "    i=i+1"
   ]
  },
  {
   "cell_type": "code",
   "execution_count": 8,
   "id": "674c5b41",
   "metadata": {},
   "outputs": [
    {
     "name": "stdout",
     "output_type": "stream",
     "text": [
      "[4, 9, 16, 25, 36, 49, 64]\n"
     ]
    }
   ],
   "source": [
    "# Write a program that appends the square of each numbers to  a list using for loop.\n",
    "\n",
    "\n",
    "# hint\n",
    "# Given number = [2,3,4,5,6,7,8]\n",
    "# Expected output is\n",
    "# Result:[4,9,16,25,36,49,64]\n",
    "l=[2,3,4,5,6,7,8]\n",
    "m=[]\n",
    "\n",
    "for i in l:\n",
    "    sq=i**2\n",
    "    m.append(sq)\n",
    "print(m)"
   ]
  },
  {
   "cell_type": "code",
   "execution_count": 9,
   "id": "9b5daed6",
   "metadata": {},
   "outputs": [
    {
     "name": "stdout",
     "output_type": "stream",
     "text": [
      "+ ve list : [23, 4, 21, 100, 200, 123.02, 78.56, 745, 245]\n",
      "- ve list : [-6, -9, -45, -8, -79, -72, -89.55]\n"
     ]
    }
   ],
   "source": [
    "# WAP to separte positive and negative number from a list.\n",
    "\n",
    "# Given x=[23,4,-6,-9,21,-45,-8,100,-79,200,-72,123.02,78.56,-89.55,745,245]\n",
    "\n",
    "l=[23,4,-6,-9,21,-45,-8,100,-79,200,-72,123.02,78.56,-89.55,745,245]\n",
    "m=[]\n",
    "n=[]\n",
    "\n",
    "for i in l:\n",
    "    if i>0:\n",
    "        m.append(i)\n",
    "    else:\n",
    "        n.append(i)\n",
    "print(\"+ ve list :\",m)\n",
    "print(\"- ve list :\",n)"
   ]
  },
  {
   "cell_type": "code",
   "execution_count": 10,
   "id": "be712e5d",
   "metadata": {},
   "outputs": [
    {
     "name": "stdout",
     "output_type": "stream",
     "text": [
      "Positive numbers: [23, 4, 21, 100, 200, 123.02, 78.56, 745, 245]\n"
     ]
    }
   ],
   "source": [
    "x = [23,4,-6,-9,21,-45,-8,100,-79,200,-72,123.02,78.56,-89.55,745,245]\n",
    "\n",
    "positive_number=[]\n",
    "i=0\n",
    "\n",
    "while i<len(x):\n",
    "    if x[i]>0:\n",
    "        positive_number.append(x[i])\n",
    "    i+=1\n",
    "print('Positive numbers:',positive_number)"
   ]
  },
  {
   "cell_type": "code",
   "execution_count": 11,
   "id": "9acb4c72",
   "metadata": {},
   "outputs": [
    {
     "name": "stdout",
     "output_type": "stream",
     "text": [
      "+ ve list : [23, 4, 21, 100, 200, 123.02, 78.56, 745, 245]\n",
      "- ve list : [-6, -9, -45, -8, -79, -72, -89.55]\n"
     ]
    }
   ],
   "source": [
    "l=[23,4,-6,-9,21,-45,-8,100,-79,200,-72,123.02,78.56,-89.55,745,245]\n",
    "m=[]\n",
    "n=[]\n",
    "i=0\n",
    "while i<len(l):\n",
    "    if l[i]>0:\n",
    "        m.append(l[i])\n",
    "    else:\n",
    "        n.append(l[i])\n",
    "    i+=1\n",
    "print(\"+ ve list :\",m)\n",
    "print(\"- ve list :\",n)"
   ]
  },
  {
   "cell_type": "code",
   "execution_count": 1,
   "id": "fc8c2a79",
   "metadata": {},
   "outputs": [],
   "source": [
    "# Write a program in Python to reverse a word. pyhton to nohtyp\n",
    "\n",
    "# Write a python program to reverse a number 43521 to 12534\n",
    "\n",
    "# Write a python progrm to print n natural number in descending order using a while loop.\n",
    "\n",
    "# Accept two numbers from the user and return their sum, multiplication and division."
   ]
  },
  {
   "cell_type": "code",
   "execution_count": 4,
   "id": "17415c18",
   "metadata": {},
   "outputs": [
    {
     "name": "stdout",
     "output_type": "stream",
     "text": [
      "Enter any words to reverse:Python\n",
      "nohtyP\n",
      "\n"
     ]
    }
   ],
   "source": [
    "# Write a program in Python to reverse a word. pyhton to nohtyp\n",
    "\n",
    "str1=input('Enter any words to reverse:')\n",
    "\n",
    "for i in range(len(str1) -1,-1,-1):\n",
    "    print(str1[i], end='')\n",
    "print('\\n')"
   ]
  },
  {
   "cell_type": "code",
   "execution_count": 8,
   "id": "78250bd1",
   "metadata": {},
   "outputs": [
    {
     "name": "stdout",
     "output_type": "stream",
     "text": [
      "Enter any number: 43521\n",
      "12534\n"
     ]
    }
   ],
   "source": [
    "#  Write a python program to reverse a number 43521 to 12534\n",
    "\n",
    "n=int(input('Enter any number: '))\n",
    "\n",
    "rev=0\n",
    "\n",
    "while (n!=0):\n",
    "    rem=n%10\n",
    "    rev=rev*10+rem\n",
    "    n=n//10\n",
    "    \n",
    "print(rev)"
   ]
  },
  {
   "cell_type": "code",
   "execution_count": 9,
   "id": "19c1a160",
   "metadata": {},
   "outputs": [
    {
     "name": "stdout",
     "output_type": "stream",
     "text": [
      "Enter anu number: 10\n",
      "10 9 8 7 6 5 4 3 2 1 "
     ]
    }
   ],
   "source": [
    "# Write a python progrm to print n natural number in descending order using a while loop.\n",
    "\n",
    "n=int(input('Enter anu number: '))   #10\n",
    "\n",
    "while n!=0:\n",
    "    print(n,end=' ')\n",
    "    n=n-1"
   ]
  },
  {
   "cell_type": "code",
   "execution_count": 10,
   "id": "221f6327",
   "metadata": {},
   "outputs": [],
   "source": [
    "# Accept two numbers from the user and return their sum, multiplication and division"
   ]
  },
  {
   "cell_type": "code",
   "execution_count": 11,
   "id": "c3b55158",
   "metadata": {},
   "outputs": [],
   "source": [
    "# Write a python function to find the max of three numbers.\n",
    "\n",
    "# write a python function to sum all the numbers in a list.\n",
    "\n",
    "# Write a python function to multiply all the number in a list."
   ]
  },
  {
   "cell_type": "code",
   "execution_count": 12,
   "id": "37e0d55c",
   "metadata": {},
   "outputs": [
    {
     "data": {
      "text/plain": [
       "85"
      ]
     },
     "execution_count": 12,
     "metadata": {},
     "output_type": "execute_result"
    }
   ],
   "source": [
    "# Write a python function to find the max of three numbers.\n",
    "def maxx(a,b):\n",
    "    if a>b:\n",
    "        return a\n",
    "    return b\n",
    "\n",
    "def comp3(a,b,c):\n",
    "    return(c,maxx(a,b))\n",
    "max(12,85,74)"
   ]
  },
  {
   "cell_type": "code",
   "execution_count": 24,
   "id": "f18aaa86",
   "metadata": {},
   "outputs": [
    {
     "name": "stdout",
     "output_type": "stream",
     "text": [
      "252\n"
     ]
    }
   ],
   "source": [
    "# write a python function to sum all the numbers in a list.\n",
    "\n",
    "# SUM ALL THE NUMBER IN A LIST\n",
    "\n",
    "\n",
    "def summ(numbers):\n",
    "    sum1=0\n",
    "    for i in l:\n",
    "        sum1=sum1+i\n",
    "    return sum1\n",
    "    \n",
    "print(summ([21,78,11,20,33,89]))"
   ]
  },
  {
   "cell_type": "code",
   "execution_count": 18,
   "id": "a5baee65",
   "metadata": {},
   "outputs": [
    {
     "name": "stdout",
     "output_type": "stream",
     "text": [
      "252\n"
     ]
    }
   ],
   "source": [
    "def sum1(numbers1):\n",
    "    total=0\n",
    "    for x in numbers1:\n",
    "        total+=x\n",
    "    return total\n",
    "print(sum1([21,78,11,20,33,89]))"
   ]
  },
  {
   "cell_type": "code",
   "execution_count": 25,
   "id": "683d2bcc",
   "metadata": {},
   "outputs": [
    {
     "data": {
      "text/plain": [
       "14400"
      ]
     },
     "execution_count": 25,
     "metadata": {},
     "output_type": "execute_result"
    }
   ],
   "source": [
    "# MULTIPLY ALL THE NUMBER IN A LIST\n",
    "\n",
    "l=[5,5,8,4,6,3]\n",
    "\n",
    "def summ():\n",
    "    mul=1\n",
    "    for i in l:\n",
    "        mul=mul*i\n",
    "    return mul\n",
    "    \n",
    "summ()"
   ]
  },
  {
   "cell_type": "code",
   "execution_count": 27,
   "id": "b149f1e8",
   "metadata": {},
   "outputs": [
    {
     "name": "stdout",
     "output_type": "stream",
     "text": [
      "enter the sentence Dog\n",
      "(1, 2)\n"
     ]
    }
   ],
   "source": [
    "# Write a python function that accepts a string and calculate the number of upper and lower letter in your sentence.\n",
    "\n",
    "# accept string and calculate the number of upper and lower case letter in sentence\n",
    "\n",
    "a=input(\"enter the sentence \")\n",
    "\n",
    "def upporlow():\n",
    "    upper=0\n",
    "    lower=0\n",
    "\n",
    "    for i in a:\n",
    "        if i.isupper()==True:\n",
    "            upper+=1\n",
    "        else:\n",
    "            lower+=1\n",
    "            \n",
    "    return upper,lower\n",
    "\n",
    "print(upporlow())"
   ]
  },
  {
   "cell_type": "code",
   "execution_count": 29,
   "id": "eebae50b",
   "metadata": {},
   "outputs": [
    {
     "name": "stdout",
     "output_type": "stream",
     "text": [
      "Enter your text:The Quick Brown Fox Jump Over The Lazy Dog\n",
      "Original String: The Quick Brown Fox Jump Over The Lazy Dog\n",
      "No. of Upper Case Characters: 9\n",
      "No. of Lower Case Characters: 25\n"
     ]
    }
   ],
   "source": [
    "def string_test(s):\n",
    "    d={'UPPER_CASE':0,'LOWER_CASE':0}\n",
    "    for i in s:\n",
    "        if i.isupper():\n",
    "            d['UPPER_CASE']+=1\n",
    "        elif i.islower():\n",
    "            d['LOWER_CASE']+=1\n",
    "        else:\n",
    "            pass\n",
    "        \n",
    "    print('Original String:',s)\n",
    "    print('No. of Upper Case Characters:',d['UPPER_CASE'])\n",
    "    print('No. of Lower Case Characters:',d['LOWER_CASE'])\n",
    "string_test(input('Enter your text:'))"
   ]
  },
  {
   "cell_type": "code",
   "execution_count": 3,
   "id": "d25bc0dd",
   "metadata": {},
   "outputs": [
    {
     "name": "stdout",
     "output_type": "stream",
     "text": [
      "Enter any number:4\n",
      "4 is an even number \n"
     ]
    }
   ],
   "source": [
    "# Write a function that accepts a number and returns whether the number is even or odd.\n",
    "\n",
    "def check(s):\n",
    "    if s%2==0:\n",
    "        print(f\"{s} is an even number \")\n",
    "    else:\n",
    "        print(f\"{s} is an odd number \")\n",
    "\n",
    "s=int(input('Enter any number:'))\n",
    "check(s)"
   ]
  },
  {
   "cell_type": "code",
   "execution_count": 8,
   "id": "5426ac6a",
   "metadata": {},
   "outputs": [
    {
     "name": "stdout",
     "output_type": "stream",
     "text": [
      "enter sentence :  CAT\n",
      "Vowels :  1\n",
      "Consonant :  2\n"
     ]
    }
   ],
   "source": [
    "# Define a function which counts vowels and consonent in a world.\n",
    "def count(m):\n",
    "    vowel=0\n",
    "    conso=0\n",
    "   \n",
    "    for i in m:\n",
    "        if i=='a' or i=='e'or i=='i' or i=='u' or i=='o' or i=='A' or i=='E' or i=='I' or i=='O' or i=='U':\n",
    "            vowel=vowel+1\n",
    "       # elif i=='':\n",
    "        #    pass\n",
    "        else:\n",
    "            conso=conso+1\n",
    "    print(\"Vowels : \",vowel)     \n",
    "    print(\"Consonant : \",conso) \n",
    "count(input(\"enter sentence :  \"))\n"
   ]
  },
  {
   "cell_type": "code",
   "execution_count": 12,
   "id": "8bd9de9e",
   "metadata": {},
   "outputs": [
    {
     "name": "stdout",
     "output_type": "stream",
     "text": [
      "enter radius : 45\n",
      "Area :  6361.725123519332\n"
     ]
    }
   ],
   "source": [
    "# Define a function that accept radius and return the area of circle.\n",
    "\n",
    "# ACCEPT RADIUS AND RETURN AREA OF A CIRCLE\n",
    "import math\n",
    "from math import*\n",
    "\n",
    "def circle(a):\n",
    "    area=pi*a*a\n",
    "    print(\"Area : \",area)\n",
    "\n",
    "circle(int(input(\"enter radius : \")))"
   ]
  },
  {
   "cell_type": "code",
   "execution_count": 1,
   "id": "0bdbd792",
   "metadata": {},
   "outputs": [
    {
     "name": "stdout",
     "output_type": "stream",
     "text": [
      "vehicle name is : Java\n",
      "vehicle speed is : 130\n",
      "vehicle milage : 40\n"
     ]
    }
   ],
   "source": [
    "# WAP to create class and object with output is vehichle name,speed and milage.\n",
    "\n",
    "class vehicle:\n",
    "    def __init__(self,name,speed,milage):\n",
    "        self.name=name\n",
    "        self.speed=speed\n",
    "        self.milage=milage\n",
    "        \n",
    "    def display(self):\n",
    "        print(f\"vehicle name is : {self.name}\")\n",
    "        print(f\"vehicle speed is : {self.speed}\")\n",
    "        print(f\"vehicle milage : {self.milage}\")\n",
    "        \n",
    "a=vehicle('Java',130,40)\n",
    "a.display()"
   ]
  },
  {
   "cell_type": "code",
   "execution_count": 12,
   "id": "b0765136",
   "metadata": {},
   "outputs": [
    {
     "name": "stdout",
     "output_type": "stream",
     "text": [
      "Enter the name of your bus.\n",
      "School Bus\n",
      "Enter Bus speed.\n",
      "40\n",
      "Enter Bus milage.\n",
      "50\n",
      "Enter Bus capacity100\n",
      "bus name is : School Bus\n",
      "bus speed is : 40\n",
      "bus milage is : 50\n",
      "bus seating capacity is : 100\n"
     ]
    }
   ],
   "source": [
    "# WAP to create class and object with output is vehichle name,speed and milage.  # seat_capacity\n",
    "\n",
    "\n",
    "# name\n",
    "# speed\n",
    "# vichle milage\n",
    "# The seating_capacity of a bus name is 60 passenger.\n",
    "\n",
    "class bus:\n",
    "    def __init__(self,name,speed,milage,capacity):\n",
    "        self.name=name\n",
    "        self.speed=speed\n",
    "        self.milage=milage\n",
    "        self.capacity=capacity\n",
    "        \n",
    "\n",
    "        \n",
    "    def display(self):\n",
    "        print(f\"bus name is : {self.name}\")\n",
    "        print(f\"bus speed is : {self.speed}\")\n",
    "        print(f\"bus milage is : {self.milage}\")\n",
    "        print(f\"bus seating capacity is : {self.capacity}\")\n",
    "\n",
    "name=input('Enter the name of your bus.\\n')\n",
    "speed=int(input('Enter Bus speed.\\n'))\n",
    "milage=int(input('Enter Bus milage.\\n'))\n",
    "capacity=int(input('Enter Bus capacity'))\n",
    "\n",
    "y=bus(name,speed,milage,capacity)\n",
    "y.display()"
   ]
  },
  {
   "cell_type": "code",
   "execution_count": 16,
   "id": "71cbccc5",
   "metadata": {},
   "outputs": [
    {
     "name": "stdout",
     "output_type": "stream",
     "text": [
      "Bus Name: School Bus Speed: 140 Mileage: 60\n",
      "Car Name: Audi Q5 Speed: 240 Milage: 18\n"
     ]
    }
   ],
   "source": [
    "# WAP to create class and object with output is vehichle name,speed and milage.  # seat_capacity\n",
    "\n",
    "\n",
    "# name\n",
    "# speed\n",
    "# vichle milage\n",
    "\n",
    "# WAP to creat Car details \n",
    "# name \n",
    "# speed\n",
    "# milage\n",
    "\n",
    "\n",
    "class vehicle:\n",
    "    def __init__(self,name,max_speed,mileage):\n",
    "        self.name=name\n",
    "        self.max_speed=max_speed\n",
    "        self.mileage=mileage\n",
    "        \n",
    "class Bus(vehicle):\n",
    "    pass\n",
    "class Car(vehicle):\n",
    "    pass\n",
    "Bus1=Bus('School Bus',140,60)\n",
    "print('Bus Name:',Bus1.name,'Speed:',Bus1.max_speed,'Mileage:',Bus1.mileage)\n",
    "\n",
    "car=Car('Audi Q5',240,18)\n",
    "print(\"Car Name:\",car.name,\"Speed:\", car.max_speed, \"Milage:\",car.mileage)"
   ]
  },
  {
   "cell_type": "code",
   "execution_count": 18,
   "id": "a18b9ec9",
   "metadata": {},
   "outputs": [
    {
     "name": "stdout",
     "output_type": "stream",
     "text": [
      "vehicle name is : volvo\n",
      "vehicle speed is : 150\n",
      "vehicle milage is : 60\n",
      "vehicle name is : Jawa\n",
      "vehicle speed is : 130\n",
      "vehicle milage is : 40\n"
     ]
    }
   ],
   "source": [
    "class vehicle:\n",
    "    def __init__(self,name,speed,milage):\n",
    "        self.name=name\n",
    "        self.speed=speed\n",
    "        self.milage=milage\n",
    "        \n",
    "    def display(self):\n",
    "        print(f\"vehicle name is : {self.name}\")\n",
    "        print(f\"vehicle speed is : {self.speed}\")\n",
    "        print(f\"vehicle milage is : {self.milage}\")\n",
    "        \n",
    "class bus(vehicle):\n",
    "    pass\n",
    "    \n",
    "class car(vehicle):\n",
    "    pass\n",
    "        \n",
    "    \n",
    "        \n",
    "a=bus('volvo',150,60)\n",
    "b=car('Jawa',130,40)\n",
    "a.display()\n",
    "b.display()"
   ]
  },
  {
   "cell_type": "code",
   "execution_count": null,
   "id": "33c6f7bb",
   "metadata": {},
   "outputs": [],
   "source": []
  }
 ],
 "metadata": {
  "kernelspec": {
   "display_name": "Python 3 (ipykernel)",
   "language": "python",
   "name": "python3"
  },
  "language_info": {
   "codemirror_mode": {
    "name": "ipython",
    "version": 3
   },
   "file_extension": ".py",
   "mimetype": "text/x-python",
   "name": "python",
   "nbconvert_exporter": "python",
   "pygments_lexer": "ipython3",
   "version": "3.9.13"
  }
 },
 "nbformat": 4,
 "nbformat_minor": 5
}
