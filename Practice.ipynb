{
 "cells": [
  {
   "cell_type": "code",
   "execution_count": 2,
   "id": "736d4107",
   "metadata": {},
   "outputs": [
    {
     "name": "stdout",
     "output_type": "stream",
     "text": [
      "enter 1st side of a triangle : 12\n",
      "enter 2nd side of a triangle : 12\n",
      "enter 3rd side of a triangle : 12\n",
      "triangle is equilateral\n"
     ]
    }
   ],
   "source": [
    "# Accept three sides of a triangle and check whether it is an equilateral, isosceles or scalen traingle. using if or else.\n",
    "\n",
    "x=int(input('enter 1st side of a triangle : '))\n",
    "y=int(input('enter 2nd side of a triangle : '))\n",
    "z=int(input('enter 3rd side of a triangle : '))\n",
    "\n",
    "if x==y and y==z:\n",
    "    print(\"triangle is equilateral\")\n",
    "    \n",
    "elif x==y and y!=z or x==z and x!=y or y==z and y!=x:\n",
    "    print(\"triangle is isosceles\")\n",
    "    \n",
    "else:\n",
    "    print(\" traingle is scalen triangle\")"
   ]
  },
  {
   "cell_type": "code",
   "execution_count": 5,
   "id": "a57f9759",
   "metadata": {},
   "outputs": [
    {
     "name": "stdout",
     "output_type": "stream",
     "text": [
      "Account Number: 123456\n",
      "Accunt Holder Name: Albert\n",
      "Account Balance: 3200 $\n"
     ]
    }
   ],
   "source": [
    "# Create a Python class called bankAccount with represents a bank account, having as an attributes: account number, \n",
    "# name and balance.\n",
    "# Create a constructor with parameters: accountNumber, name ,balance\n",
    "# Create a Deposite() method which manages deposite action.\n",
    "# Create an withdrawl() method which manages withdrawls actions.\n",
    "# Create an bankfees() method to apply the bank fees with a percentage of 5% of the balance account.\n",
    "# Create a display() method to display account details.\n",
    "\n",
    "\n",
    "class BankAccount:\n",
    "    def __init__(self,accountNumber,name,balance):\n",
    "        self.accountNumber=accountNumber\n",
    "        self.name=name\n",
    "        self.balance=balance\n",
    "        \n",
    "    def Deposite(self,d):\n",
    "        self.balance=self.balance+d\n",
    "        \n",
    "    def Withdrawal(self,w):\n",
    "        if (self.balance<w):\n",
    "            print('Impossible operations! Insufficient balance!')\n",
    "        else:\n",
    "            self.balance=self.balance-w\n",
    "            \n",
    "    def bankFees(self):\n",
    "        self.balance=(95/100)*self.balance\n",
    "        \n",
    "    def display(self):\n",
    "        print('Account Number:',self.accountNumber)\n",
    "        print('Accunt Holder Name:',self.name)\n",
    "        print('Account Balance:',self.balance,'$')\n",
    "        \n",
    "newAccount=BankAccount(123456,'Albert',2700)\n",
    "#newAccount.Withdrawal(300)\n",
    "newAccount.Deposite(500)\n",
    "newAccount.display()\n",
    "        "
   ]
  },
  {
   "cell_type": "code",
   "execution_count": 3,
   "id": "b37fc5dd",
   "metadata": {},
   "outputs": [
    {
     "name": "stdout",
     "output_type": "stream",
     "text": [
      "Sum of all positive integers: 360\n"
     ]
    }
   ],
   "source": [
    "# Given list of integers, find sum of all positive integers list1=[-1,20,-30,40,-10,-323,200,100,-400]\n",
    "\n",
    "list1=[-1,20,-30,40,-10,-323,200,100,-400]\n",
    "\n",
    "sum1=0\n",
    "\n",
    "for i in list1:\n",
    "    if i>0:\n",
    "        sum1+=i\n",
    "    else:\n",
    "        pass\n",
    "    \n",
    "print('Sum of all positive integers:',sum1)"
   ]
  },
  {
   "cell_type": "code",
   "execution_count": 4,
   "id": "fbec5612",
   "metadata": {},
   "outputs": [
    {
     "name": "stdout",
     "output_type": "stream",
     "text": [
      "enter your sentence : \n",
      "The quick brown fox jump over the lazy dog.\n",
      "Number of letters are :  35\n"
     ]
    }
   ],
   "source": [
    "# Create a program that takes a sentence as input and counts number of letters in the sentence.\n",
    "\n",
    "x=input(\"enter your sentence : \\n\")\n",
    "\n",
    "count=0\n",
    "\n",
    "for i in x:\n",
    "    if i==' ':\n",
    "        pass\n",
    "    else:\n",
    "        count=count+1\n",
    "\n",
    "print(\"Number of letters are : \",count)"
   ]
  },
  {
   "cell_type": "code",
   "execution_count": 5,
   "id": "2be14dee",
   "metadata": {},
   "outputs": [
    {
     "name": "stdout",
     "output_type": "stream",
     "text": [
      "Enter a sentenceThe Quick Brown fox jump over the lazy dog\n",
      "Number of words in the sentence: 34\n"
     ]
    }
   ],
   "source": [
    "sentence=input('Enter a sentence')\n",
    "\n",
    "words=0\n",
    "\n",
    "for i in sentence:\n",
    "    if i.isalpha()==True:\n",
    "        words+=1\n",
    "    else:\n",
    "        pass\n",
    "print('Number of words in the sentence:',words)"
   ]
  },
  {
   "cell_type": "code",
   "execution_count": 7,
   "id": "56f44586",
   "metadata": {},
   "outputs": [
    {
     "name": "stdout",
     "output_type": "stream",
     "text": [
      "Enter any number:7895522252121\n",
      "51\n"
     ]
    }
   ],
   "source": [
    "# Calculate the sum of digits of a users given number.\n",
    "\n",
    "digit=int(input('Enter any number:'))\n",
    "\n",
    "sums=0\n",
    "\n",
    "for i in str(digit):\n",
    "    sums+=int(i)\n",
    "    \n",
    "print(sums)"
   ]
  },
  {
   "cell_type": "code",
   "execution_count": 1,
   "id": "337ce744",
   "metadata": {},
   "outputs": [],
   "source": [
    "# Write a program to print sum of first 10 Even number using while loop.\n",
    "\n",
    "# Write a program to find the sum of the digits of a number accepted from the user using while loop.\n",
    "\n",
    "# Write a program to display the number names of the digit of a number entered by the user, for example: if the number \n",
    "# is 231 then output should be Two Three one."
   ]
  },
  {
   "cell_type": "code",
   "execution_count": 2,
   "id": "0b2a1f7e",
   "metadata": {},
   "outputs": [
    {
     "name": "stdout",
     "output_type": "stream",
     "text": [
      "30\n"
     ]
    }
   ],
   "source": [
    "# Write a program to print sum of first 10 Even number using while loop.\n",
    "x=1\n",
    "sum=0\n",
    "while x<11:\n",
    "    if x%2==0:\n",
    "        sum=sum+x\n",
    "    x+=1\n",
    "print(sum)"
   ]
  },
  {
   "cell_type": "code",
   "execution_count": 4,
   "id": "2558c7c5",
   "metadata": {},
   "outputs": [
    {
     "name": "stdout",
     "output_type": "stream",
     "text": [
      "Enter any number:456998887752\n",
      "Sum of the digits are: 78\n"
     ]
    }
   ],
   "source": [
    "# Write a program to find the sum of the digits of a number accepted from the user using while loop.\n",
    "num=int(input('Enter any number:'))\n",
    "\n",
    "r=0\n",
    "s=0\n",
    "\n",
    "while (num!=0):\n",
    "    r=num%10\n",
    "    s=s+r\n",
    "    num=num//10\n",
    "    \n",
    "print('Sum of the digits are:',s)"
   ]
  },
  {
   "cell_type": "code",
   "execution_count": 7,
   "id": "d0d4a14c",
   "metadata": {},
   "outputs": [
    {
     "name": "stdout",
     "output_type": "stream",
     "text": [
      "Enter any number:7894561230\n",
      "Seven Eight Nine Four Five Six One Two Three Zero "
     ]
    }
   ],
   "source": [
    "# Write a program to display the number names of the digit of a number entered by the user, for example: if the number \n",
    "# is 231 then output should be Two Three one.\n",
    "\n",
    "num1=input('Enter any number:')\n",
    "\n",
    "l1=list(num1)\n",
    "l=len(l1)\n",
    "i=0\n",
    "n={0:'Zero',1:'One',2:'Two',3:'Three',4:'Four',5:'Five',6:'Six',7:'Seven',8:'Eight',9:'Nine'}\n",
    "\n",
    "while(i<l):\n",
    "    print(n[int(l1[i])],end=' ')\n",
    "    i=i+1"
   ]
  },
  {
   "cell_type": "code",
   "execution_count": 8,
   "id": "2bcb02d6",
   "metadata": {},
   "outputs": [
    {
     "name": "stdout",
     "output_type": "stream",
     "text": [
      "[4, 9, 16, 25, 36, 49, 64]\n"
     ]
    }
   ],
   "source": [
    "# Write a program that appends the square of each numbers to  a list using for loop.\n",
    "\n",
    "\n",
    "# hint\n",
    "# Given number = [2,3,4,5,6,7,8]\n",
    "# Expected output is\n",
    "# Result:[4,9,16,25,36,49,64]\n",
    "l=[2,3,4,5,6,7,8]\n",
    "m=[]\n",
    "\n",
    "for i in l:\n",
    "    sq=i**2\n",
    "    m.append(sq)\n",
    "print(m)"
   ]
  },
  {
   "cell_type": "code",
   "execution_count": 9,
   "id": "c62e9648",
   "metadata": {},
   "outputs": [
    {
     "name": "stdout",
     "output_type": "stream",
     "text": [
      "+ ve list : [23, 4, 21, 100, 200, 123.02, 78.56, 745, 245]\n",
      "- ve list : [-6, -9, -45, -8, -79, -72, -89.55]\n"
     ]
    }
   ],
   "source": [
    "# WAP to separte positive and negative number from a list.\n",
    "\n",
    "# Given x=[23,4,-6,-9,21,-45,-8,100,-79,200,-72,123.02,78.56,-89.55,745,245]\n",
    "\n",
    "l=[23,4,-6,-9,21,-45,-8,100,-79,200,-72,123.02,78.56,-89.55,745,245]\n",
    "m=[]\n",
    "n=[]\n",
    "\n",
    "for i in l:\n",
    "    if i>0:\n",
    "        m.append(i)\n",
    "    else:\n",
    "        n.append(i)\n",
    "print(\"+ ve list :\",m)\n",
    "print(\"- ve list :\",n)"
   ]
  },
  {
   "cell_type": "code",
   "execution_count": 10,
   "id": "0d73af3a",
   "metadata": {},
   "outputs": [
    {
     "name": "stdout",
     "output_type": "stream",
     "text": [
      "Positive numbers: [23, 4, 21, 100, 200, 123.02, 78.56, 745, 245]\n"
     ]
    }
   ],
   "source": [
    "x = [23,4,-6,-9,21,-45,-8,100,-79,200,-72,123.02,78.56,-89.55,745,245]\n",
    "\n",
    "positive_number=[]\n",
    "i=0\n",
    "\n",
    "while i<len(x):\n",
    "    if x[i]>0:\n",
    "        positive_number.append(x[i])\n",
    "    i+=1\n",
    "print('Positive numbers:',positive_number)"
   ]
  },
  {
   "cell_type": "code",
   "execution_count": 11,
   "id": "c0a31253",
   "metadata": {},
   "outputs": [
    {
     "name": "stdout",
     "output_type": "stream",
     "text": [
      "+ ve list : [23, 4, 21, 100, 200, 123.02, 78.56, 745, 245]\n",
      "- ve list : [-6, -9, -45, -8, -79, -72, -89.55]\n"
     ]
    }
   ],
   "source": [
    "l=[23,4,-6,-9,21,-45,-8,100,-79,200,-72,123.02,78.56,-89.55,745,245]\n",
    "m=[]\n",
    "n=[]\n",
    "i=0\n",
    "while i<len(l):\n",
    "    if l[i]>0:\n",
    "        m.append(l[i])\n",
    "    else:\n",
    "        n.append(l[i])\n",
    "    i+=1\n",
    "print(\"+ ve list :\",m)\n",
    "print(\"- ve list :\",n)"
   ]
  },
  {
   "cell_type": "code",
   "execution_count": null,
   "id": "69a221bc",
   "metadata": {},
   "outputs": [],
   "source": []
  }
 ],
 "metadata": {
  "kernelspec": {
   "display_name": "Python 3 (ipykernel)",
   "language": "python",
   "name": "python3"
  },
  "language_info": {
   "codemirror_mode": {
    "name": "ipython",
    "version": 3
   },
   "file_extension": ".py",
   "mimetype": "text/x-python",
   "name": "python",
   "nbconvert_exporter": "python",
   "pygments_lexer": "ipython3",
   "version": "3.9.13"
  }
 },
 "nbformat": 4,
 "nbformat_minor": 5
}
