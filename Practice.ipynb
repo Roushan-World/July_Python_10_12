{
 "cells": [
  {
   "cell_type": "code",
   "execution_count": 2,
   "id": "736d4107",
   "metadata": {},
   "outputs": [
    {
     "name": "stdout",
     "output_type": "stream",
     "text": [
      "enter 1st side of a triangle : 12\n",
      "enter 2nd side of a triangle : 12\n",
      "enter 3rd side of a triangle : 12\n",
      "triangle is equilateral\n"
     ]
    }
   ],
   "source": [
    "# Accept three sides of a triangle and check whether it is an equilateral, isosceles or scalen traingle. using if or else.\n",
    "\n",
    "x=int(input('enter 1st side of a triangle : '))\n",
    "y=int(input('enter 2nd side of a triangle : '))\n",
    "z=int(input('enter 3rd side of a triangle : '))\n",
    "\n",
    "if x==y and y==z:\n",
    "    print(\"triangle is equilateral\")\n",
    "    \n",
    "elif x==y and y!=z or x==z and x!=y or y==z and y!=x:\n",
    "    print(\"triangle is isosceles\")\n",
    "    \n",
    "else:\n",
    "    print(\" traingle is scalen triangle\")"
   ]
  },
  {
   "cell_type": "code",
   "execution_count": 5,
   "id": "a57f9759",
   "metadata": {},
   "outputs": [
    {
     "name": "stdout",
     "output_type": "stream",
     "text": [
      "Account Number: 123456\n",
      "Accunt Holder Name: Albert\n",
      "Account Balance: 3200 $\n"
     ]
    }
   ],
   "source": [
    "# Create a Python class called bankAccount with represents a bank account, having as an attributes: account number, \n",
    "# name and balance.\n",
    "# Create a constructor with parameters: accountNumber, name ,balance\n",
    "# Create a Deposite() method which manages deposite action.\n",
    "# Create an withdrawl() method which manages withdrawls actions.\n",
    "# Create an bankfees() method to apply the bank fees with a percentage of 5% of the balance account.\n",
    "# Create a display() method to display account details.\n",
    "\n",
    "\n",
    "class BankAccount:\n",
    "    def __init__(self,accountNumber,name,balance):\n",
    "        self.accountNumber=accountNumber\n",
    "        self.name=name\n",
    "        self.balance=balance\n",
    "        \n",
    "    def Deposite(self,d):\n",
    "        self.balance=self.balance+d\n",
    "        \n",
    "    def Withdrawal(self,w):\n",
    "        if (self.balance<w):\n",
    "            print('Impossible operations! Insufficient balance!')\n",
    "        else:\n",
    "            self.balance=self.balance-w\n",
    "            \n",
    "    def bankFees(self):\n",
    "        self.balance=(95/100)*self.balance\n",
    "        \n",
    "    def display(self):\n",
    "        print('Account Number:',self.accountNumber)\n",
    "        print('Accunt Holder Name:',self.name)\n",
    "        print('Account Balance:',self.balance,'$')\n",
    "        \n",
    "newAccount=BankAccount(123456,'Albert',2700)\n",
    "#newAccount.Withdrawal(300)\n",
    "newAccount.Deposite(500)\n",
    "newAccount.display()\n",
    "        "
   ]
  },
  {
   "cell_type": "code",
   "execution_count": 3,
   "id": "b37fc5dd",
   "metadata": {},
   "outputs": [
    {
     "name": "stdout",
     "output_type": "stream",
     "text": [
      "Sum of all positive integers: 360\n"
     ]
    }
   ],
   "source": [
    "# Given list of integers, find sum of all positive integers list1=[-1,20,-30,40,-10,-323,200,100,-400]\n",
    "\n",
    "list1=[-1,20,-30,40,-10,-323,200,100,-400]\n",
    "\n",
    "sum1=0\n",
    "\n",
    "for i in list1:\n",
    "    if i>0:\n",
    "        sum1+=i\n",
    "    else:\n",
    "        pass\n",
    "    \n",
    "print('Sum of all positive integers:',sum1)"
   ]
  },
  {
   "cell_type": "code",
   "execution_count": 4,
   "id": "fbec5612",
   "metadata": {},
   "outputs": [
    {
     "name": "stdout",
     "output_type": "stream",
     "text": [
      "enter your sentence : \n",
      "The quick brown fox jump over the lazy dog.\n",
      "Number of letters are :  35\n"
     ]
    }
   ],
   "source": [
    "# Create a program that takes a sentence as input and counts number of letters in the sentence.\n",
    "\n",
    "x=input(\"enter your sentence : \\n\")\n",
    "\n",
    "count=0\n",
    "\n",
    "for i in x:\n",
    "    if i==' ':\n",
    "        pass\n",
    "    else:\n",
    "        count=count+1\n",
    "\n",
    "print(\"Number of letters are : \",count)"
   ]
  },
  {
   "cell_type": "code",
   "execution_count": 5,
   "id": "2be14dee",
   "metadata": {},
   "outputs": [
    {
     "name": "stdout",
     "output_type": "stream",
     "text": [
      "Enter a sentenceThe Quick Brown fox jump over the lazy dog\n",
      "Number of words in the sentence: 34\n"
     ]
    }
   ],
   "source": [
    "sentence=input('Enter a sentence')\n",
    "\n",
    "words=0\n",
    "\n",
    "for i in sentence:\n",
    "    if i.isalpha()==True:\n",
    "        words+=1\n",
    "    else:\n",
    "        pass\n",
    "print('Number of words in the sentence:',words)"
   ]
  },
  {
   "cell_type": "code",
   "execution_count": 7,
   "id": "56f44586",
   "metadata": {},
   "outputs": [
    {
     "name": "stdout",
     "output_type": "stream",
     "text": [
      "Enter any number:7895522252121\n",
      "51\n"
     ]
    }
   ],
   "source": [
    "# Calculate the sum of digits of a users given number.\n",
    "\n",
    "digit=int(input('Enter any number:'))\n",
    "\n",
    "sums=0\n",
    "\n",
    "for i in str(digit):\n",
    "    sums+=int(i)\n",
    "    \n",
    "print(sums)"
   ]
  },
  {
   "cell_type": "code",
   "execution_count": null,
   "id": "337ce744",
   "metadata": {},
   "outputs": [],
   "source": []
  }
 ],
 "metadata": {
  "kernelspec": {
   "display_name": "Python 3 (ipykernel)",
   "language": "python",
   "name": "python3"
  },
  "language_info": {
   "codemirror_mode": {
    "name": "ipython",
    "version": 3
   },
   "file_extension": ".py",
   "mimetype": "text/x-python",
   "name": "python",
   "nbconvert_exporter": "python",
   "pygments_lexer": "ipython3",
   "version": "3.9.13"
  }
 },
 "nbformat": 4,
 "nbformat_minor": 5
}
