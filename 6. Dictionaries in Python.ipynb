{
 "cells": [
  {
   "cell_type": "markdown",
   "id": "be71b8a2",
   "metadata": {},
   "source": [
    "# 6. Dictionaries in Pyton\n",
    "\n",
    " * __Dictionaries are used to store data values in Key:Values pair.__\n",
    " * __A dictionary is a collection which is ordered, changeable or mutable and do not allow duplicates.__\n",
    " * __Dictionary items are ordered, changeable, and does not allow duplicates.__\n",
    " * __Dictionary items are presented in key:value pairs, and can be referred to by using the key name.__\n",
    " * __Dictionaries are changeable, meaning that we can change, add or remove items after the dictionary has been created.__\n",
    " * __Dictionaries cannot have two items with the same key.__\n",
    " * __A dictionary can be nested and can contain another dictionary.__\n",
    " \n",
    " \n",
    "     * __Keys----------------Values__\n",
    "     * __'name'__:-----------> __'Bob'__\n",
    "     * __'age'__:------------> __25__\n",
    "     * __'Job'__:------------> __'Software Developer'__\n",
    "     * __'city'__:-----------> __'New York'__\n",
    "     * __'email'__:----------> __'bob@web.com'__"
   ]
  },
  {
   "cell_type": "code",
   "execution_count": 9,
   "id": "dfc8ad73",
   "metadata": {},
   "outputs": [
    {
     "data": {
      "text/plain": [
       "{'key_1': 3.14,\n",
       " 'key_2': 1.618,\n",
       " 'key_3': True,\n",
       " 'key_4': [3.14, 1.618],\n",
       " 'key_5': (3.14, 1.618),\n",
       " 'key_6': 2023,\n",
       " 2024: 'New Year'}"
      ]
     },
     "execution_count": 9,
     "metadata": {},
     "output_type": "execute_result"
    }
   ],
   "source": [
    "# Take a sample dictionary\n",
    "\n",
    "sample_dict={'key_1':3.14,'key_2':1.618,\n",
    "            'key_3':True,'key_4':[3.14,1.618],\n",
    "            'key_5':(3.14,1.618),'key_6':2023,2024:'New Year'}\n",
    "sample_dict"
   ]
  },
  {
   "cell_type": "markdown",
   "id": "4ae01766",
   "metadata": {},
   "source": [
    "__Note__: As you see that the whole dictionary is enclosed with curly braces, each key is separated from its value by a column \":\" , and commas are used to separate the items in the dictionary."
   ]
  },
  {
   "cell_type": "code",
   "execution_count": 11,
   "id": "a9cea957",
   "metadata": {},
   "outputs": [
    {
     "name": "stdout",
     "output_type": "stream",
     "text": [
      "3.14\n",
      "1.618\n",
      "True\n",
      "[3.14, 1.618]\n",
      "(3.14, 1.618)\n",
      "2023\n",
      "New Year\n"
     ]
    }
   ],
   "source": [
    "# Accessing to the value using the key.\n",
    "\n",
    "print(sample_dict['key_1'])\n",
    "print(sample_dict['key_2'])\n",
    "print(sample_dict['key_3'])\n",
    "print(sample_dict['key_4'])\n",
    "print(sample_dict['key_5'])\n",
    "print(sample_dict['key_6'])\n",
    "print(sample_dict[2024])"
   ]
  },
  {
   "cell_type": "markdown",
   "id": "9e1c078f",
   "metadata": {},
   "source": [
    "# keys() function to get the keys in the dictionary."
   ]
  },
  {
   "cell_type": "code",
   "execution_count": 15,
   "id": "580e63e0",
   "metadata": {},
   "outputs": [
    {
     "data": {
      "text/plain": [
       "dict_keys(['key_1', 'key_2', 'key_3', 'key_4', 'key_5', 'key_6', 2024])"
      ]
     },
     "execution_count": 15,
     "metadata": {},
     "output_type": "execute_result"
    }
   ],
   "source": [
    "# What are the keys in the dictionary?\n",
    "sample_dict.keys()"
   ]
  },
  {
   "cell_type": "markdown",
   "id": "9e5e64ff",
   "metadata": {},
   "source": [
    "# values() function to get the values in the dictionary."
   ]
  },
  {
   "cell_type": "code",
   "execution_count": 17,
   "id": "d15ebf3a",
   "metadata": {},
   "outputs": [
    {
     "data": {
      "text/plain": [
       "dict_values([3.14, 1.618, True, [3.14, 1.618], (3.14, 1.618), 2023, 'New Year'])"
      ]
     },
     "execution_count": 17,
     "metadata": {},
     "output_type": "execute_result"
    }
   ],
   "source": [
    "# What are the values in the dictionary?\n",
    "\n",
    "sample_dict.values()"
   ]
  },
  {
   "cell_type": "code",
   "execution_count": 18,
   "id": "d3078d69",
   "metadata": {},
   "outputs": [
    {
     "data": {
      "text/plain": [
       "{'Name': 'BhagyaShri',\n",
       " 'age': 33,\n",
       " 'City': 'Pune',\n",
       " 'email': 'bhagyashri@123gamil.com',\n",
       " 'Address': 'Vishrantwadi'}"
      ]
     },
     "execution_count": 18,
     "metadata": {},
     "output_type": "execute_result"
    }
   ],
   "source": [
    "details={'Name':'BhagyaShri','age':33,\n",
    "        'City':'Pune','email':'bhagyashri@123gamil.com',\n",
    "        'Address':'Vishrantwadi'}\n",
    "details\n"
   ]
  },
  {
   "cell_type": "code",
   "execution_count": 26,
   "id": "6f3dfda6",
   "metadata": {},
   "outputs": [
    {
     "name": "stdout",
     "output_type": "stream",
     "text": [
      "BhagyaShri\n",
      "33\n",
      "Pune\n",
      "bhagyashri@123gamil.com\n",
      "Vishrantwadi\n"
     ]
    }
   ],
   "source": [
    "print(details['Name'])\n",
    "print(details['age'])\n",
    "print(details['City'])\n",
    "print(details['email'])\n",
    "print(details['Address'])"
   ]
  },
  {
   "cell_type": "markdown",
   "id": "1edcf3ac",
   "metadata": {},
   "source": [
    "# Addition of a new key:value pair in the dicitonary"
   ]
  },
  {
   "cell_type": "code",
   "execution_count": 27,
   "id": "a4a57f97",
   "metadata": {},
   "outputs": [
    {
     "data": {
      "text/plain": [
       "{'Name': 'BhagyaShri',\n",
       " 'age': 33,\n",
       " 'City': 'Pune',\n",
       " 'email': 'bhagyashri@123gamil.com',\n",
       " 'Address': 'Vishrantwadi',\n",
       " 'Phone_No.': '1234567890'}"
      ]
     },
     "execution_count": 27,
     "metadata": {},
     "output_type": "execute_result"
    }
   ],
   "source": [
    "details['Phone_No.']='1234567890'\n",
    "details"
   ]
  },
  {
   "cell_type": "markdown",
   "id": "05ad222d",
   "metadata": {},
   "source": [
    "# Delete an item using del() function in the dictionary by key"
   ]
  },
  {
   "cell_type": "code",
   "execution_count": 28,
   "id": "8ffba0f7",
   "metadata": {},
   "outputs": [
    {
     "data": {
      "text/plain": [
       "{'Name': 'BhagyaShri',\n",
       " 'age': 33,\n",
       " 'City': 'Pune',\n",
       " 'email': 'bhagyashri@123gamil.com',\n",
       " 'Phone_No.': '1234567890'}"
      ]
     },
     "execution_count": 28,
     "metadata": {},
     "output_type": "execute_result"
    }
   ],
   "source": [
    "del(details['Address'])\n",
    "details"
   ]
  },
  {
   "cell_type": "code",
   "execution_count": 29,
   "id": "2045e2af",
   "metadata": {},
   "outputs": [],
   "source": [
    "# To delete the whole dicitonary.\n",
    "del(details)"
   ]
  },
  {
   "cell_type": "code",
   "execution_count": 30,
   "id": "33f11750",
   "metadata": {},
   "outputs": [
    {
     "ename": "NameError",
     "evalue": "name 'details' is not defined",
     "output_type": "error",
     "traceback": [
      "\u001b[1;31m---------------------------------------------------------------------------\u001b[0m",
      "\u001b[1;31mNameError\u001b[0m                                 Traceback (most recent call last)",
      "\u001b[1;32m~\\AppData\\Local\\Temp\\ipykernel_4968\\3465430740.py\u001b[0m in \u001b[0;36m<module>\u001b[1;34m\u001b[0m\n\u001b[1;32m----> 1\u001b[1;33m \u001b[0mdetails\u001b[0m\u001b[1;33m\u001b[0m\u001b[1;33m\u001b[0m\u001b[0m\n\u001b[0m",
      "\u001b[1;31mNameError\u001b[0m: name 'details' is not defined"
     ]
    }
   ],
   "source": [
    "details"
   ]
  },
  {
   "cell_type": "code",
   "execution_count": 31,
   "id": "7e65e8c2",
   "metadata": {},
   "outputs": [
    {
     "data": {
      "text/plain": [
       "{'Name': 'BhagyaShri',\n",
       " 'age': 33,\n",
       " 'City': 'Pune',\n",
       " 'email': 'bhagyashri@123gamil.com',\n",
       " 'Address': 'Vishrantwadi'}"
      ]
     },
     "execution_count": 31,
     "metadata": {},
     "output_type": "execute_result"
    }
   ],
   "source": [
    "details={'Name':'BhagyaShri','age':33,\n",
    "        'City':'Pune','email':'bhagyashri@123gamil.com',\n",
    "        'Address':'Vishrantwadi'}\n",
    "details"
   ]
  },
  {
   "cell_type": "markdown",
   "id": "4d13aeb6",
   "metadata": {},
   "source": [
    "# Verification using in or not in"
   ]
  },
  {
   "cell_type": "code",
   "execution_count": 35,
   "id": "563b43b1",
   "metadata": {},
   "outputs": [
    {
     "name": "stdout",
     "output_type": "stream",
     "text": [
      "True\n",
      "False\n",
      "False\n"
     ]
    }
   ],
   "source": [
    "print('Name' in details)\n",
    "print('Phone_No.' in details)\n",
    "print('age' not in details)"
   ]
  },
  {
   "cell_type": "markdown",
   "id": "ae7b7419",
   "metadata": {},
   "source": [
    "# dict() function\n",
    "\n",
    " * __This function is used to create a dictionary.__"
   ]
  },
  {
   "cell_type": "code",
   "execution_count": 36,
   "id": "1251efb0",
   "metadata": {},
   "outputs": [
    {
     "data": {
      "text/plain": [
       "{'family': 'Music', 'type': 'Pop', 'year': '2023', 'name': 'Happy New Year'}"
      ]
     },
     "execution_count": 36,
     "metadata": {},
     "output_type": "execute_result"
    }
   ],
   "source": [
    "dict_sample=dict(family='Music',type='Pop',year='2023',name='Happy New Year')\n",
    "dict_sample"
   ]
  },
  {
   "cell_type": "code",
   "execution_count": 37,
   "id": "4f78d03a",
   "metadata": {},
   "outputs": [
    {
     "data": {
      "text/plain": [
       "dict_keys(['family', 'type', 'year', 'name'])"
      ]
     },
     "execution_count": 37,
     "metadata": {},
     "output_type": "execute_result"
    }
   ],
   "source": [
    "dict_sample.keys()"
   ]
  },
  {
   "cell_type": "code",
   "execution_count": 39,
   "id": "4bb09b61",
   "metadata": {},
   "outputs": [
    {
     "data": {
      "text/plain": [
       "dict_values(['Music', 'Pop', '2023', 'Happy New Year'])"
      ]
     },
     "execution_count": 39,
     "metadata": {},
     "output_type": "execute_result"
    }
   ],
   "source": [
    "dict_sample.values()"
   ]
  },
  {
   "cell_type": "markdown",
   "id": "9d705140",
   "metadata": {},
   "source": [
    "# copy() function\n",
    "\n",
    " * __It returns a shallow copy of the main dictionary.__"
   ]
  },
  {
   "cell_type": "code",
   "execution_count": 40,
   "id": "13ad88e3",
   "metadata": {},
   "outputs": [
    {
     "data": {
      "text/plain": [
       "{'family': 'Music', 'type': 'Pop', 'year': '2023', 'name': 'Happy New Year'}"
      ]
     },
     "execution_count": 40,
     "metadata": {},
     "output_type": "execute_result"
    }
   ],
   "source": [
    "dict_sample"
   ]
  },
  {
   "cell_type": "code",
   "execution_count": 44,
   "id": "f1adf6c3",
   "metadata": {},
   "outputs": [
    {
     "name": "stdout",
     "output_type": "stream",
     "text": [
      "{'family': 'Music', 'type': 'Pop', 'year': '2023', 'name': 'Happy New Year'}\n",
      "{'family': 'Music', 'type': 'Pop', 'year': '2023', 'name': 'Happy New Year'}\n",
      "{'family': 'Music', 'type': 'Pop', 'year': '2023', 'name': 'Happy New Year', 'Key_1': 'Bhagyashri'}\n",
      "{'family': 'Music', 'type': 'Pop', 'year': '2023', 'name': 'Happy New Year'}\n"
     ]
    }
   ],
   "source": [
    "dict_original=dict(family='Music',type='Pop',year='2023',name='Happy New Year')\n",
    "dict_duplicate=dict_original.copy()\n",
    "print(dict_original)\n",
    "print(dict_duplicate)\n",
    "\n",
    "\n",
    "dict_original['Key_1']='Bhagyashri'\n",
    "print(dict_original)\n",
    "print(dict_duplicate)"
   ]
  },
  {
   "cell_type": "code",
   "execution_count": 47,
   "id": "79b1ec5f",
   "metadata": {},
   "outputs": [
    {
     "name": "stdout",
     "output_type": "stream",
     "text": [
      "{'family': 'Music', 'type': 'Pop', 'year': '2023', 'name': 'Happy New Year', 'Key_1': 'Bhagyashri'}\n",
      "{'family': 'Music', 'type': 'Pop', 'year': '2023', 'name': 'Happy New Year', 'Key_1': 'Bhagyashri'}\n",
      "{'family': 'Music', 'type': 'Pop', 'year': '2023', 'name': 'Happy New Year', 'Key_1': 'Bhagyashri', 'key_2': 'Python'}\n",
      "{'family': 'Music', 'type': 'Pop', 'year': '2023', 'name': 'Happy New Year', 'Key_1': 'Bhagyashri', 'key_2': 'Python'}\n"
     ]
    }
   ],
   "source": [
    "# This method can be made usgin '=' sing(deep copy)\n",
    "sample_copy=dict_original\n",
    "print(sample_copy)\n",
    "print(dict_original)\n",
    "\n",
    "\n",
    "dict_original['key_2']='Python'\n",
    "print(dict_original)\n",
    "print(sample_copy)"
   ]
  },
  {
   "cell_type": "code",
   "execution_count": null,
   "id": "11db75a9",
   "metadata": {},
   "outputs": [],
   "source": []
  }
 ],
 "metadata": {
  "kernelspec": {
   "display_name": "Python 3 (ipykernel)",
   "language": "python",
   "name": "python3"
  },
  "language_info": {
   "codemirror_mode": {
    "name": "ipython",
    "version": 3
   },
   "file_extension": ".py",
   "mimetype": "text/x-python",
   "name": "python",
   "nbconvert_exporter": "python",
   "pygments_lexer": "ipython3",
   "version": "3.9.13"
  }
 },
 "nbformat": 4,
 "nbformat_minor": 5
}
