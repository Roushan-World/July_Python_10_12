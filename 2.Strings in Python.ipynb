{
 "cells": [
  {
   "cell_type": "markdown",
   "id": "3a175d94",
   "metadata": {},
   "source": [
    "# 2. Strings"
   ]
  },
  {
   "cell_type": "code",
   "execution_count": 1,
   "id": "fa893739",
   "metadata": {},
   "outputs": [
    {
     "data": {
      "text/plain": [
       "'Hello World'"
      ]
     },
     "execution_count": 1,
     "metadata": {},
     "output_type": "execute_result"
    }
   ],
   "source": [
    "# Employ double quotation marks for describing a strings.\n",
    "\n",
    "\n",
    "\"Hello World\""
   ]
  },
  {
   "cell_type": "code",
   "execution_count": 2,
   "id": "fa628255",
   "metadata": {},
   "outputs": [
    {
     "data": {
      "text/plain": [
       "'Hello World'"
      ]
     },
     "execution_count": 2,
     "metadata": {},
     "output_type": "execute_result"
    }
   ],
   "source": [
    "'Hello World'"
   ]
  },
  {
   "cell_type": "code",
   "execution_count": 3,
   "id": "65874ba2",
   "metadata": {},
   "outputs": [
    {
     "data": {
      "text/plain": [
       "'3 6 5 4 7 8 9'"
      ]
     },
     "execution_count": 3,
     "metadata": {},
     "output_type": "execute_result"
    }
   ],
   "source": [
    "'3 6 5 4 7 8 9'"
   ]
  },
  {
   "cell_type": "code",
   "execution_count": 4,
   "id": "cb5249d3",
   "metadata": {},
   "outputs": [
    {
     "data": {
      "text/plain": [
       "'@ ! # % '"
      ]
     },
     "execution_count": 4,
     "metadata": {},
     "output_type": "execute_result"
    }
   ],
   "source": [
    "'@ ! # % '"
   ]
  },
  {
   "cell_type": "code",
   "execution_count": 5,
   "id": "85703d41",
   "metadata": {},
   "outputs": [
    {
     "name": "stdout",
     "output_type": "stream",
     "text": [
      "Hello World\n"
     ]
    }
   ],
   "source": [
    "message='Hello World'\n",
    "print(message)"
   ]
  },
  {
   "cell_type": "code",
   "execution_count": 6,
   "id": "035d195d",
   "metadata": {},
   "outputs": [
    {
     "data": {
      "text/plain": [
       "'Hello World'"
      ]
     },
     "execution_count": 6,
     "metadata": {},
     "output_type": "execute_result"
    }
   ],
   "source": [
    "message"
   ]
  },
  {
   "cell_type": "markdown",
   "id": "547743ab",
   "metadata": {},
   "source": [
    "# Indexing of a string"
   ]
  },
  {
   "cell_type": "code",
   "execution_count": 19,
   "id": "b9ff44e6",
   "metadata": {},
   "outputs": [
    {
     "name": "stdout",
     "output_type": "stream",
     "text": [
      "Hello World\n",
      "H\n",
      "e\n",
      "l\n",
      "l\n",
      "o\n",
      " \n",
      "W\n",
      "o\n",
      "r\n",
      "l\n",
      "d\n"
     ]
    }
   ],
   "source": [
    "print(message)\n",
    "print(message[0])\n",
    "print(message[1])\n",
    "print(message[2])\n",
    "print(message[3])\n",
    "print(message[4])\n",
    "print(message[5])\n",
    "print(message[6])\n",
    "print(message[7])\n",
    "print(message[8])\n",
    "print(message[9])\n",
    "print(message[10])\n",
    "\n"
   ]
  },
  {
   "cell_type": "code",
   "execution_count": 20,
   "id": "0a1bdfcb",
   "metadata": {},
   "outputs": [
    {
     "data": {
      "text/plain": [
       "11"
      ]
     },
     "execution_count": 20,
     "metadata": {},
     "output_type": "execute_result"
    }
   ],
   "source": [
    "# length of a string including spaces.\n",
    "len(message)"
   ]
  },
  {
   "cell_type": "code",
   "execution_count": 24,
   "id": "1da84b89",
   "metadata": {},
   "outputs": [
    {
     "name": "stdout",
     "output_type": "stream",
     "text": [
      "d\n",
      "l\n",
      "r\n",
      "o\n",
      "W\n",
      " \n",
      "o\n",
      "l\n",
      "l\n",
      "e\n",
      "H\n"
     ]
    }
   ],
   "source": [
    "# Printing the last elemenet of a string.\n",
    "\n",
    "print(message[-1])\n",
    "print(message[-2])\n",
    "print(message[-3])\n",
    "print(message[-4])\n",
    "print(message[-5])\n",
    "print(message[-6])\n",
    "print(message[-7])\n",
    "print(message[-8])\n",
    "print(message[-9])\n",
    "print(message[-10])\n",
    "print(message[-11])"
   ]
  },
  {
   "cell_type": "markdown",
   "id": "2b86dee9",
   "metadata": {},
   "source": [
    "# Slicing of a string"
   ]
  },
  {
   "cell_type": "code",
   "execution_count": 30,
   "id": "d4581674",
   "metadata": {},
   "outputs": [
    {
     "name": "stdout",
     "output_type": "stream",
     "text": [
      "Hello World\n",
      "Hello\n",
      "World\n"
     ]
    }
   ],
   "source": [
    "print(message)\n",
    "print(message[0:5])\n",
    "print(message[6:11])"
   ]
  },
  {
   "cell_type": "code",
   "execution_count": 33,
   "id": "ee2e1105",
   "metadata": {},
   "outputs": [
    {
     "name": "stdout",
     "output_type": "stream",
     "text": [
      "123456789\n",
      "12345\n"
     ]
    }
   ],
   "source": [
    "num1='123456789'\n",
    "print(num1)\n",
    "print(num1[0:5])"
   ]
  },
  {
   "cell_type": "markdown",
   "id": "4cf5f462",
   "metadata": {},
   "source": [
    "# Step value"
   ]
  },
  {
   "cell_type": "code",
   "execution_count": 42,
   "id": "824474b2",
   "metadata": {},
   "outputs": [
    {
     "name": "stdout",
     "output_type": "stream",
     "text": [
      "123456789\n",
      "13579\n"
     ]
    }
   ],
   "source": [
    "print(num1)\n",
    "print(num1[0:10:2])"
   ]
  },
  {
   "cell_type": "code",
   "execution_count": 71,
   "id": "64576c10",
   "metadata": {},
   "outputs": [
    {
     "name": "stdout",
     "output_type": "stream",
     "text": [
      "CHANDANNAGAR\n",
      "CADNAA\n"
     ]
    }
   ],
   "source": [
    "x='CHANDANNAGAR'\n",
    "print(x)\n",
    "print(x[0:11:2])"
   ]
  },
  {
   "cell_type": "code",
   "execution_count": 51,
   "id": "3d2cd806",
   "metadata": {},
   "outputs": [
    {
     "name": "stdout",
     "output_type": "stream",
     "text": [
      "Pto stepormiglnug\n"
     ]
    }
   ],
   "source": [
    "y='Python is the programming language'\n",
    "print(y[::2])  #print with slicing ."
   ]
  },
  {
   "cell_type": "markdown",
   "id": "a94e8439",
   "metadata": {},
   "source": [
    "# Concatenation"
   ]
  },
  {
   "cell_type": "code",
   "execution_count": 54,
   "id": "3972c340",
   "metadata": {},
   "outputs": [
    {
     "name": "stdout",
     "output_type": "stream",
     "text": [
      "Hello World! How many people are living on the earth?\n"
     ]
    }
   ],
   "source": [
    "message1='Hello World!'\n",
    "question=' How many people are living on the earth?'\n",
    "\n",
    "z=message1+question\n",
    "print(z)"
   ]
  },
  {
   "cell_type": "code",
   "execution_count": 55,
   "id": "c21e1e74",
   "metadata": {},
   "outputs": [
    {
     "name": "stdout",
     "output_type": "stream",
     "text": [
      "Hello World!\n",
      " How many people are living on the earth?\n"
     ]
    }
   ],
   "source": [
    "print(message1)\n",
    "print(question)"
   ]
  },
  {
   "cell_type": "markdown",
   "id": "287bbb05",
   "metadata": {},
   "source": [
    "# Escape sequences"
   ]
  },
  {
   "cell_type": "code",
   "execution_count": 59,
   "id": "2137f77c",
   "metadata": {},
   "outputs": [
    {
     "name": "stdout",
     "output_type": "stream",
     "text": [
      "Hello World!\n",
      "How many people are living on the earth?\n"
     ]
    }
   ],
   "source": [
    "print(\"Hello World!\\nHow many people are living on the earth?\") #\\n--> new line"
   ]
  },
  {
   "cell_type": "code",
   "execution_count": 65,
   "id": "a38884fb",
   "metadata": {},
   "outputs": [
    {
     "name": "stdout",
     "output_type": "stream",
     "text": [
      "\\\\\\\n"
     ]
    }
   ],
   "source": [
    "print('\\\\\\\\\\\\')"
   ]
  },
  {
   "cell_type": "code",
   "execution_count": 70,
   "id": "7b74f0d1",
   "metadata": {},
   "outputs": [
    {
     "name": "stdout",
     "output_type": "stream",
     "text": [
      "Hello World!\tHow many people are living on the earth?\n"
     ]
    }
   ],
   "source": [
    "print(\"Hello World!\\tHow many people are living on the earth?\")  #\\t----> tab"
   ]
  },
  {
   "cell_type": "markdown",
   "id": "14949447",
   "metadata": {},
   "source": [
    "# String operations"
   ]
  },
  {
   "cell_type": "code",
   "execution_count": 77,
   "id": "cb146e23",
   "metadata": {},
   "outputs": [
    {
     "name": "stdout",
     "output_type": "stream",
     "text": [
      "Before uppercase: hello python!\n",
      "After uppercase: HELLO PYTHON!\n",
      "After Capitalize: Hello python!\n",
      "2\n",
      "4\n"
     ]
    }
   ],
   "source": [
    "message='hello python!'\n",
    "print('Before uppercase:',message)\n",
    "\n",
    "# convert uppercase the elements in a string.\n",
    "msg_upper=message.upper()\n",
    "print('After uppercase:',msg_upper)\n",
    "\n",
    "#capitalize\n",
    "msg_capitalize=message.capitalize()\n",
    "print('After Capitalize:',msg_capitalize)\n",
    "\n",
    "# count\n",
    "print(message.count('l'))\n",
    "\n",
    "# Index\n",
    "print(message.index('o'))"
   ]
  },
  {
   "cell_type": "code",
   "execution_count": 83,
   "id": "0cddf59d",
   "metadata": {},
   "outputs": [
    {
     "name": "stdout",
     "output_type": "stream",
     "text": [
      "27/07/2023\n",
      "27-07-2023\n"
     ]
    }
   ],
   "source": [
    "#replace\n",
    "x='27/07/2023'  #\"-\"\n",
    "print(x)\n",
    "print(x.replace('/','-'))\n"
   ]
  },
  {
   "cell_type": "code",
   "execution_count": 85,
   "id": "e22a8bed",
   "metadata": {},
   "outputs": [
    {
     "name": "stdout",
     "output_type": "stream",
     "text": [
      "True\n",
      "False\n"
     ]
    }
   ],
   "source": [
    "y='abc123'  # alphanumeric\n",
    "print(y.isalnum())\n",
    "print(y.isnumeric())"
   ]
  },
  {
   "cell_type": "code",
   "execution_count": 86,
   "id": "5173982b",
   "metadata": {},
   "outputs": [
    {
     "name": "stdout",
     "output_type": "stream",
     "text": [
      "True\n"
     ]
    }
   ],
   "source": [
    "y1='123'\n",
    "print(y1.isnumeric())"
   ]
  },
  {
   "cell_type": "code",
   "execution_count": 88,
   "id": "23aa36fa",
   "metadata": {},
   "outputs": [
    {
     "name": "stdout",
     "output_type": "stream",
     "text": [
      "True\n",
      "False\n"
     ]
    }
   ],
   "source": [
    "y1='hello world'\n",
    "print(y1.islower())\n",
    "print(y1.isupper())"
   ]
  },
  {
   "cell_type": "code",
   "execution_count": 94,
   "id": "eca6cb39",
   "metadata": {},
   "outputs": [
    {
     "name": "stdout",
     "output_type": "stream",
     "text": [
      "Hello World!\n",
      "Hi,My self BhagyaShri and I am 33 years old.\n",
      "Hi,My self Divya and I am 30 years old.\n"
     ]
    }
   ],
   "source": [
    "# format() method\n",
    "\n",
    "'''\n",
    "The format() method the specified value(s) and insert them inside the string's placeholder. The placeholder \n",
    "is defined using curly brackets:{}.\n",
    "'''\n",
    "\"\"\"    # multiple line comment.\n",
    "\"\"\"\n",
    "\n",
    "text='Hello {word}'\n",
    "print(text.format(word='World!'))\n",
    "\n",
    "message1='Hi,My self {} and I am {} years old.'\n",
    "print(message1.format('BhagyaShri',33))\n",
    "print(message1.format('Divya',30))"
   ]
  },
  {
   "cell_type": "code",
   "execution_count": null,
   "id": "ec84689a",
   "metadata": {},
   "outputs": [],
   "source": [
    "'Hello world'\n",
    "\"Hello world\"   #qoutes"
   ]
  }
 ],
 "metadata": {
  "kernelspec": {
   "display_name": "Python 3 (ipykernel)",
   "language": "python",
   "name": "python3"
  },
  "language_info": {
   "codemirror_mode": {
    "name": "ipython",
    "version": 3
   },
   "file_extension": ".py",
   "mimetype": "text/x-python",
   "name": "python",
   "nbconvert_exporter": "python",
   "pygments_lexer": "ipython3",
   "version": "3.9.13"
  }
 },
 "nbformat": 4,
 "nbformat_minor": 5
}
