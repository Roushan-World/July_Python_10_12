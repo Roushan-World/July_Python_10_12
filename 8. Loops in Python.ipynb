{
 "cells": [
  {
   "cell_type": "markdown",
   "id": "42101208",
   "metadata": {},
   "source": [
    "# 8. Loops in Python\n",
    "\n",
    "\n",
    " * __A for loop is used for iteration over a sequence (that is either a list, a tuple, a dictionary, a set, or a string).__\n",
    " * __This is less like the for keyword in other programming languages, and works more like an iterator method as found in other object-oriented programming languages.__\n",
    " * __With the for loop we can execute a set of statements, once for each item in list, tuple, set etc.__\n",
    " * __The for loops does not require an indexing variable to set beforehand.__\n",
    " * __With the while loop we can execute a set of statements as long as a condition is true.__\n",
    " * __Note: remember to increment i, or else the loop will continue forever.__\n",
    " * __The while loop requires relevant variables to be ready, in this example we need to define an indexing variable, i, which we set to 1/=.\n",
    " \n",
    "# range() function\n",
    "\n",
    " * __It is helpful to think of the range object as an ordered list.__\n",
    " * __To loop through a set of code a specified number of times, we can use the range() function.__\n",
    " * __The range() function returns a sequence of numbers, starting from 0 by default, and increments by 1 (by default), and ends at a specified number.__"
   ]
  },
  {
   "cell_type": "code",
   "execution_count": 1,
   "id": "248e37fd",
   "metadata": {},
   "outputs": [
    {
     "name": "stdout",
     "output_type": "stream",
     "text": [
      "range(0, 5)\n"
     ]
    }
   ],
   "source": [
    "print(range(5))"
   ]
  },
  {
   "cell_type": "code",
   "execution_count": 2,
   "id": "14040632",
   "metadata": {},
   "outputs": [
    {
     "name": "stdout",
     "output_type": "stream",
     "text": [
      "range(0, 10)\n"
     ]
    }
   ],
   "source": [
    "print(range(10))"
   ]
  },
  {
   "cell_type": "markdown",
   "id": "1d3e19fe",
   "metadata": {},
   "source": [
    "# for loop\n",
    "\n",
    " * __The for loop enables you to execute a code block multiple times.__"
   ]
  },
  {
   "cell_type": "code",
   "execution_count": 3,
   "id": "e80b0cd0",
   "metadata": {},
   "outputs": [
    {
     "name": "stdout",
     "output_type": "stream",
     "text": [
      "2005\n",
      "2006\n",
      "2007\n",
      "2008\n",
      "2009\n",
      "2010\n"
     ]
    }
   ],
   "source": [
    "years=[2005,2006,2007,2008,2009,2010]\n",
    "\n",
    "for i in years:\n",
    "    print(i)"
   ]
  },
  {
   "cell_type": "code",
   "execution_count": 4,
   "id": "6f7a8234",
   "metadata": {},
   "outputs": [
    {
     "name": "stdout",
     "output_type": "stream",
     "text": [
      "2005\n",
      "2006\n",
      "2007\n",
      "2008\n",
      "2009\n",
      "2010\n"
     ]
    }
   ],
   "source": [
    "for x in years:\n",
    "    print(x)"
   ]
  },
  {
   "cell_type": "code",
   "execution_count": 19,
   "id": "0f956788",
   "metadata": {},
   "outputs": [
    {
     "name": "stdout",
     "output_type": "stream",
     "text": [
      "0 2005\n",
      "1 2006\n",
      "2 2007\n",
      "3 2008\n",
      "4 2009\n",
      "5 2010\n"
     ]
    }
   ],
   "source": [
    "for i in range(len(years)):\n",
    "    print(i,years[i])"
   ]
  },
  {
   "cell_type": "code",
   "execution_count": 8,
   "id": "79e6a59b",
   "metadata": {},
   "outputs": [
    {
     "name": "stdout",
     "output_type": "stream",
     "text": [
      "1\n",
      "2\n",
      "3\n",
      "4\n",
      "5\n",
      "6\n",
      "7\n",
      "8\n",
      "9\n"
     ]
    }
   ],
   "source": [
    "# Another for loop example\n",
    "\n",
    "for i in range(1,10):\n",
    "    print(i)"
   ]
  },
  {
   "cell_type": "code",
   "execution_count": 12,
   "id": "700a8f60",
   "metadata": {},
   "outputs": [
    {
     "name": "stdout",
     "output_type": "stream",
     "text": [
      "30\n",
      "33\n",
      "36\n",
      "39\n",
      "42\n",
      "45\n",
      "48\n"
     ]
    }
   ],
   "source": [
    "for i in range(30,50,3):\n",
    "    print(i)"
   ]
  },
  {
   "cell_type": "code",
   "execution_count": 18,
   "id": "5c94d984",
   "metadata": {},
   "outputs": [
    {
     "name": "stdout",
     "output_type": "stream",
     "text": [
      "language is: 0 Java\n",
      "language is: 1 JavaScript\n",
      "language is: 2 C\n",
      "language is: 3 C++\n",
      "language is: 4 PHP\n"
     ]
    }
   ],
   "source": [
    "languages=['Java','JavaScript','C','C++','PHP']\n",
    "\n",
    "for i in range(len(languages)):\n",
    "    print('language is:',i,languages[i])"
   ]
  },
  {
   "cell_type": "code",
   "execution_count": 20,
   "id": "e93e2650",
   "metadata": {},
   "outputs": [
    {
     "name": "stdout",
     "output_type": "stream",
     "text": [
      "0 Java\n",
      "1 JavaScript\n",
      "2 C\n",
      "3 C++\n",
      "4 PHP\n"
     ]
    }
   ],
   "source": [
    "# another method\n",
    "\n",
    "for index, i in enumerate(languages):\n",
    "    print(index,i)"
   ]
  },
  {
   "cell_type": "code",
   "execution_count": 21,
   "id": "16455501",
   "metadata": {},
   "outputs": [
    {
     "name": "stdout",
     "output_type": "stream",
     "text": [
      "-3\n",
      "-2\n",
      "-1\n",
      "0\n",
      "1\n",
      "2\n",
      "3\n",
      "4\n",
      "5\n",
      "6\n"
     ]
    }
   ],
   "source": [
    "# To take numbers between -3 and 6 using for loop\n",
    "# use range() function\n",
    "\n",
    "for i in range(-3,7):\n",
    "    print(i)"
   ]
  },
  {
   "cell_type": "code",
   "execution_count": 24,
   "id": "8d397b95",
   "metadata": {},
   "outputs": [
    {
     "name": "stdout",
     "output_type": "stream",
     "text": [
      "Enter any number\n",
      "35\n",
      "35X1=35\n",
      "35X2=70\n",
      "35X3=105\n",
      "35X4=140\n",
      "35X5=175\n",
      "35X6=210\n",
      "35X7=245\n",
      "35X8=280\n",
      "35X9=315\n",
      "35X10=350\n"
     ]
    }
   ],
   "source": [
    "number1=int(input('Enter any number\\n'))\n",
    "\n",
    "for i in range(1,11):\n",
    "    print('%dX%d=%d'%(number1,i,number1*i))\n",
    "    "
   ]
  },
  {
   "cell_type": "markdown",
   "id": "261596ac",
   "metadata": {},
   "source": [
    "# Addition and average calculation in for loop"
   ]
  },
  {
   "cell_type": "code",
   "execution_count": 31,
   "id": "09e21a80",
   "metadata": {},
   "outputs": [
    {
     "name": "stdout",
     "output_type": "stream",
     "text": [
      "The total value of the numbers in the list is: 1880.053\n",
      "The average value of the numbers in the list is: 235.006625\n"
     ]
    }
   ],
   "source": [
    "# Take a list\n",
    "\n",
    "nlis=[0.577,2.718,3.14,1.618,1729,6,37,100]\n",
    "\n",
    "# Write a for addition\n",
    "count=0    #global variable\n",
    "for i in nlis:\n",
    "    count+=i\n",
    "print('The total value of the numbers in the list is:',count)\n",
    "print('The average value of the numbers in the list is:',count/len(nlis))"
   ]
  },
  {
   "cell_type": "markdown",
   "id": "ffe0e529",
   "metadata": {},
   "source": [
    "# break in for loop"
   ]
  },
  {
   "cell_type": "code",
   "execution_count": 35,
   "id": "3d0e8265",
   "metadata": {},
   "outputs": [
    {
     "name": "stdout",
     "output_type": "stream",
     "text": [
      "1\n",
      "2\n",
      "3\n",
      "4\n",
      "5\n",
      "6\n",
      "7\n",
      "8\n",
      "9\n",
      "10\n"
     ]
    }
   ],
   "source": [
    "# brak in for loop\n",
    "\n",
    "nlis=[1,2,3,4,5,6,7,8,9,10,11,12,13,14]\n",
    "\n",
    "for i in nlis:\n",
    "    if i==11:\n",
    "        break\n",
    "    print(i)\n"
   ]
  },
  {
   "cell_type": "markdown",
   "id": "9698172f",
   "metadata": {},
   "source": [
    "# Continue in for loop"
   ]
  },
  {
   "cell_type": "code",
   "execution_count": 37,
   "id": "0de54ded",
   "metadata": {},
   "outputs": [
    {
     "name": "stdout",
     "output_type": "stream",
     "text": [
      "1\n",
      "2\n",
      "3\n",
      "4\n",
      "5\n",
      "6\n",
      "7\n",
      "8\n",
      "10\n",
      "11\n",
      "12\n",
      "13\n",
      "14\n"
     ]
    }
   ],
   "source": [
    "nlis=[1,2,3,4,5,6,7,8,9,10,11,12,13,14]\n",
    "\n",
    "for i in nlis:\n",
    "    if i == 9:\n",
    "        continue\n",
    "    print(i)"
   ]
  },
  {
   "cell_type": "markdown",
   "id": "bb0baa59",
   "metadata": {},
   "source": [
    "# While loop\n",
    "\n",
    "\n",
    " __The While loop exists as a tool for repeated execution based on a condition. The code block will keep being executed until the given logical condition returns a False boolean value.__"
   ]
  },
  {
   "cell_type": "code",
   "execution_count": 1,
   "id": "25f48e62",
   "metadata": {},
   "outputs": [
    {
     "name": "stdout",
     "output_type": "stream",
     "text": [
      "22\n",
      "23\n",
      "24\n",
      "25\n",
      "26\n"
     ]
    }
   ],
   "source": [
    "# Take an example:\n",
    "\n",
    "i = 22\n",
    "while i<27:\n",
    "    print(i)\n",
    "    i+=1"
   ]
  },
  {
   "cell_type": "code",
   "execution_count": 2,
   "id": "4799eb5c",
   "metadata": {},
   "outputs": [
    {
     "name": "stdout",
     "output_type": "stream",
     "text": [
      "22\n",
      "21\n",
      "20\n",
      "19\n",
      "18\n",
      "17\n"
     ]
    }
   ],
   "source": [
    "# take an example\n",
    "\n",
    "\n",
    "i=22\n",
    "\n",
    "while i>=17:\n",
    "    print(i)\n",
    "    i-=1"
   ]
  },
  {
   "cell_type": "code",
   "execution_count": 6,
   "id": "42fbc906",
   "metadata": {},
   "outputs": [
    {
     "name": "stdout",
     "output_type": "stream",
     "text": [
      "Enter a number:\n",
      "19\n",
      "19X1=19\n",
      "19X2=38\n",
      "19X3=57\n",
      "19X4=76\n",
      "19X5=95\n",
      "19X6=114\n",
      "19X7=133\n",
      "19X8=152\n",
      "19X9=171\n",
      "19X10=190\n"
     ]
    }
   ],
   "source": [
    "num=int(input('Enter a number:\\n'))\n",
    "\n",
    "i = 1\n",
    "while i<=10:\n",
    "    print('%dX%d=%d'%(num,i,num*i))\n",
    "    i+=1"
   ]
  },
  {
   "cell_type": "markdown",
   "id": "c2efb03e",
   "metadata": {},
   "source": [
    "# for-else statement"
   ]
  },
  {
   "cell_type": "code",
   "execution_count": 9,
   "id": "c1d031dd",
   "metadata": {},
   "outputs": [
    {
     "name": "stdout",
     "output_type": "stream",
     "text": [
      "1 2 3 4 5 These are numbers from 1 to 5\n"
     ]
    }
   ],
   "source": [
    "for i in range(1,6):\n",
    "    print(i,end=' ')\n",
    "else:\n",
    "    print('These are numbers from 1 to 5')"
   ]
  },
  {
   "cell_type": "markdown",
   "id": "2503da4e",
   "metadata": {},
   "source": [
    "# While-else statement"
   ]
  },
  {
   "cell_type": "code",
   "execution_count": 14,
   "id": "b0548353",
   "metadata": {},
   "outputs": [
    {
     "name": "stdout",
     "output_type": "stream",
     "text": [
      "0 1 2 3 4 5 It gives us the numbers from 0 to 5\n"
     ]
    }
   ],
   "source": [
    "index=0\n",
    "while index<=5:\n",
    "    print(index,end=' ')\n",
    "    index+=1\n",
    "else:\n",
    "    print('It gives us the numbers from 0 to 5')"
   ]
  },
  {
   "cell_type": "markdown",
   "id": "af47e61d",
   "metadata": {},
   "source": [
    "# Continue in While loop"
   ]
  },
  {
   "cell_type": "code",
   "execution_count": 15,
   "id": "7ff1b3a5",
   "metadata": {
    "scrolled": true
   },
   "outputs": [
    {
     "name": "stdout",
     "output_type": "stream",
     "text": [
      "0\n",
      "1\n",
      "2\n",
      "3\n",
      "4\n",
      "5\n"
     ]
    }
   ],
   "source": [
    "i = 0\n",
    "\n",
    "while i<=5:\n",
    "    print(i)\n",
    "    i+=1\n",
    "    if i==3:\n",
    "        continue"
   ]
  },
  {
   "cell_type": "markdown",
   "id": "ac6a7aa4",
   "metadata": {},
   "source": [
    "# break in while loop"
   ]
  },
  {
   "cell_type": "code",
   "execution_count": 16,
   "id": "1032ef20",
   "metadata": {},
   "outputs": [
    {
     "name": "stdout",
     "output_type": "stream",
     "text": [
      "0\n",
      "1\n",
      "2\n"
     ]
    }
   ],
   "source": [
    "i = 0\n",
    "\n",
    "while i<=5:\n",
    "    print(i)\n",
    "    i+=1\n",
    "    if i==3:\n",
    "        break"
   ]
  },
  {
   "cell_type": "code",
   "execution_count": 17,
   "id": "3def9cf4",
   "metadata": {},
   "outputs": [
    {
     "name": "stdout",
     "output_type": "stream",
     "text": [
      "1\n",
      "2\n",
      "3\n",
      "4\n",
      "5\n",
      "6\n",
      "7\n",
      "8\n",
      "9\n",
      "10\n"
     ]
    }
   ],
   "source": [
    "# print the first 10 natural numbers using for loop.\n",
    "\n",
    "for i in range(1,11):\n",
    "    print(i)"
   ]
  },
  {
   "cell_type": "code",
   "execution_count": 18,
   "id": "7ce5ecf7",
   "metadata": {},
   "outputs": [
    {
     "name": "stdout",
     "output_type": "stream",
     "text": [
      "1\n",
      "2\n",
      "3\n",
      "4\n",
      "5\n",
      "6\n",
      "7\n",
      "8\n",
      "9\n",
      "10\n"
     ]
    }
   ],
   "source": [
    "given_range=11\n",
    "\n",
    "for i in range(1,given_range):\n",
    "    print(i)"
   ]
  },
  {
   "cell_type": "code",
   "execution_count": 19,
   "id": "87482ac5",
   "metadata": {},
   "outputs": [
    {
     "name": "stdout",
     "output_type": "stream",
     "text": [
      "2\n",
      "4\n",
      "6\n",
      "8\n",
      "10\n"
     ]
    }
   ],
   "source": [
    "# Write a program to print all the even numbers within the given range. i.e 10\n",
    "\n",
    "\n",
    "for i in range(2,11,2):\n",
    "    print(i)"
   ]
  },
  {
   "cell_type": "code",
   "execution_count": 21,
   "id": "0d44336f",
   "metadata": {},
   "outputs": [
    {
     "name": "stdout",
     "output_type": "stream",
     "text": [
      "0\n",
      "2\n",
      "4\n",
      "6\n",
      "8\n",
      "10\n"
     ]
    }
   ],
   "source": [
    "given_range= 11\n",
    "\n",
    "for i in range(given_range):\n",
    "    if i %2==0:\n",
    "        print(i)"
   ]
  },
  {
   "cell_type": "code",
   "execution_count": 22,
   "id": "3437c893",
   "metadata": {},
   "outputs": [
    {
     "name": "stdout",
     "output_type": "stream",
     "text": [
      "55\n"
     ]
    }
   ],
   "source": [
    "# Python program to calculate the sum of all numbers from 1 to 10.\n",
    "\n",
    "\n",
    "num=10\n",
    "sum=0\n",
    "\n",
    "for i in range(1,10+1):\n",
    "    sum+=i\n",
    "print(sum)"
   ]
  },
  {
   "cell_type": "code",
   "execution_count": 23,
   "id": "a0cb6235",
   "metadata": {},
   "outputs": [
    {
     "name": "stdout",
     "output_type": "stream",
     "text": [
      "25\n"
     ]
    }
   ],
   "source": [
    "# Write a program to calculate the sum of all the odd numbers within the given range 10\n",
    "\n",
    "\n",
    "sum=0\n",
    "for i in range(1,11,2):\n",
    "    sum+=i\n",
    "print(sum)"
   ]
  },
  {
   "cell_type": "code",
   "execution_count": 24,
   "id": "3bdfc342",
   "metadata": {},
   "outputs": [
    {
     "name": "stdout",
     "output_type": "stream",
     "text": [
      "25\n"
     ]
    }
   ],
   "source": [
    "num=10\n",
    "\n",
    "sum=0\n",
    "for i in range(num):\n",
    "    if i%2!=0:\n",
    "        sum+=i\n",
    "print(sum)"
   ]
  },
  {
   "cell_type": "code",
   "execution_count": 27,
   "id": "d050ff7c",
   "metadata": {},
   "outputs": [
    {
     "name": "stdout",
     "output_type": "stream",
     "text": [
      "1 2 4 6 8 10 88 125 190 "
     ]
    }
   ],
   "source": [
    "# Python program to display numbers from a list using for loop.[1,2,4,6,8,10,88,125,190]\n",
    "\n",
    "list1=[1,2,4,6,8,10,88,125,190]\n",
    "\n",
    "for i in list1:\n",
    "    print(i,end=' ')"
   ]
  },
  {
   "cell_type": "code",
   "execution_count": 30,
   "id": "e56ab20d",
   "metadata": {},
   "outputs": [
    {
     "name": "stdout",
     "output_type": "stream",
     "text": [
      "0 1\n",
      "1 2\n",
      "2 4\n",
      "3 6\n",
      "4 8\n",
      "5 10\n",
      "6 88\n",
      "7 125\n",
      "8 190\n"
     ]
    }
   ],
   "source": [
    "# Python program to count the total numner of digits in a number 1,2,4,6,8,10,88,125,190\n",
    "\n",
    "numbers=[1,2,4,6,8,10,88,125,190]\n",
    "\n",
    "for i in range(len(numbers)):\n",
    "    print(i,numbers[i])"
   ]
  },
  {
   "cell_type": "code",
   "execution_count": 8,
   "id": "b0b0f117",
   "metadata": {},
   "outputs": [
    {
     "name": "stdout",
     "output_type": "stream",
     "text": [
      "Maximum value is: 1002\n",
      "Minimum value is: 100.23\n",
      "Sum is: 6613.23\n",
      "Total value is: 6613.23\n",
      "Average value is: 734.8033333333333\n",
      "Median: 852\n"
     ]
    }
   ],
   "source": [
    "#find the max,min, total, average, median using for loop.  \n",
    "\n",
    "list1=[100.23,456,789,951,852,753,854,856,1002]\n",
    "sum1=0\n",
    "print('Maximum value is:',max(list1))\n",
    "print('Minimum value is:',min(list1))\n",
    "print('Sum is:',sum(list1))\n",
    "\n",
    "for i in list1:\n",
    "    sum1+=i\n",
    "print('Total value is:',sum1)\n",
    "print('Average value is:',sum1/len(list1))\n",
    "\n",
    "m=len(list1)//2\n",
    "print('Median:',list1[m])"
   ]
  },
  {
   "cell_type": "code",
   "execution_count": 9,
   "id": "63bfcb56",
   "metadata": {},
   "outputs": [
    {
     "name": "stdout",
     "output_type": "stream",
     "text": [
      "1 is an odd number\n",
      "2 is an even number\n",
      "3 is an odd number\n",
      "4 is an even number\n",
      "5 is an odd number\n",
      "6 is an even number\n",
      "7 is an odd number\n",
      "8 is an even number\n",
      "98 is an even number\n",
      "10 is an even number\n"
     ]
    }
   ],
   "source": [
    "# Write a program to count the even or odd number using for loop from the series.\n",
    "num= [1,2,3,4,5,6,7,8,98,10]\n",
    "\n",
    "for i in num:\n",
    "    if i%2==0:\n",
    "        print(i,'is an even number')\n",
    "    else:\n",
    "        print(i,'is an odd number')"
   ]
  },
  {
   "cell_type": "code",
   "execution_count": 13,
   "id": "07a5bee2",
   "metadata": {},
   "outputs": [
    {
     "name": "stdout",
     "output_type": "stream",
     "text": [
      "23\n",
      "29\n",
      "31\n",
      "37\n",
      "41\n",
      "43\n",
      "47\n"
     ]
    }
   ],
   "source": [
    "# Write a program to display all the prime numbers from 10 to 30.\n",
    "\n",
    "\n",
    "for i in range(20,50,1):\n",
    "    if i%2==0 or i%3==0 or i%5==0 or i%7==0:\n",
    "        continue\n",
    "    else:\n",
    "        print(i)"
   ]
  },
  {
   "cell_type": "code",
   "execution_count": 14,
   "id": "3308692e",
   "metadata": {},
   "outputs": [
    {
     "name": "stdout",
     "output_type": "stream",
     "text": [
      "The Sum of the first 10 Even numbers is: 30\n"
     ]
    }
   ],
   "source": [
    "# Write a python program to print the sum of first 10 Even numbers using while loop.\n",
    "i=0\n",
    "s=0\n",
    "while i<=10:\n",
    "    if i%2==0:\n",
    "        s+=i\n",
    "    i+=1\n",
    "print('The Sum of the first 10 Even numbers is:',s)  # 2,4,6,8,10"
   ]
  },
  {
   "cell_type": "code",
   "execution_count": 17,
   "id": "29c69c44",
   "metadata": {},
   "outputs": [
    {
     "name": "stdout",
     "output_type": "stream",
     "text": [
      "Enter first range:1\n",
      "Enter second range:50\n",
      "2\n",
      "4\n",
      "6\n",
      "8\n",
      "10\n",
      "12\n",
      "14\n",
      "16\n",
      "18\n",
      "20\n",
      "22\n",
      "24\n",
      "26\n",
      "28\n",
      "30\n",
      "32\n",
      "34\n",
      "36\n",
      "38\n",
      "40\n",
      "42\n",
      "44\n",
      "46\n",
      "48\n",
      "50\n"
     ]
    }
   ],
   "source": [
    "# Write a python program to print all the even numbers that falls between two user input:\n",
    "num1=int(input('Enter first range:'))\n",
    "num2=int(input('Enter second range:'))\n",
    "\n",
    "while (num1<num2+1):\n",
    "    if num1%2==0:\n",
    "        print(num1)\n",
    "    num1+=1"
   ]
  },
  {
   "cell_type": "code",
   "execution_count": 24,
   "id": "55e44732",
   "metadata": {},
   "outputs": [
    {
     "name": "stdout",
     "output_type": "stream",
     "text": [
      "Enter numbers to get sum:1234\n",
      "The total sum of the number is: 10\n"
     ]
    }
   ],
   "source": [
    "# Write a python program to find the sum of the digits of number accepted from the user.\n",
    "\n",
    "# 1234=10\n",
    "\n",
    "num1=int(input('Enter numbers to get sum:'))\n",
    "remainder=0\n",
    "sum1=0\n",
    "while num1>0:\n",
    "    remainder=num1%10\n",
    "    sum1=sum1+remainder\n",
    "    num1=num1//10\n",
    "print('The total sum of the number is:',sum1)"
   ]
  },
  {
   "cell_type": "code",
   "execution_count": 21,
   "id": "67a322cd",
   "metadata": {},
   "outputs": [
    {
     "data": {
      "text/plain": [
       "3"
      ]
     },
     "execution_count": 21,
     "metadata": {},
     "output_type": "execute_result"
    }
   ],
   "source": [
    "123%10"
   ]
  },
  {
   "cell_type": "code",
   "execution_count": 22,
   "id": "f8b9ef74",
   "metadata": {},
   "outputs": [
    {
     "data": {
      "text/plain": [
       "2"
      ]
     },
     "execution_count": 22,
     "metadata": {},
     "output_type": "execute_result"
    }
   ],
   "source": [
    "12%10"
   ]
  },
  {
   "cell_type": "code",
   "execution_count": 23,
   "id": "a55aee4e",
   "metadata": {},
   "outputs": [
    {
     "data": {
      "text/plain": [
       "1"
      ]
     },
     "execution_count": 23,
     "metadata": {},
     "output_type": "execute_result"
    }
   ],
   "source": [
    "1%10"
   ]
  },
  {
   "cell_type": "code",
   "execution_count": 25,
   "id": "6ee46e33",
   "metadata": {},
   "outputs": [
    {
     "data": {
      "text/plain": [
       "4"
      ]
     },
     "execution_count": 25,
     "metadata": {},
     "output_type": "execute_result"
    }
   ],
   "source": [
    "1234%10"
   ]
  },
  {
   "cell_type": "code",
   "execution_count": 26,
   "id": "497d05bf",
   "metadata": {},
   "outputs": [
    {
     "data": {
      "text/plain": [
       "3"
      ]
     },
     "execution_count": 26,
     "metadata": {},
     "output_type": "execute_result"
    }
   ],
   "source": [
    "123%10"
   ]
  },
  {
   "cell_type": "code",
   "execution_count": 27,
   "id": "3f7c43d0",
   "metadata": {},
   "outputs": [
    {
     "data": {
      "text/plain": [
       "2"
      ]
     },
     "execution_count": 27,
     "metadata": {},
     "output_type": "execute_result"
    }
   ],
   "source": [
    "12%10"
   ]
  },
  {
   "cell_type": "code",
   "execution_count": 28,
   "id": "93c1b6d0",
   "metadata": {},
   "outputs": [
    {
     "data": {
      "text/plain": [
       "1"
      ]
     },
     "execution_count": 28,
     "metadata": {},
     "output_type": "execute_result"
    }
   ],
   "source": [
    "1%10\n"
   ]
  },
  {
   "cell_type": "code",
   "execution_count": null,
   "id": "a55fc692",
   "metadata": {},
   "outputs": [],
   "source": []
  }
 ],
 "metadata": {
  "kernelspec": {
   "display_name": "Python 3 (ipykernel)",
   "language": "python",
   "name": "python3"
  },
  "language_info": {
   "codemirror_mode": {
    "name": "ipython",
    "version": 3
   },
   "file_extension": ".py",
   "mimetype": "text/x-python",
   "name": "python",
   "nbconvert_exporter": "python",
   "pygments_lexer": "ipython3",
   "version": "3.9.13"
  }
 },
 "nbformat": 4,
 "nbformat_minor": 5
}
