{
 "cells": [
  {
   "cell_type": "markdown",
   "id": "42101208",
   "metadata": {},
   "source": [
    "# 8. Loops in Python\n",
    "\n",
    "\n",
    " * __A for loop is used for iteration over a sequence (that is either a list, a tuple, a dictionary, a set, or a string).__\n",
    " * __This is less like the for keyword in other programming languages, and works more like an iterator method as found in other object-oriented programming languages.__\n",
    " * __With the for loop we can execute a set of statements, once for each item in list, tuple, set etc.__\n",
    " * __The for loops does not require an indexing variable to set beforehand.__\n",
    " * __With the while loop we can execute a set of statements as long as a condition is true.__\n",
    " * __Note: remember to increment i, or else the loop will continue forever.__\n",
    " * __The while loop requires relevant variables to be ready, in this example we need to define an indexing variable, i, which we set to 1/=.\n",
    " \n",
    "# range() function\n",
    "\n",
    " * __It is helpful to think of the range object as an ordered list.__\n",
    " * __To loop through a set of code a specified number of times, we can use the range() function.__\n",
    " * __The range() function returns a sequence of numbers, starting from 0 by default, and increments by 1 (by default), and ends at a specified number.__"
   ]
  },
  {
   "cell_type": "code",
   "execution_count": 1,
   "id": "248e37fd",
   "metadata": {},
   "outputs": [
    {
     "name": "stdout",
     "output_type": "stream",
     "text": [
      "range(0, 5)\n"
     ]
    }
   ],
   "source": [
    "print(range(5))"
   ]
  },
  {
   "cell_type": "code",
   "execution_count": 2,
   "id": "14040632",
   "metadata": {},
   "outputs": [
    {
     "name": "stdout",
     "output_type": "stream",
     "text": [
      "range(0, 10)\n"
     ]
    }
   ],
   "source": [
    "print(range(10))"
   ]
  },
  {
   "cell_type": "markdown",
   "id": "1d3e19fe",
   "metadata": {},
   "source": [
    "# for loop\n",
    "\n",
    " * __The for loop enables you to execute a code block multiple times.__"
   ]
  },
  {
   "cell_type": "code",
   "execution_count": 3,
   "id": "e80b0cd0",
   "metadata": {},
   "outputs": [
    {
     "name": "stdout",
     "output_type": "stream",
     "text": [
      "2005\n",
      "2006\n",
      "2007\n",
      "2008\n",
      "2009\n",
      "2010\n"
     ]
    }
   ],
   "source": [
    "years=[2005,2006,2007,2008,2009,2010]\n",
    "\n",
    "for i in years:\n",
    "    print(i)"
   ]
  },
  {
   "cell_type": "code",
   "execution_count": 4,
   "id": "6f7a8234",
   "metadata": {},
   "outputs": [
    {
     "name": "stdout",
     "output_type": "stream",
     "text": [
      "2005\n",
      "2006\n",
      "2007\n",
      "2008\n",
      "2009\n",
      "2010\n"
     ]
    }
   ],
   "source": [
    "for x in years:\n",
    "    print(x)"
   ]
  },
  {
   "cell_type": "code",
   "execution_count": 19,
   "id": "0f956788",
   "metadata": {},
   "outputs": [
    {
     "name": "stdout",
     "output_type": "stream",
     "text": [
      "0 2005\n",
      "1 2006\n",
      "2 2007\n",
      "3 2008\n",
      "4 2009\n",
      "5 2010\n"
     ]
    }
   ],
   "source": [
    "for i in range(len(years)):\n",
    "    print(i,years[i])"
   ]
  },
  {
   "cell_type": "code",
   "execution_count": 8,
   "id": "79e6a59b",
   "metadata": {},
   "outputs": [
    {
     "name": "stdout",
     "output_type": "stream",
     "text": [
      "1\n",
      "2\n",
      "3\n",
      "4\n",
      "5\n",
      "6\n",
      "7\n",
      "8\n",
      "9\n"
     ]
    }
   ],
   "source": [
    "# Another for loop example\n",
    "\n",
    "for i in range(1,10):\n",
    "    print(i)"
   ]
  },
  {
   "cell_type": "code",
   "execution_count": 12,
   "id": "700a8f60",
   "metadata": {},
   "outputs": [
    {
     "name": "stdout",
     "output_type": "stream",
     "text": [
      "30\n",
      "33\n",
      "36\n",
      "39\n",
      "42\n",
      "45\n",
      "48\n"
     ]
    }
   ],
   "source": [
    "for i in range(30,50,3):\n",
    "    print(i)"
   ]
  },
  {
   "cell_type": "code",
   "execution_count": 18,
   "id": "5c94d984",
   "metadata": {},
   "outputs": [
    {
     "name": "stdout",
     "output_type": "stream",
     "text": [
      "language is: 0 Java\n",
      "language is: 1 JavaScript\n",
      "language is: 2 C\n",
      "language is: 3 C++\n",
      "language is: 4 PHP\n"
     ]
    }
   ],
   "source": [
    "languages=['Java','JavaScript','C','C++','PHP']\n",
    "\n",
    "for i in range(len(languages)):\n",
    "    print('language is:',i,languages[i])"
   ]
  },
  {
   "cell_type": "code",
   "execution_count": 20,
   "id": "e93e2650",
   "metadata": {},
   "outputs": [
    {
     "name": "stdout",
     "output_type": "stream",
     "text": [
      "0 Java\n",
      "1 JavaScript\n",
      "2 C\n",
      "3 C++\n",
      "4 PHP\n"
     ]
    }
   ],
   "source": [
    "# another method\n",
    "\n",
    "for index, i in enumerate(languages):\n",
    "    print(index,i)"
   ]
  },
  {
   "cell_type": "code",
   "execution_count": 21,
   "id": "16455501",
   "metadata": {},
   "outputs": [
    {
     "name": "stdout",
     "output_type": "stream",
     "text": [
      "-3\n",
      "-2\n",
      "-1\n",
      "0\n",
      "1\n",
      "2\n",
      "3\n",
      "4\n",
      "5\n",
      "6\n"
     ]
    }
   ],
   "source": [
    "# To take numbers between -3 and 6 using for loop\n",
    "# use range() function\n",
    "\n",
    "for i in range(-3,7):\n",
    "    print(i)"
   ]
  },
  {
   "cell_type": "code",
   "execution_count": 24,
   "id": "8d397b95",
   "metadata": {},
   "outputs": [
    {
     "name": "stdout",
     "output_type": "stream",
     "text": [
      "Enter any number\n",
      "35\n",
      "35X1=35\n",
      "35X2=70\n",
      "35X3=105\n",
      "35X4=140\n",
      "35X5=175\n",
      "35X6=210\n",
      "35X7=245\n",
      "35X8=280\n",
      "35X9=315\n",
      "35X10=350\n"
     ]
    }
   ],
   "source": [
    "number1=int(input('Enter any number\\n'))\n",
    "\n",
    "for i in range(1,11):\n",
    "    print('%dX%d=%d'%(number1,i,number1*i))\n",
    "    "
   ]
  },
  {
   "cell_type": "markdown",
   "id": "261596ac",
   "metadata": {},
   "source": [
    "# Addition and average calculation in for loop"
   ]
  },
  {
   "cell_type": "code",
   "execution_count": 31,
   "id": "09e21a80",
   "metadata": {},
   "outputs": [
    {
     "name": "stdout",
     "output_type": "stream",
     "text": [
      "The total value of the numbers in the list is: 1880.053\n",
      "The average value of the numbers in the list is: 235.006625\n"
     ]
    }
   ],
   "source": [
    "# Take a list\n",
    "\n",
    "nlis=[0.577,2.718,3.14,1.618,1729,6,37,100]\n",
    "\n",
    "# Write a for addition\n",
    "count=0    #global variable\n",
    "for i in nlis:\n",
    "    count+=i\n",
    "print('The total value of the numbers in the list is:',count)\n",
    "print('The average value of the numbers in the list is:',count/len(nlis))"
   ]
  },
  {
   "cell_type": "markdown",
   "id": "ffe0e529",
   "metadata": {},
   "source": [
    "# break in for loop"
   ]
  },
  {
   "cell_type": "code",
   "execution_count": 35,
   "id": "3d0e8265",
   "metadata": {},
   "outputs": [
    {
     "name": "stdout",
     "output_type": "stream",
     "text": [
      "1\n",
      "2\n",
      "3\n",
      "4\n",
      "5\n",
      "6\n",
      "7\n",
      "8\n",
      "9\n",
      "10\n"
     ]
    }
   ],
   "source": [
    "# brak in for loop\n",
    "\n",
    "nlis=[1,2,3,4,5,6,7,8,9,10,11,12,13,14]\n",
    "\n",
    "for i in nlis:\n",
    "    if i==11:\n",
    "        break\n",
    "    print(i)\n"
   ]
  },
  {
   "cell_type": "markdown",
   "id": "9698172f",
   "metadata": {},
   "source": [
    "# Continue in for loop"
   ]
  },
  {
   "cell_type": "code",
   "execution_count": 37,
   "id": "0de54ded",
   "metadata": {},
   "outputs": [
    {
     "name": "stdout",
     "output_type": "stream",
     "text": [
      "1\n",
      "2\n",
      "3\n",
      "4\n",
      "5\n",
      "6\n",
      "7\n",
      "8\n",
      "10\n",
      "11\n",
      "12\n",
      "13\n",
      "14\n"
     ]
    }
   ],
   "source": [
    "nlis=[1,2,3,4,5,6,7,8,9,10,11,12,13,14]\n",
    "\n",
    "for i in nlis:\n",
    "    if i == 9:\n",
    "        continue\n",
    "    print(i)"
   ]
  },
  {
   "cell_type": "code",
   "execution_count": null,
   "id": "4efc8236",
   "metadata": {},
   "outputs": [],
   "source": []
  }
 ],
 "metadata": {
  "kernelspec": {
   "display_name": "Python 3 (ipykernel)",
   "language": "python",
   "name": "python3"
  },
  "language_info": {
   "codemirror_mode": {
    "name": "ipython",
    "version": 3
   },
   "file_extension": ".py",
   "mimetype": "text/x-python",
   "name": "python",
   "nbconvert_exporter": "python",
   "pygments_lexer": "ipython3",
   "version": "3.9.13"
  }
 },
 "nbformat": 4,
 "nbformat_minor": 5
}
